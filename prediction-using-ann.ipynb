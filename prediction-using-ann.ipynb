{
 "cells": [
  {
   "cell_type": "code",
   "execution_count": 1,
   "id": "b2d3d8fd",
   "metadata": {
    "_cell_guid": "b1076dfc-b9ad-4769-8c92-a6c4dae69d19",
    "_uuid": "8f2839f25d086af736a60e9eeb907d3b93b6e0e5",
    "execution": {
     "iopub.execute_input": "2024-07-02T09:28:59.441569Z",
     "iopub.status.busy": "2024-07-02T09:28:59.441115Z",
     "iopub.status.idle": "2024-07-02T09:29:00.549605Z",
     "shell.execute_reply": "2024-07-02T09:29:00.548247Z"
    },
    "papermill": {
     "duration": 1.126571,
     "end_time": "2024-07-02T09:29:00.552339",
     "exception": false,
     "start_time": "2024-07-02T09:28:59.425768",
     "status": "completed"
    },
    "tags": []
   },
   "outputs": [
    {
     "name": "stdout",
     "output_type": "stream",
     "text": [
      "/kaggle/input/credit-card-customer-churn-prediction/Churn_Modelling.csv\n"
     ]
    }
   ],
   "source": [
    "# This Python 3 environment comes with many helpful analytics libraries installed\n",
    "# It is defined by the kaggle/python Docker image: https://github.com/kaggle/docker-python\n",
    "# For example, here's several helpful packages to load\n",
    "\n",
    "import numpy as np # linear algebra\n",
    "import pandas as pd # data processing, CSV file I/O (e.g. pd.read_csv)\n",
    "\n",
    "# Input data files are available in the read-only \"../input/\" directory\n",
    "# For example, running this (by clicking run or pressing Shift+Enter) will list all files under the input directory\n",
    "\n",
    "import os\n",
    "for dirname, _, filenames in os.walk('/kaggle/input'):\n",
    "    for filename in filenames:\n",
    "        print(os.path.join(dirname, filename))\n",
    "\n",
    "# You can write up to 20GB to the current directory (/kaggle/working/) that gets preserved as output when you create a version using \"Save & Run All\" \n",
    "# You can also write temporary files to /kaggle/temp/, but they won't be saved outside of the current session"
   ]
  },
  {
   "cell_type": "code",
   "execution_count": 2,
   "id": "c6daeb71",
   "metadata": {
    "execution": {
     "iopub.execute_input": "2024-07-02T09:29:00.579941Z",
     "iopub.status.busy": "2024-07-02T09:29:00.578652Z",
     "iopub.status.idle": "2024-07-02T09:29:00.632889Z",
     "shell.execute_reply": "2024-07-02T09:29:00.631586Z"
    },
    "papermill": {
     "duration": 0.070318,
     "end_time": "2024-07-02T09:29:00.635604",
     "exception": false,
     "start_time": "2024-07-02T09:29:00.565286",
     "status": "completed"
    },
    "tags": []
   },
   "outputs": [],
   "source": [
    "df = pd.read_csv('/kaggle/input/credit-card-customer-churn-prediction/Churn_Modelling.csv')"
   ]
  },
  {
   "cell_type": "code",
   "execution_count": 3,
   "id": "ff985c71",
   "metadata": {
    "execution": {
     "iopub.execute_input": "2024-07-02T09:29:00.661066Z",
     "iopub.status.busy": "2024-07-02T09:29:00.660638Z",
     "iopub.status.idle": "2024-07-02T09:29:00.692791Z",
     "shell.execute_reply": "2024-07-02T09:29:00.691664Z"
    },
    "papermill": {
     "duration": 0.047846,
     "end_time": "2024-07-02T09:29:00.695433",
     "exception": false,
     "start_time": "2024-07-02T09:29:00.647587",
     "status": "completed"
    },
    "tags": []
   },
   "outputs": [
    {
     "data": {
      "text/html": [
       "<div>\n",
       "<style scoped>\n",
       "    .dataframe tbody tr th:only-of-type {\n",
       "        vertical-align: middle;\n",
       "    }\n",
       "\n",
       "    .dataframe tbody tr th {\n",
       "        vertical-align: top;\n",
       "    }\n",
       "\n",
       "    .dataframe thead th {\n",
       "        text-align: right;\n",
       "    }\n",
       "</style>\n",
       "<table border=\"1\" class=\"dataframe\">\n",
       "  <thead>\n",
       "    <tr style=\"text-align: right;\">\n",
       "      <th></th>\n",
       "      <th>RowNumber</th>\n",
       "      <th>CustomerId</th>\n",
       "      <th>Surname</th>\n",
       "      <th>CreditScore</th>\n",
       "      <th>Geography</th>\n",
       "      <th>Gender</th>\n",
       "      <th>Age</th>\n",
       "      <th>Tenure</th>\n",
       "      <th>Balance</th>\n",
       "      <th>NumOfProducts</th>\n",
       "      <th>HasCrCard</th>\n",
       "      <th>IsActiveMember</th>\n",
       "      <th>EstimatedSalary</th>\n",
       "      <th>Exited</th>\n",
       "    </tr>\n",
       "  </thead>\n",
       "  <tbody>\n",
       "    <tr>\n",
       "      <th>0</th>\n",
       "      <td>1</td>\n",
       "      <td>15634602</td>\n",
       "      <td>Hargrave</td>\n",
       "      <td>619</td>\n",
       "      <td>France</td>\n",
       "      <td>Female</td>\n",
       "      <td>42</td>\n",
       "      <td>2</td>\n",
       "      <td>0.00</td>\n",
       "      <td>1</td>\n",
       "      <td>1</td>\n",
       "      <td>1</td>\n",
       "      <td>101348.88</td>\n",
       "      <td>1</td>\n",
       "    </tr>\n",
       "    <tr>\n",
       "      <th>1</th>\n",
       "      <td>2</td>\n",
       "      <td>15647311</td>\n",
       "      <td>Hill</td>\n",
       "      <td>608</td>\n",
       "      <td>Spain</td>\n",
       "      <td>Female</td>\n",
       "      <td>41</td>\n",
       "      <td>1</td>\n",
       "      <td>83807.86</td>\n",
       "      <td>1</td>\n",
       "      <td>0</td>\n",
       "      <td>1</td>\n",
       "      <td>112542.58</td>\n",
       "      <td>0</td>\n",
       "    </tr>\n",
       "    <tr>\n",
       "      <th>2</th>\n",
       "      <td>3</td>\n",
       "      <td>15619304</td>\n",
       "      <td>Onio</td>\n",
       "      <td>502</td>\n",
       "      <td>France</td>\n",
       "      <td>Female</td>\n",
       "      <td>42</td>\n",
       "      <td>8</td>\n",
       "      <td>159660.80</td>\n",
       "      <td>3</td>\n",
       "      <td>1</td>\n",
       "      <td>0</td>\n",
       "      <td>113931.57</td>\n",
       "      <td>1</td>\n",
       "    </tr>\n",
       "    <tr>\n",
       "      <th>3</th>\n",
       "      <td>4</td>\n",
       "      <td>15701354</td>\n",
       "      <td>Boni</td>\n",
       "      <td>699</td>\n",
       "      <td>France</td>\n",
       "      <td>Female</td>\n",
       "      <td>39</td>\n",
       "      <td>1</td>\n",
       "      <td>0.00</td>\n",
       "      <td>2</td>\n",
       "      <td>0</td>\n",
       "      <td>0</td>\n",
       "      <td>93826.63</td>\n",
       "      <td>0</td>\n",
       "    </tr>\n",
       "    <tr>\n",
       "      <th>4</th>\n",
       "      <td>5</td>\n",
       "      <td>15737888</td>\n",
       "      <td>Mitchell</td>\n",
       "      <td>850</td>\n",
       "      <td>Spain</td>\n",
       "      <td>Female</td>\n",
       "      <td>43</td>\n",
       "      <td>2</td>\n",
       "      <td>125510.82</td>\n",
       "      <td>1</td>\n",
       "      <td>1</td>\n",
       "      <td>1</td>\n",
       "      <td>79084.10</td>\n",
       "      <td>0</td>\n",
       "    </tr>\n",
       "  </tbody>\n",
       "</table>\n",
       "</div>"
      ],
      "text/plain": [
       "   RowNumber  CustomerId   Surname  CreditScore Geography  Gender  Age  \\\n",
       "0          1    15634602  Hargrave          619    France  Female   42   \n",
       "1          2    15647311      Hill          608     Spain  Female   41   \n",
       "2          3    15619304      Onio          502    France  Female   42   \n",
       "3          4    15701354      Boni          699    France  Female   39   \n",
       "4          5    15737888  Mitchell          850     Spain  Female   43   \n",
       "\n",
       "   Tenure    Balance  NumOfProducts  HasCrCard  IsActiveMember  \\\n",
       "0       2       0.00              1          1               1   \n",
       "1       1   83807.86              1          0               1   \n",
       "2       8  159660.80              3          1               0   \n",
       "3       1       0.00              2          0               0   \n",
       "4       2  125510.82              1          1               1   \n",
       "\n",
       "   EstimatedSalary  Exited  \n",
       "0        101348.88       1  \n",
       "1        112542.58       0  \n",
       "2        113931.57       1  \n",
       "3         93826.63       0  \n",
       "4         79084.10       0  "
      ]
     },
     "execution_count": 3,
     "metadata": {},
     "output_type": "execute_result"
    }
   ],
   "source": [
    "df.head()"
   ]
  },
  {
   "cell_type": "code",
   "execution_count": 4,
   "id": "0993d4e4",
   "metadata": {
    "execution": {
     "iopub.execute_input": "2024-07-02T09:29:00.722257Z",
     "iopub.status.busy": "2024-07-02T09:29:00.721864Z",
     "iopub.status.idle": "2024-07-02T09:29:00.728919Z",
     "shell.execute_reply": "2024-07-02T09:29:00.727772Z"
    },
    "papermill": {
     "duration": 0.023343,
     "end_time": "2024-07-02T09:29:00.731216",
     "exception": false,
     "start_time": "2024-07-02T09:29:00.707873",
     "status": "completed"
    },
    "tags": []
   },
   "outputs": [
    {
     "data": {
      "text/plain": [
       "(10000, 14)"
      ]
     },
     "execution_count": 4,
     "metadata": {},
     "output_type": "execute_result"
    }
   ],
   "source": [
    "df.shape"
   ]
  },
  {
   "cell_type": "code",
   "execution_count": 5,
   "id": "7cc18e10",
   "metadata": {
    "execution": {
     "iopub.execute_input": "2024-07-02T09:29:00.757906Z",
     "iopub.status.busy": "2024-07-02T09:29:00.757447Z",
     "iopub.status.idle": "2024-07-02T09:29:00.787463Z",
     "shell.execute_reply": "2024-07-02T09:29:00.786367Z"
    },
    "papermill": {
     "duration": 0.047009,
     "end_time": "2024-07-02T09:29:00.790564",
     "exception": false,
     "start_time": "2024-07-02T09:29:00.743555",
     "status": "completed"
    },
    "tags": []
   },
   "outputs": [
    {
     "name": "stdout",
     "output_type": "stream",
     "text": [
      "<class 'pandas.core.frame.DataFrame'>\n",
      "RangeIndex: 10000 entries, 0 to 9999\n",
      "Data columns (total 14 columns):\n",
      " #   Column           Non-Null Count  Dtype  \n",
      "---  ------           --------------  -----  \n",
      " 0   RowNumber        10000 non-null  int64  \n",
      " 1   CustomerId       10000 non-null  int64  \n",
      " 2   Surname          10000 non-null  object \n",
      " 3   CreditScore      10000 non-null  int64  \n",
      " 4   Geography        10000 non-null  object \n",
      " 5   Gender           10000 non-null  object \n",
      " 6   Age              10000 non-null  int64  \n",
      " 7   Tenure           10000 non-null  int64  \n",
      " 8   Balance          10000 non-null  float64\n",
      " 9   NumOfProducts    10000 non-null  int64  \n",
      " 10  HasCrCard        10000 non-null  int64  \n",
      " 11  IsActiveMember   10000 non-null  int64  \n",
      " 12  EstimatedSalary  10000 non-null  float64\n",
      " 13  Exited           10000 non-null  int64  \n",
      "dtypes: float64(2), int64(9), object(3)\n",
      "memory usage: 1.1+ MB\n"
     ]
    }
   ],
   "source": [
    "df.info()"
   ]
  },
  {
   "cell_type": "code",
   "execution_count": 6,
   "id": "b8bcd3e1",
   "metadata": {
    "execution": {
     "iopub.execute_input": "2024-07-02T09:29:00.819598Z",
     "iopub.status.busy": "2024-07-02T09:29:00.818497Z",
     "iopub.status.idle": "2024-07-02T09:29:00.836027Z",
     "shell.execute_reply": "2024-07-02T09:29:00.834863Z"
    },
    "papermill": {
     "duration": 0.034767,
     "end_time": "2024-07-02T09:29:00.838807",
     "exception": false,
     "start_time": "2024-07-02T09:29:00.804040",
     "status": "completed"
    },
    "tags": []
   },
   "outputs": [
    {
     "data": {
      "text/plain": [
       "0"
      ]
     },
     "execution_count": 6,
     "metadata": {},
     "output_type": "execute_result"
    }
   ],
   "source": [
    "df.duplicated().sum()"
   ]
  },
  {
   "cell_type": "code",
   "execution_count": 7,
   "id": "6f0e1320",
   "metadata": {
    "execution": {
     "iopub.execute_input": "2024-07-02T09:29:00.867160Z",
     "iopub.status.busy": "2024-07-02T09:29:00.866202Z",
     "iopub.status.idle": "2024-07-02T09:29:00.877296Z",
     "shell.execute_reply": "2024-07-02T09:29:00.876091Z"
    },
    "papermill": {
     "duration": 0.028765,
     "end_time": "2024-07-02T09:29:00.880420",
     "exception": false,
     "start_time": "2024-07-02T09:29:00.851655",
     "status": "completed"
    },
    "tags": []
   },
   "outputs": [
    {
     "data": {
      "text/plain": [
       "Exited\n",
       "0    7963\n",
       "1    2037\n",
       "Name: count, dtype: int64"
      ]
     },
     "execution_count": 7,
     "metadata": {},
     "output_type": "execute_result"
    }
   ],
   "source": [
    "df['Exited'].value_counts()"
   ]
  },
  {
   "cell_type": "code",
   "execution_count": 8,
   "id": "5b34b1c5",
   "metadata": {
    "execution": {
     "iopub.execute_input": "2024-07-02T09:29:00.908598Z",
     "iopub.status.busy": "2024-07-02T09:29:00.908203Z",
     "iopub.status.idle": "2024-07-02T09:29:00.919108Z",
     "shell.execute_reply": "2024-07-02T09:29:00.917801Z"
    },
    "papermill": {
     "duration": 0.028281,
     "end_time": "2024-07-02T09:29:00.921528",
     "exception": false,
     "start_time": "2024-07-02T09:29:00.893247",
     "status": "completed"
    },
    "tags": []
   },
   "outputs": [
    {
     "data": {
      "text/plain": [
       "Geography\n",
       "France     5014\n",
       "Germany    2509\n",
       "Spain      2477\n",
       "Name: count, dtype: int64"
      ]
     },
     "execution_count": 8,
     "metadata": {},
     "output_type": "execute_result"
    }
   ],
   "source": [
    "df['Geography'].value_counts()"
   ]
  },
  {
   "cell_type": "code",
   "execution_count": 9,
   "id": "d443739f",
   "metadata": {
    "execution": {
     "iopub.execute_input": "2024-07-02T09:29:00.952915Z",
     "iopub.status.busy": "2024-07-02T09:29:00.952484Z",
     "iopub.status.idle": "2024-07-02T09:29:00.964121Z",
     "shell.execute_reply": "2024-07-02T09:29:00.962779Z"
    },
    "papermill": {
     "duration": 0.029689,
     "end_time": "2024-07-02T09:29:00.967233",
     "exception": false,
     "start_time": "2024-07-02T09:29:00.937544",
     "status": "completed"
    },
    "tags": []
   },
   "outputs": [
    {
     "data": {
      "text/plain": [
       "Gender\n",
       "Male      5457\n",
       "Female    4543\n",
       "Name: count, dtype: int64"
      ]
     },
     "execution_count": 9,
     "metadata": {},
     "output_type": "execute_result"
    }
   ],
   "source": [
    "df['Gender'].value_counts()"
   ]
  },
  {
   "cell_type": "code",
   "execution_count": 10,
   "id": "f0bcb5c7",
   "metadata": {
    "execution": {
     "iopub.execute_input": "2024-07-02T09:29:00.996736Z",
     "iopub.status.busy": "2024-07-02T09:29:00.996317Z",
     "iopub.status.idle": "2024-07-02T09:29:01.006263Z",
     "shell.execute_reply": "2024-07-02T09:29:01.005147Z"
    },
    "papermill": {
     "duration": 0.027744,
     "end_time": "2024-07-02T09:29:01.008985",
     "exception": false,
     "start_time": "2024-07-02T09:29:00.981241",
     "status": "completed"
    },
    "tags": []
   },
   "outputs": [],
   "source": [
    "df.drop(columns=['RowNumber','CustomerId','Surname'],inplace=True)"
   ]
  },
  {
   "cell_type": "markdown",
   "id": "1c56fc7a",
   "metadata": {
    "papermill": {
     "duration": 0.013012,
     "end_time": "2024-07-02T09:29:01.035260",
     "exception": false,
     "start_time": "2024-07-02T09:29:01.022248",
     "status": "completed"
    },
    "tags": []
   },
   "source": [
    "**Converting categorical value to numerical vlaue**"
   ]
  },
  {
   "cell_type": "code",
   "execution_count": 11,
   "id": "af2fa740",
   "metadata": {
    "execution": {
     "iopub.execute_input": "2024-07-02T09:29:01.063970Z",
     "iopub.status.busy": "2024-07-02T09:29:01.062981Z",
     "iopub.status.idle": "2024-07-02T09:29:01.076457Z",
     "shell.execute_reply": "2024-07-02T09:29:01.075403Z"
    },
    "papermill": {
     "duration": 0.030976,
     "end_time": "2024-07-02T09:29:01.079413",
     "exception": false,
     "start_time": "2024-07-02T09:29:01.048437",
     "status": "completed"
    },
    "tags": []
   },
   "outputs": [],
   "source": [
    "df = pd.get_dummies(df,columns=['Geography','Gender'],drop_first=True)"
   ]
  },
  {
   "cell_type": "code",
   "execution_count": 12,
   "id": "4360ff2a",
   "metadata": {
    "execution": {
     "iopub.execute_input": "2024-07-02T09:29:01.107503Z",
     "iopub.status.busy": "2024-07-02T09:29:01.107122Z",
     "iopub.status.idle": "2024-07-02T09:29:01.129839Z",
     "shell.execute_reply": "2024-07-02T09:29:01.128643Z"
    },
    "papermill": {
     "duration": 0.039659,
     "end_time": "2024-07-02T09:29:01.132581",
     "exception": false,
     "start_time": "2024-07-02T09:29:01.092922",
     "status": "completed"
    },
    "tags": []
   },
   "outputs": [
    {
     "data": {
      "text/html": [
       "<div>\n",
       "<style scoped>\n",
       "    .dataframe tbody tr th:only-of-type {\n",
       "        vertical-align: middle;\n",
       "    }\n",
       "\n",
       "    .dataframe tbody tr th {\n",
       "        vertical-align: top;\n",
       "    }\n",
       "\n",
       "    .dataframe thead th {\n",
       "        text-align: right;\n",
       "    }\n",
       "</style>\n",
       "<table border=\"1\" class=\"dataframe\">\n",
       "  <thead>\n",
       "    <tr style=\"text-align: right;\">\n",
       "      <th></th>\n",
       "      <th>CreditScore</th>\n",
       "      <th>Age</th>\n",
       "      <th>Tenure</th>\n",
       "      <th>Balance</th>\n",
       "      <th>NumOfProducts</th>\n",
       "      <th>HasCrCard</th>\n",
       "      <th>IsActiveMember</th>\n",
       "      <th>EstimatedSalary</th>\n",
       "      <th>Exited</th>\n",
       "      <th>Geography_Germany</th>\n",
       "      <th>Geography_Spain</th>\n",
       "      <th>Gender_Male</th>\n",
       "    </tr>\n",
       "  </thead>\n",
       "  <tbody>\n",
       "    <tr>\n",
       "      <th>0</th>\n",
       "      <td>619</td>\n",
       "      <td>42</td>\n",
       "      <td>2</td>\n",
       "      <td>0.00</td>\n",
       "      <td>1</td>\n",
       "      <td>1</td>\n",
       "      <td>1</td>\n",
       "      <td>101348.88</td>\n",
       "      <td>1</td>\n",
       "      <td>False</td>\n",
       "      <td>False</td>\n",
       "      <td>False</td>\n",
       "    </tr>\n",
       "    <tr>\n",
       "      <th>1</th>\n",
       "      <td>608</td>\n",
       "      <td>41</td>\n",
       "      <td>1</td>\n",
       "      <td>83807.86</td>\n",
       "      <td>1</td>\n",
       "      <td>0</td>\n",
       "      <td>1</td>\n",
       "      <td>112542.58</td>\n",
       "      <td>0</td>\n",
       "      <td>False</td>\n",
       "      <td>True</td>\n",
       "      <td>False</td>\n",
       "    </tr>\n",
       "    <tr>\n",
       "      <th>2</th>\n",
       "      <td>502</td>\n",
       "      <td>42</td>\n",
       "      <td>8</td>\n",
       "      <td>159660.80</td>\n",
       "      <td>3</td>\n",
       "      <td>1</td>\n",
       "      <td>0</td>\n",
       "      <td>113931.57</td>\n",
       "      <td>1</td>\n",
       "      <td>False</td>\n",
       "      <td>False</td>\n",
       "      <td>False</td>\n",
       "    </tr>\n",
       "    <tr>\n",
       "      <th>3</th>\n",
       "      <td>699</td>\n",
       "      <td>39</td>\n",
       "      <td>1</td>\n",
       "      <td>0.00</td>\n",
       "      <td>2</td>\n",
       "      <td>0</td>\n",
       "      <td>0</td>\n",
       "      <td>93826.63</td>\n",
       "      <td>0</td>\n",
       "      <td>False</td>\n",
       "      <td>False</td>\n",
       "      <td>False</td>\n",
       "    </tr>\n",
       "    <tr>\n",
       "      <th>4</th>\n",
       "      <td>850</td>\n",
       "      <td>43</td>\n",
       "      <td>2</td>\n",
       "      <td>125510.82</td>\n",
       "      <td>1</td>\n",
       "      <td>1</td>\n",
       "      <td>1</td>\n",
       "      <td>79084.10</td>\n",
       "      <td>0</td>\n",
       "      <td>False</td>\n",
       "      <td>True</td>\n",
       "      <td>False</td>\n",
       "    </tr>\n",
       "    <tr>\n",
       "      <th>...</th>\n",
       "      <td>...</td>\n",
       "      <td>...</td>\n",
       "      <td>...</td>\n",
       "      <td>...</td>\n",
       "      <td>...</td>\n",
       "      <td>...</td>\n",
       "      <td>...</td>\n",
       "      <td>...</td>\n",
       "      <td>...</td>\n",
       "      <td>...</td>\n",
       "      <td>...</td>\n",
       "      <td>...</td>\n",
       "    </tr>\n",
       "    <tr>\n",
       "      <th>9995</th>\n",
       "      <td>771</td>\n",
       "      <td>39</td>\n",
       "      <td>5</td>\n",
       "      <td>0.00</td>\n",
       "      <td>2</td>\n",
       "      <td>1</td>\n",
       "      <td>0</td>\n",
       "      <td>96270.64</td>\n",
       "      <td>0</td>\n",
       "      <td>False</td>\n",
       "      <td>False</td>\n",
       "      <td>True</td>\n",
       "    </tr>\n",
       "    <tr>\n",
       "      <th>9996</th>\n",
       "      <td>516</td>\n",
       "      <td>35</td>\n",
       "      <td>10</td>\n",
       "      <td>57369.61</td>\n",
       "      <td>1</td>\n",
       "      <td>1</td>\n",
       "      <td>1</td>\n",
       "      <td>101699.77</td>\n",
       "      <td>0</td>\n",
       "      <td>False</td>\n",
       "      <td>False</td>\n",
       "      <td>True</td>\n",
       "    </tr>\n",
       "    <tr>\n",
       "      <th>9997</th>\n",
       "      <td>709</td>\n",
       "      <td>36</td>\n",
       "      <td>7</td>\n",
       "      <td>0.00</td>\n",
       "      <td>1</td>\n",
       "      <td>0</td>\n",
       "      <td>1</td>\n",
       "      <td>42085.58</td>\n",
       "      <td>1</td>\n",
       "      <td>False</td>\n",
       "      <td>False</td>\n",
       "      <td>False</td>\n",
       "    </tr>\n",
       "    <tr>\n",
       "      <th>9998</th>\n",
       "      <td>772</td>\n",
       "      <td>42</td>\n",
       "      <td>3</td>\n",
       "      <td>75075.31</td>\n",
       "      <td>2</td>\n",
       "      <td>1</td>\n",
       "      <td>0</td>\n",
       "      <td>92888.52</td>\n",
       "      <td>1</td>\n",
       "      <td>True</td>\n",
       "      <td>False</td>\n",
       "      <td>True</td>\n",
       "    </tr>\n",
       "    <tr>\n",
       "      <th>9999</th>\n",
       "      <td>792</td>\n",
       "      <td>28</td>\n",
       "      <td>4</td>\n",
       "      <td>130142.79</td>\n",
       "      <td>1</td>\n",
       "      <td>1</td>\n",
       "      <td>0</td>\n",
       "      <td>38190.78</td>\n",
       "      <td>0</td>\n",
       "      <td>False</td>\n",
       "      <td>False</td>\n",
       "      <td>False</td>\n",
       "    </tr>\n",
       "  </tbody>\n",
       "</table>\n",
       "<p>10000 rows × 12 columns</p>\n",
       "</div>"
      ],
      "text/plain": [
       "      CreditScore  Age  Tenure    Balance  NumOfProducts  HasCrCard  \\\n",
       "0             619   42       2       0.00              1          1   \n",
       "1             608   41       1   83807.86              1          0   \n",
       "2             502   42       8  159660.80              3          1   \n",
       "3             699   39       1       0.00              2          0   \n",
       "4             850   43       2  125510.82              1          1   \n",
       "...           ...  ...     ...        ...            ...        ...   \n",
       "9995          771   39       5       0.00              2          1   \n",
       "9996          516   35      10   57369.61              1          1   \n",
       "9997          709   36       7       0.00              1          0   \n",
       "9998          772   42       3   75075.31              2          1   \n",
       "9999          792   28       4  130142.79              1          1   \n",
       "\n",
       "      IsActiveMember  EstimatedSalary  Exited  Geography_Germany  \\\n",
       "0                  1        101348.88       1              False   \n",
       "1                  1        112542.58       0              False   \n",
       "2                  0        113931.57       1              False   \n",
       "3                  0         93826.63       0              False   \n",
       "4                  1         79084.10       0              False   \n",
       "...              ...              ...     ...                ...   \n",
       "9995               0         96270.64       0              False   \n",
       "9996               1        101699.77       0              False   \n",
       "9997               1         42085.58       1              False   \n",
       "9998               0         92888.52       1               True   \n",
       "9999               0         38190.78       0              False   \n",
       "\n",
       "      Geography_Spain  Gender_Male  \n",
       "0               False        False  \n",
       "1                True        False  \n",
       "2               False        False  \n",
       "3               False        False  \n",
       "4                True        False  \n",
       "...               ...          ...  \n",
       "9995            False         True  \n",
       "9996            False         True  \n",
       "9997            False        False  \n",
       "9998            False         True  \n",
       "9999            False        False  \n",
       "\n",
       "[10000 rows x 12 columns]"
      ]
     },
     "execution_count": 12,
     "metadata": {},
     "output_type": "execute_result"
    }
   ],
   "source": [
    "df"
   ]
  },
  {
   "cell_type": "code",
   "execution_count": 13,
   "id": "7bcb485e",
   "metadata": {
    "execution": {
     "iopub.execute_input": "2024-07-02T09:29:01.162058Z",
     "iopub.status.busy": "2024-07-02T09:29:01.161648Z",
     "iopub.status.idle": "2024-07-02T09:29:01.168427Z",
     "shell.execute_reply": "2024-07-02T09:29:01.167319Z"
    },
    "papermill": {
     "duration": 0.024763,
     "end_time": "2024-07-02T09:29:01.170947",
     "exception": false,
     "start_time": "2024-07-02T09:29:01.146184",
     "status": "completed"
    },
    "tags": []
   },
   "outputs": [],
   "source": [
    "X= df.drop(columns=['Exited'])\n",
    "y = df['Exited']"
   ]
  },
  {
   "cell_type": "markdown",
   "id": "29b31dad",
   "metadata": {
    "papermill": {
     "duration": 0.012884,
     "end_time": "2024-07-02T09:29:01.197521",
     "exception": false,
     "start_time": "2024-07-02T09:29:01.184637",
     "status": "completed"
    },
    "tags": []
   },
   "source": [
    "**Scaling values**"
   ]
  },
  {
   "cell_type": "code",
   "execution_count": 14,
   "id": "eed1c3f6",
   "metadata": {
    "execution": {
     "iopub.execute_input": "2024-07-02T09:29:01.226247Z",
     "iopub.status.busy": "2024-07-02T09:29:01.225435Z",
     "iopub.status.idle": "2024-07-02T09:29:02.783685Z",
     "shell.execute_reply": "2024-07-02T09:29:02.782442Z"
    },
    "papermill": {
     "duration": 1.575572,
     "end_time": "2024-07-02T09:29:02.786558",
     "exception": false,
     "start_time": "2024-07-02T09:29:01.210986",
     "status": "completed"
    },
    "tags": []
   },
   "outputs": [],
   "source": [
    "from sklearn.model_selection import train_test_split\n",
    "X_train,X_test,y_train,y_test = train_test_split(X,y,test_size=0.2,random_state=43)"
   ]
  },
  {
   "cell_type": "code",
   "execution_count": 15,
   "id": "b08d3014",
   "metadata": {
    "execution": {
     "iopub.execute_input": "2024-07-02T09:29:02.815264Z",
     "iopub.status.busy": "2024-07-02T09:29:02.814860Z",
     "iopub.status.idle": "2024-07-02T09:29:02.836959Z",
     "shell.execute_reply": "2024-07-02T09:29:02.835868Z"
    },
    "papermill": {
     "duration": 0.039107,
     "end_time": "2024-07-02T09:29:02.839313",
     "exception": false,
     "start_time": "2024-07-02T09:29:02.800206",
     "status": "completed"
    },
    "tags": []
   },
   "outputs": [
    {
     "data": {
      "text/html": [
       "<div>\n",
       "<style scoped>\n",
       "    .dataframe tbody tr th:only-of-type {\n",
       "        vertical-align: middle;\n",
       "    }\n",
       "\n",
       "    .dataframe tbody tr th {\n",
       "        vertical-align: top;\n",
       "    }\n",
       "\n",
       "    .dataframe thead th {\n",
       "        text-align: right;\n",
       "    }\n",
       "</style>\n",
       "<table border=\"1\" class=\"dataframe\">\n",
       "  <thead>\n",
       "    <tr style=\"text-align: right;\">\n",
       "      <th></th>\n",
       "      <th>CreditScore</th>\n",
       "      <th>Age</th>\n",
       "      <th>Tenure</th>\n",
       "      <th>Balance</th>\n",
       "      <th>NumOfProducts</th>\n",
       "      <th>HasCrCard</th>\n",
       "      <th>IsActiveMember</th>\n",
       "      <th>EstimatedSalary</th>\n",
       "      <th>Geography_Germany</th>\n",
       "      <th>Geography_Spain</th>\n",
       "      <th>Gender_Male</th>\n",
       "    </tr>\n",
       "  </thead>\n",
       "  <tbody>\n",
       "    <tr>\n",
       "      <th>6100</th>\n",
       "      <td>796</td>\n",
       "      <td>30</td>\n",
       "      <td>2</td>\n",
       "      <td>137262.71</td>\n",
       "      <td>2</td>\n",
       "      <td>1</td>\n",
       "      <td>0</td>\n",
       "      <td>62905.29</td>\n",
       "      <td>False</td>\n",
       "      <td>False</td>\n",
       "      <td>True</td>\n",
       "    </tr>\n",
       "    <tr>\n",
       "      <th>4860</th>\n",
       "      <td>748</td>\n",
       "      <td>36</td>\n",
       "      <td>4</td>\n",
       "      <td>141573.55</td>\n",
       "      <td>1</td>\n",
       "      <td>1</td>\n",
       "      <td>0</td>\n",
       "      <td>82158.14</td>\n",
       "      <td>False</td>\n",
       "      <td>True</td>\n",
       "      <td>True</td>\n",
       "    </tr>\n",
       "    <tr>\n",
       "      <th>4401</th>\n",
       "      <td>845</td>\n",
       "      <td>38</td>\n",
       "      <td>2</td>\n",
       "      <td>112803.92</td>\n",
       "      <td>1</td>\n",
       "      <td>1</td>\n",
       "      <td>0</td>\n",
       "      <td>179631.85</td>\n",
       "      <td>False</td>\n",
       "      <td>True</td>\n",
       "      <td>False</td>\n",
       "    </tr>\n",
       "    <tr>\n",
       "      <th>1416</th>\n",
       "      <td>585</td>\n",
       "      <td>33</td>\n",
       "      <td>8</td>\n",
       "      <td>0.00</td>\n",
       "      <td>2</td>\n",
       "      <td>1</td>\n",
       "      <td>0</td>\n",
       "      <td>114182.07</td>\n",
       "      <td>False</td>\n",
       "      <td>True</td>\n",
       "      <td>False</td>\n",
       "    </tr>\n",
       "    <tr>\n",
       "      <th>8620</th>\n",
       "      <td>768</td>\n",
       "      <td>40</td>\n",
       "      <td>8</td>\n",
       "      <td>0.00</td>\n",
       "      <td>2</td>\n",
       "      <td>0</td>\n",
       "      <td>1</td>\n",
       "      <td>69080.46</td>\n",
       "      <td>False</td>\n",
       "      <td>False</td>\n",
       "      <td>False</td>\n",
       "    </tr>\n",
       "    <tr>\n",
       "      <th>...</th>\n",
       "      <td>...</td>\n",
       "      <td>...</td>\n",
       "      <td>...</td>\n",
       "      <td>...</td>\n",
       "      <td>...</td>\n",
       "      <td>...</td>\n",
       "      <td>...</td>\n",
       "      <td>...</td>\n",
       "      <td>...</td>\n",
       "      <td>...</td>\n",
       "      <td>...</td>\n",
       "    </tr>\n",
       "    <tr>\n",
       "      <th>8499</th>\n",
       "      <td>498</td>\n",
       "      <td>35</td>\n",
       "      <td>2</td>\n",
       "      <td>121968.11</td>\n",
       "      <td>2</td>\n",
       "      <td>0</td>\n",
       "      <td>1</td>\n",
       "      <td>188343.05</td>\n",
       "      <td>True</td>\n",
       "      <td>False</td>\n",
       "      <td>True</td>\n",
       "    </tr>\n",
       "    <tr>\n",
       "      <th>2064</th>\n",
       "      <td>765</td>\n",
       "      <td>44</td>\n",
       "      <td>6</td>\n",
       "      <td>0.00</td>\n",
       "      <td>2</td>\n",
       "      <td>1</td>\n",
       "      <td>1</td>\n",
       "      <td>159899.97</td>\n",
       "      <td>False</td>\n",
       "      <td>False</td>\n",
       "      <td>True</td>\n",
       "    </tr>\n",
       "    <tr>\n",
       "      <th>7985</th>\n",
       "      <td>696</td>\n",
       "      <td>27</td>\n",
       "      <td>2</td>\n",
       "      <td>96129.32</td>\n",
       "      <td>2</td>\n",
       "      <td>1</td>\n",
       "      <td>1</td>\n",
       "      <td>5983.70</td>\n",
       "      <td>True</td>\n",
       "      <td>False</td>\n",
       "      <td>False</td>\n",
       "    </tr>\n",
       "    <tr>\n",
       "      <th>2303</th>\n",
       "      <td>714</td>\n",
       "      <td>45</td>\n",
       "      <td>0</td>\n",
       "      <td>124693.48</td>\n",
       "      <td>1</td>\n",
       "      <td>0</td>\n",
       "      <td>1</td>\n",
       "      <td>187194.15</td>\n",
       "      <td>False</td>\n",
       "      <td>True</td>\n",
       "      <td>True</td>\n",
       "    </tr>\n",
       "    <tr>\n",
       "      <th>3392</th>\n",
       "      <td>623</td>\n",
       "      <td>33</td>\n",
       "      <td>8</td>\n",
       "      <td>96759.42</td>\n",
       "      <td>1</td>\n",
       "      <td>1</td>\n",
       "      <td>1</td>\n",
       "      <td>174777.98</td>\n",
       "      <td>True</td>\n",
       "      <td>False</td>\n",
       "      <td>True</td>\n",
       "    </tr>\n",
       "  </tbody>\n",
       "</table>\n",
       "<p>8000 rows × 11 columns</p>\n",
       "</div>"
      ],
      "text/plain": [
       "      CreditScore  Age  Tenure    Balance  NumOfProducts  HasCrCard  \\\n",
       "6100          796   30       2  137262.71              2          1   \n",
       "4860          748   36       4  141573.55              1          1   \n",
       "4401          845   38       2  112803.92              1          1   \n",
       "1416          585   33       8       0.00              2          1   \n",
       "8620          768   40       8       0.00              2          0   \n",
       "...           ...  ...     ...        ...            ...        ...   \n",
       "8499          498   35       2  121968.11              2          0   \n",
       "2064          765   44       6       0.00              2          1   \n",
       "7985          696   27       2   96129.32              2          1   \n",
       "2303          714   45       0  124693.48              1          0   \n",
       "3392          623   33       8   96759.42              1          1   \n",
       "\n",
       "      IsActiveMember  EstimatedSalary  Geography_Germany  Geography_Spain  \\\n",
       "6100               0         62905.29              False            False   \n",
       "4860               0         82158.14              False             True   \n",
       "4401               0        179631.85              False             True   \n",
       "1416               0        114182.07              False             True   \n",
       "8620               1         69080.46              False            False   \n",
       "...              ...              ...                ...              ...   \n",
       "8499               1        188343.05               True            False   \n",
       "2064               1        159899.97              False            False   \n",
       "7985               1          5983.70               True            False   \n",
       "2303               1        187194.15              False             True   \n",
       "3392               1        174777.98               True            False   \n",
       "\n",
       "      Gender_Male  \n",
       "6100         True  \n",
       "4860         True  \n",
       "4401        False  \n",
       "1416        False  \n",
       "8620        False  \n",
       "...           ...  \n",
       "8499         True  \n",
       "2064         True  \n",
       "7985        False  \n",
       "2303         True  \n",
       "3392         True  \n",
       "\n",
       "[8000 rows x 11 columns]"
      ]
     },
     "execution_count": 15,
     "metadata": {},
     "output_type": "execute_result"
    }
   ],
   "source": [
    "X_train"
   ]
  },
  {
   "cell_type": "code",
   "execution_count": 16,
   "id": "2e32d7b8",
   "metadata": {
    "execution": {
     "iopub.execute_input": "2024-07-02T09:29:02.869532Z",
     "iopub.status.busy": "2024-07-02T09:29:02.868668Z",
     "iopub.status.idle": "2024-07-02T09:29:02.877441Z",
     "shell.execute_reply": "2024-07-02T09:29:02.876190Z"
    },
    "papermill": {
     "duration": 0.026751,
     "end_time": "2024-07-02T09:29:02.880069",
     "exception": false,
     "start_time": "2024-07-02T09:29:02.853318",
     "status": "completed"
    },
    "tags": []
   },
   "outputs": [
    {
     "data": {
      "text/plain": [
       "6100    0\n",
       "4860    0\n",
       "4401    0\n",
       "1416    0\n",
       "8620    0\n",
       "       ..\n",
       "8499    0\n",
       "2064    0\n",
       "7985    0\n",
       "2303    0\n",
       "3392    0\n",
       "Name: Exited, Length: 8000, dtype: int64"
      ]
     },
     "execution_count": 16,
     "metadata": {},
     "output_type": "execute_result"
    }
   ],
   "source": [
    "y_train"
   ]
  },
  {
   "cell_type": "code",
   "execution_count": 17,
   "id": "23502061",
   "metadata": {
    "execution": {
     "iopub.execute_input": "2024-07-02T09:29:02.909831Z",
     "iopub.status.busy": "2024-07-02T09:29:02.909413Z",
     "iopub.status.idle": "2024-07-02T09:29:02.916373Z",
     "shell.execute_reply": "2024-07-02T09:29:02.915260Z"
    },
    "papermill": {
     "duration": 0.024937,
     "end_time": "2024-07-02T09:29:02.919128",
     "exception": false,
     "start_time": "2024-07-02T09:29:02.894191",
     "status": "completed"
    },
    "tags": []
   },
   "outputs": [
    {
     "data": {
      "text/plain": [
       "(8000, 11)"
      ]
     },
     "execution_count": 17,
     "metadata": {},
     "output_type": "execute_result"
    }
   ],
   "source": [
    "X_train.shape"
   ]
  },
  {
   "cell_type": "code",
   "execution_count": 18,
   "id": "ce310d3b",
   "metadata": {
    "execution": {
     "iopub.execute_input": "2024-07-02T09:29:02.952865Z",
     "iopub.status.busy": "2024-07-02T09:29:02.951760Z",
     "iopub.status.idle": "2024-07-02T09:29:02.975935Z",
     "shell.execute_reply": "2024-07-02T09:29:02.974625Z"
    },
    "papermill": {
     "duration": 0.045665,
     "end_time": "2024-07-02T09:29:02.979223",
     "exception": false,
     "start_time": "2024-07-02T09:29:02.933558",
     "status": "completed"
    },
    "tags": []
   },
   "outputs": [],
   "source": [
    "from sklearn.preprocessing import StandardScaler\n",
    "scaler = StandardScaler()\n",
    "\n",
    "X_train_scaled = scaler.fit_transform(X_train)\n",
    "X_test_scaled = scaler.transform(X_test)"
   ]
  },
  {
   "cell_type": "code",
   "execution_count": 19,
   "id": "e10f4bd9",
   "metadata": {
    "execution": {
     "iopub.execute_input": "2024-07-02T09:29:03.011813Z",
     "iopub.status.busy": "2024-07-02T09:29:03.011351Z",
     "iopub.status.idle": "2024-07-02T09:29:03.020014Z",
     "shell.execute_reply": "2024-07-02T09:29:03.018851Z"
    },
    "papermill": {
     "duration": 0.02873,
     "end_time": "2024-07-02T09:29:03.022712",
     "exception": false,
     "start_time": "2024-07-02T09:29:02.993982",
     "status": "completed"
    },
    "tags": []
   },
   "outputs": [
    {
     "data": {
      "text/plain": [
       "array([[ 1.22800887,  0.37771592, -1.03980536, ...,  1.73262835,\n",
       "        -0.57850497, -1.1094584 ],\n",
       "       [ 0.44129234, -0.57161721,  1.37774427, ..., -0.57715782,\n",
       "        -0.57850497,  0.90134069],\n",
       "       [ 0.34812854,  3.22571532,  1.03238003, ..., -0.57715782,\n",
       "        -0.57850497, -1.1094584 ],\n",
       "       ...,\n",
       "       [-0.47999413, -0.76148384,  1.03238003, ..., -0.57715782,\n",
       "        -0.57850497,  0.90134069],\n",
       "       [ 0.3688316 ,  0.09291598,  0.6870158 , ..., -0.57715782,\n",
       "        -0.57850497, -1.1094584 ],\n",
       "       [-0.47999413,  0.66251586, -1.03980536, ..., -0.57715782,\n",
       "         1.72859362,  0.90134069]])"
      ]
     },
     "execution_count": 19,
     "metadata": {},
     "output_type": "execute_result"
    }
   ],
   "source": [
    "X_test_scaled"
   ]
  },
  {
   "cell_type": "code",
   "execution_count": 20,
   "id": "afbcdd1a",
   "metadata": {
    "execution": {
     "iopub.execute_input": "2024-07-02T09:29:03.054564Z",
     "iopub.status.busy": "2024-07-02T09:29:03.053530Z",
     "iopub.status.idle": "2024-07-02T09:29:03.061687Z",
     "shell.execute_reply": "2024-07-02T09:29:03.060456Z"
    },
    "papermill": {
     "duration": 0.026346,
     "end_time": "2024-07-02T09:29:03.064057",
     "exception": false,
     "start_time": "2024-07-02T09:29:03.037711",
     "status": "completed"
    },
    "tags": []
   },
   "outputs": [
    {
     "data": {
      "text/plain": [
       "array([[ 1.5178518 , -0.85641715, -1.03980536, ..., -0.57715782,\n",
       "        -0.57850497,  0.90134069],\n",
       "       [ 1.0209782 , -0.28681727, -0.3490769 , ..., -0.57715782,\n",
       "         1.72859362,  0.90134069],\n",
       "       [ 2.02507693, -0.09695065, -1.03980536, ..., -0.57715782,\n",
       "         1.72859362, -1.1094584 ],\n",
       "       ...,\n",
       "       [ 0.48269847, -1.14121709, -1.03980536, ...,  1.73262835,\n",
       "        -0.57850497, -1.1094584 ],\n",
       "       [ 0.66902607,  0.56758255, -1.73053383, ..., -0.57715782,\n",
       "         1.72859362,  0.90134069],\n",
       "       [-0.27296346, -0.57161721,  1.03238003, ...,  1.73262835,\n",
       "        -0.57850497,  0.90134069]])"
      ]
     },
     "execution_count": 20,
     "metadata": {},
     "output_type": "execute_result"
    }
   ],
   "source": [
    "X_train_scaled"
   ]
  },
  {
   "cell_type": "code",
   "execution_count": 21,
   "id": "2aaf9363",
   "metadata": {
    "execution": {
     "iopub.execute_input": "2024-07-02T09:29:03.095330Z",
     "iopub.status.busy": "2024-07-02T09:29:03.094902Z",
     "iopub.status.idle": "2024-07-02T09:29:19.452825Z",
     "shell.execute_reply": "2024-07-02T09:29:19.451359Z"
    },
    "papermill": {
     "duration": 16.377275,
     "end_time": "2024-07-02T09:29:19.455974",
     "exception": false,
     "start_time": "2024-07-02T09:29:03.078699",
     "status": "completed"
    },
    "tags": []
   },
   "outputs": [
    {
     "name": "stderr",
     "output_type": "stream",
     "text": [
      "2024-07-02 09:29:06.059193: E external/local_xla/xla/stream_executor/cuda/cuda_dnn.cc:9261] Unable to register cuDNN factory: Attempting to register factory for plugin cuDNN when one has already been registered\n",
      "2024-07-02 09:29:06.059373: E external/local_xla/xla/stream_executor/cuda/cuda_fft.cc:607] Unable to register cuFFT factory: Attempting to register factory for plugin cuFFT when one has already been registered\n",
      "2024-07-02 09:29:06.262641: E external/local_xla/xla/stream_executor/cuda/cuda_blas.cc:1515] Unable to register cuBLAS factory: Attempting to register factory for plugin cuBLAS when one has already been registered\n"
     ]
    }
   ],
   "source": [
    "import tensorflow\n",
    "from tensorflow import keras\n",
    "from tensorflow.keras import Sequential\n",
    "from tensorflow.keras.layers import Dense"
   ]
  },
  {
   "cell_type": "code",
   "execution_count": 22,
   "id": "36c86ecf",
   "metadata": {
    "execution": {
     "iopub.execute_input": "2024-07-02T09:29:19.487861Z",
     "iopub.status.busy": "2024-07-02T09:29:19.487127Z",
     "iopub.status.idle": "2024-07-02T09:29:19.589712Z",
     "shell.execute_reply": "2024-07-02T09:29:19.588538Z"
    },
    "papermill": {
     "duration": 0.121601,
     "end_time": "2024-07-02T09:29:19.592571",
     "exception": false,
     "start_time": "2024-07-02T09:29:19.470970",
     "status": "completed"
    },
    "tags": []
   },
   "outputs": [
    {
     "name": "stderr",
     "output_type": "stream",
     "text": [
      "/opt/conda/lib/python3.10/site-packages/keras/src/layers/core/dense.py:87: UserWarning: Do not pass an `input_shape`/`input_dim` argument to a layer. When using Sequential models, prefer using an `Input(shape)` object as the first layer in the model instead.\n",
      "  super().__init__(activity_regularizer=activity_regularizer, **kwargs)\n"
     ]
    }
   ],
   "source": [
    "model = Sequential()\n",
    "model.add(Dense(11,activation='relu',input_dim=11))\n",
    "model.add(Dense(11,activation='relu'))\n",
    "model.add(Dense(1,activation='sigmoid'))"
   ]
  },
  {
   "cell_type": "code",
   "execution_count": 23,
   "id": "428d3d45",
   "metadata": {
    "execution": {
     "iopub.execute_input": "2024-07-02T09:29:19.623806Z",
     "iopub.status.busy": "2024-07-02T09:29:19.623383Z",
     "iopub.status.idle": "2024-07-02T09:29:19.646562Z",
     "shell.execute_reply": "2024-07-02T09:29:19.645125Z"
    },
    "papermill": {
     "duration": 0.04187,
     "end_time": "2024-07-02T09:29:19.649284",
     "exception": false,
     "start_time": "2024-07-02T09:29:19.607414",
     "status": "completed"
    },
    "tags": []
   },
   "outputs": [
    {
     "data": {
      "text/html": [
       "<pre style=\"white-space:pre;overflow-x:auto;line-height:normal;font-family:Menlo,'DejaVu Sans Mono',consolas,'Courier New',monospace\"><span style=\"font-weight: bold\">Model: \"sequential\"</span>\n",
       "</pre>\n"
      ],
      "text/plain": [
       "\u001b[1mModel: \"sequential\"\u001b[0m\n"
      ]
     },
     "metadata": {},
     "output_type": "display_data"
    },
    {
     "data": {
      "text/html": [
       "<pre style=\"white-space:pre;overflow-x:auto;line-height:normal;font-family:Menlo,'DejaVu Sans Mono',consolas,'Courier New',monospace\">┏━━━━━━━━━━━━━━━━━━━━━━━━━━━━━━━━━┳━━━━━━━━━━━━━━━━━━━━━━━━┳━━━━━━━━━━━━━━━┓\n",
       "┃<span style=\"font-weight: bold\"> Layer (type)                    </span>┃<span style=\"font-weight: bold\"> Output Shape           </span>┃<span style=\"font-weight: bold\">       Param # </span>┃\n",
       "┡━━━━━━━━━━━━━━━━━━━━━━━━━━━━━━━━━╇━━━━━━━━━━━━━━━━━━━━━━━━╇━━━━━━━━━━━━━━━┩\n",
       "│ dense (<span style=\"color: #0087ff; text-decoration-color: #0087ff\">Dense</span>)                   │ (<span style=\"color: #00d7ff; text-decoration-color: #00d7ff\">None</span>, <span style=\"color: #00af00; text-decoration-color: #00af00\">11</span>)             │           <span style=\"color: #00af00; text-decoration-color: #00af00\">132</span> │\n",
       "├─────────────────────────────────┼────────────────────────┼───────────────┤\n",
       "│ dense_1 (<span style=\"color: #0087ff; text-decoration-color: #0087ff\">Dense</span>)                 │ (<span style=\"color: #00d7ff; text-decoration-color: #00d7ff\">None</span>, <span style=\"color: #00af00; text-decoration-color: #00af00\">11</span>)             │           <span style=\"color: #00af00; text-decoration-color: #00af00\">132</span> │\n",
       "├─────────────────────────────────┼────────────────────────┼───────────────┤\n",
       "│ dense_2 (<span style=\"color: #0087ff; text-decoration-color: #0087ff\">Dense</span>)                 │ (<span style=\"color: #00d7ff; text-decoration-color: #00d7ff\">None</span>, <span style=\"color: #00af00; text-decoration-color: #00af00\">1</span>)              │            <span style=\"color: #00af00; text-decoration-color: #00af00\">12</span> │\n",
       "└─────────────────────────────────┴────────────────────────┴───────────────┘\n",
       "</pre>\n"
      ],
      "text/plain": [
       "┏━━━━━━━━━━━━━━━━━━━━━━━━━━━━━━━━━┳━━━━━━━━━━━━━━━━━━━━━━━━┳━━━━━━━━━━━━━━━┓\n",
       "┃\u001b[1m \u001b[0m\u001b[1mLayer (type)                   \u001b[0m\u001b[1m \u001b[0m┃\u001b[1m \u001b[0m\u001b[1mOutput Shape          \u001b[0m\u001b[1m \u001b[0m┃\u001b[1m \u001b[0m\u001b[1m      Param #\u001b[0m\u001b[1m \u001b[0m┃\n",
       "┡━━━━━━━━━━━━━━━━━━━━━━━━━━━━━━━━━╇━━━━━━━━━━━━━━━━━━━━━━━━╇━━━━━━━━━━━━━━━┩\n",
       "│ dense (\u001b[38;5;33mDense\u001b[0m)                   │ (\u001b[38;5;45mNone\u001b[0m, \u001b[38;5;34m11\u001b[0m)             │           \u001b[38;5;34m132\u001b[0m │\n",
       "├─────────────────────────────────┼────────────────────────┼───────────────┤\n",
       "│ dense_1 (\u001b[38;5;33mDense\u001b[0m)                 │ (\u001b[38;5;45mNone\u001b[0m, \u001b[38;5;34m11\u001b[0m)             │           \u001b[38;5;34m132\u001b[0m │\n",
       "├─────────────────────────────────┼────────────────────────┼───────────────┤\n",
       "│ dense_2 (\u001b[38;5;33mDense\u001b[0m)                 │ (\u001b[38;5;45mNone\u001b[0m, \u001b[38;5;34m1\u001b[0m)              │            \u001b[38;5;34m12\u001b[0m │\n",
       "└─────────────────────────────────┴────────────────────────┴───────────────┘\n"
      ]
     },
     "metadata": {},
     "output_type": "display_data"
    },
    {
     "data": {
      "text/html": [
       "<pre style=\"white-space:pre;overflow-x:auto;line-height:normal;font-family:Menlo,'DejaVu Sans Mono',consolas,'Courier New',monospace\"><span style=\"font-weight: bold\"> Total params: </span><span style=\"color: #00af00; text-decoration-color: #00af00\">276</span> (1.08 KB)\n",
       "</pre>\n"
      ],
      "text/plain": [
       "\u001b[1m Total params: \u001b[0m\u001b[38;5;34m276\u001b[0m (1.08 KB)\n"
      ]
     },
     "metadata": {},
     "output_type": "display_data"
    },
    {
     "data": {
      "text/html": [
       "<pre style=\"white-space:pre;overflow-x:auto;line-height:normal;font-family:Menlo,'DejaVu Sans Mono',consolas,'Courier New',monospace\"><span style=\"font-weight: bold\"> Trainable params: </span><span style=\"color: #00af00; text-decoration-color: #00af00\">276</span> (1.08 KB)\n",
       "</pre>\n"
      ],
      "text/plain": [
       "\u001b[1m Trainable params: \u001b[0m\u001b[38;5;34m276\u001b[0m (1.08 KB)\n"
      ]
     },
     "metadata": {},
     "output_type": "display_data"
    },
    {
     "data": {
      "text/html": [
       "<pre style=\"white-space:pre;overflow-x:auto;line-height:normal;font-family:Menlo,'DejaVu Sans Mono',consolas,'Courier New',monospace\"><span style=\"font-weight: bold\"> Non-trainable params: </span><span style=\"color: #00af00; text-decoration-color: #00af00\">0</span> (0.00 B)\n",
       "</pre>\n"
      ],
      "text/plain": [
       "\u001b[1m Non-trainable params: \u001b[0m\u001b[38;5;34m0\u001b[0m (0.00 B)\n"
      ]
     },
     "metadata": {},
     "output_type": "display_data"
    }
   ],
   "source": [
    "model.summary()\n",
    "#11*3=33 weights + 3 bias = 36 trainable parameters\n",
    "#3*1=3 weights +1 bias = 4 trainable parameters"
   ]
  },
  {
   "cell_type": "code",
   "execution_count": 24,
   "id": "5dae0e2e",
   "metadata": {
    "execution": {
     "iopub.execute_input": "2024-07-02T09:29:19.683834Z",
     "iopub.status.busy": "2024-07-02T09:29:19.683043Z",
     "iopub.status.idle": "2024-07-02T09:29:19.700744Z",
     "shell.execute_reply": "2024-07-02T09:29:19.699624Z"
    },
    "papermill": {
     "duration": 0.038424,
     "end_time": "2024-07-02T09:29:19.703552",
     "exception": false,
     "start_time": "2024-07-02T09:29:19.665128",
     "status": "completed"
    },
    "tags": []
   },
   "outputs": [],
   "source": [
    "model.compile(loss='binary_crossentropy',optimizer='Adam',metrics=['accuracy'])\n",
    "#accuracy will show accuracy along with each epoch"
   ]
  },
  {
   "cell_type": "code",
   "execution_count": 25,
   "id": "5f6c8325",
   "metadata": {
    "execution": {
     "iopub.execute_input": "2024-07-02T09:29:19.737309Z",
     "iopub.status.busy": "2024-07-02T09:29:19.736860Z",
     "iopub.status.idle": "2024-07-02T09:30:04.881928Z",
     "shell.execute_reply": "2024-07-02T09:30:04.880625Z"
    },
    "papermill": {
     "duration": 45.165209,
     "end_time": "2024-07-02T09:30:04.884811",
     "exception": false,
     "start_time": "2024-07-02T09:29:19.719602",
     "status": "completed"
    },
    "tags": []
   },
   "outputs": [
    {
     "name": "stdout",
     "output_type": "stream",
     "text": [
      "Epoch 1/100\n",
      "\u001b[1m200/200\u001b[0m \u001b[32m━━━━━━━━━━━━━━━━━━━━\u001b[0m\u001b[37m\u001b[0m \u001b[1m2s\u001b[0m 3ms/step - accuracy: 0.7968 - loss: 0.5328 - val_accuracy: 0.7994 - val_loss: 0.4689\n",
      "Epoch 2/100\n",
      "\u001b[1m200/200\u001b[0m \u001b[32m━━━━━━━━━━━━━━━━━━━━\u001b[0m\u001b[37m\u001b[0m \u001b[1m0s\u001b[0m 2ms/step - accuracy: 0.7962 - loss: 0.4572 - val_accuracy: 0.8025 - val_loss: 0.4389\n",
      "Epoch 3/100\n",
      "\u001b[1m200/200\u001b[0m \u001b[32m━━━━━━━━━━━━━━━━━━━━\u001b[0m\u001b[37m\u001b[0m \u001b[1m0s\u001b[0m 2ms/step - accuracy: 0.8023 - loss: 0.4322 - val_accuracy: 0.8156 - val_loss: 0.4214\n",
      "Epoch 4/100\n",
      "\u001b[1m200/200\u001b[0m \u001b[32m━━━━━━━━━━━━━━━━━━━━\u001b[0m\u001b[37m\u001b[0m \u001b[1m1s\u001b[0m 2ms/step - accuracy: 0.8132 - loss: 0.4107 - val_accuracy: 0.8238 - val_loss: 0.4049\n",
      "Epoch 5/100\n",
      "\u001b[1m200/200\u001b[0m \u001b[32m━━━━━━━━━━━━━━━━━━━━\u001b[0m\u001b[37m\u001b[0m \u001b[1m0s\u001b[0m 2ms/step - accuracy: 0.8340 - loss: 0.3862 - val_accuracy: 0.8388 - val_loss: 0.3895\n",
      "Epoch 6/100\n",
      "\u001b[1m200/200\u001b[0m \u001b[32m━━━━━━━━━━━━━━━━━━━━\u001b[0m\u001b[37m\u001b[0m \u001b[1m0s\u001b[0m 2ms/step - accuracy: 0.8377 - loss: 0.3711 - val_accuracy: 0.8388 - val_loss: 0.3792\n",
      "Epoch 7/100\n",
      "\u001b[1m200/200\u001b[0m \u001b[32m━━━━━━━━━━━━━━━━━━━━\u001b[0m\u001b[37m\u001b[0m \u001b[1m0s\u001b[0m 2ms/step - accuracy: 0.8439 - loss: 0.3582 - val_accuracy: 0.8481 - val_loss: 0.3730\n",
      "Epoch 8/100\n",
      "\u001b[1m200/200\u001b[0m \u001b[32m━━━━━━━━━━━━━━━━━━━━\u001b[0m\u001b[37m\u001b[0m \u001b[1m0s\u001b[0m 2ms/step - accuracy: 0.8391 - loss: 0.3799 - val_accuracy: 0.8525 - val_loss: 0.3681\n",
      "Epoch 9/100\n",
      "\u001b[1m200/200\u001b[0m \u001b[32m━━━━━━━━━━━━━━━━━━━━\u001b[0m\u001b[37m\u001b[0m \u001b[1m0s\u001b[0m 2ms/step - accuracy: 0.8504 - loss: 0.3622 - val_accuracy: 0.8525 - val_loss: 0.3644\n",
      "Epoch 10/100\n",
      "\u001b[1m200/200\u001b[0m \u001b[32m━━━━━━━━━━━━━━━━━━━━\u001b[0m\u001b[37m\u001b[0m \u001b[1m0s\u001b[0m 2ms/step - accuracy: 0.8508 - loss: 0.3506 - val_accuracy: 0.8500 - val_loss: 0.3630\n",
      "Epoch 11/100\n",
      "\u001b[1m200/200\u001b[0m \u001b[32m━━━━━━━━━━━━━━━━━━━━\u001b[0m\u001b[37m\u001b[0m \u001b[1m0s\u001b[0m 2ms/step - accuracy: 0.8515 - loss: 0.3552 - val_accuracy: 0.8506 - val_loss: 0.3613\n",
      "Epoch 12/100\n",
      "\u001b[1m200/200\u001b[0m \u001b[32m━━━━━━━━━━━━━━━━━━━━\u001b[0m\u001b[37m\u001b[0m \u001b[1m0s\u001b[0m 2ms/step - accuracy: 0.8588 - loss: 0.3480 - val_accuracy: 0.8569 - val_loss: 0.3578\n",
      "Epoch 13/100\n",
      "\u001b[1m200/200\u001b[0m \u001b[32m━━━━━━━━━━━━━━━━━━━━\u001b[0m\u001b[37m\u001b[0m \u001b[1m1s\u001b[0m 2ms/step - accuracy: 0.8504 - loss: 0.3569 - val_accuracy: 0.8587 - val_loss: 0.3547\n",
      "Epoch 14/100\n",
      "\u001b[1m200/200\u001b[0m \u001b[32m━━━━━━━━━━━━━━━━━━━━\u001b[0m\u001b[37m\u001b[0m \u001b[1m0s\u001b[0m 2ms/step - accuracy: 0.8535 - loss: 0.3404 - val_accuracy: 0.8550 - val_loss: 0.3538\n",
      "Epoch 15/100\n",
      "\u001b[1m200/200\u001b[0m \u001b[32m━━━━━━━━━━━━━━━━━━━━\u001b[0m\u001b[37m\u001b[0m \u001b[1m0s\u001b[0m 2ms/step - accuracy: 0.8581 - loss: 0.3352 - val_accuracy: 0.8506 - val_loss: 0.3544\n",
      "Epoch 16/100\n",
      "\u001b[1m200/200\u001b[0m \u001b[32m━━━━━━━━━━━━━━━━━━━━\u001b[0m\u001b[37m\u001b[0m \u001b[1m0s\u001b[0m 2ms/step - accuracy: 0.8634 - loss: 0.3373 - val_accuracy: 0.8537 - val_loss: 0.3527\n",
      "Epoch 17/100\n",
      "\u001b[1m200/200\u001b[0m \u001b[32m━━━━━━━━━━━━━━━━━━━━\u001b[0m\u001b[37m\u001b[0m \u001b[1m0s\u001b[0m 2ms/step - accuracy: 0.8563 - loss: 0.3442 - val_accuracy: 0.8575 - val_loss: 0.3517\n",
      "Epoch 18/100\n",
      "\u001b[1m200/200\u001b[0m \u001b[32m━━━━━━━━━━━━━━━━━━━━\u001b[0m\u001b[37m\u001b[0m \u001b[1m0s\u001b[0m 2ms/step - accuracy: 0.8554 - loss: 0.3342 - val_accuracy: 0.8556 - val_loss: 0.3508\n",
      "Epoch 19/100\n",
      "\u001b[1m200/200\u001b[0m \u001b[32m━━━━━━━━━━━━━━━━━━━━\u001b[0m\u001b[37m\u001b[0m \u001b[1m0s\u001b[0m 2ms/step - accuracy: 0.8620 - loss: 0.3328 - val_accuracy: 0.8587 - val_loss: 0.3495\n",
      "Epoch 20/100\n",
      "\u001b[1m200/200\u001b[0m \u001b[32m━━━━━━━━━━━━━━━━━━━━\u001b[0m\u001b[37m\u001b[0m \u001b[1m0s\u001b[0m 2ms/step - accuracy: 0.8595 - loss: 0.3405 - val_accuracy: 0.8550 - val_loss: 0.3507\n",
      "Epoch 21/100\n",
      "\u001b[1m200/200\u001b[0m \u001b[32m━━━━━━━━━━━━━━━━━━━━\u001b[0m\u001b[37m\u001b[0m \u001b[1m0s\u001b[0m 2ms/step - accuracy: 0.8574 - loss: 0.3338 - val_accuracy: 0.8587 - val_loss: 0.3483\n",
      "Epoch 22/100\n",
      "\u001b[1m200/200\u001b[0m \u001b[32m━━━━━━━━━━━━━━━━━━━━\u001b[0m\u001b[37m\u001b[0m \u001b[1m0s\u001b[0m 2ms/step - accuracy: 0.8577 - loss: 0.3403 - val_accuracy: 0.8556 - val_loss: 0.3487\n",
      "Epoch 23/100\n",
      "\u001b[1m200/200\u001b[0m \u001b[32m━━━━━━━━━━━━━━━━━━━━\u001b[0m\u001b[37m\u001b[0m \u001b[1m1s\u001b[0m 2ms/step - accuracy: 0.8630 - loss: 0.3290 - val_accuracy: 0.8587 - val_loss: 0.3481\n",
      "Epoch 24/100\n",
      "\u001b[1m200/200\u001b[0m \u001b[32m━━━━━━━━━━━━━━━━━━━━\u001b[0m\u001b[37m\u001b[0m \u001b[1m0s\u001b[0m 2ms/step - accuracy: 0.8644 - loss: 0.3303 - val_accuracy: 0.8575 - val_loss: 0.3468\n",
      "Epoch 25/100\n",
      "\u001b[1m200/200\u001b[0m \u001b[32m━━━━━━━━━━━━━━━━━━━━\u001b[0m\u001b[37m\u001b[0m \u001b[1m0s\u001b[0m 2ms/step - accuracy: 0.8527 - loss: 0.3456 - val_accuracy: 0.8594 - val_loss: 0.3469\n",
      "Epoch 26/100\n",
      "\u001b[1m200/200\u001b[0m \u001b[32m━━━━━━━━━━━━━━━━━━━━\u001b[0m\u001b[37m\u001b[0m \u001b[1m0s\u001b[0m 2ms/step - accuracy: 0.8621 - loss: 0.3311 - val_accuracy: 0.8600 - val_loss: 0.3468\n",
      "Epoch 27/100\n",
      "\u001b[1m200/200\u001b[0m \u001b[32m━━━━━━━━━━━━━━━━━━━━\u001b[0m\u001b[37m\u001b[0m \u001b[1m0s\u001b[0m 2ms/step - accuracy: 0.8673 - loss: 0.3229 - val_accuracy: 0.8575 - val_loss: 0.3457\n",
      "Epoch 28/100\n",
      "\u001b[1m200/200\u001b[0m \u001b[32m━━━━━━━━━━━━━━━━━━━━\u001b[0m\u001b[37m\u001b[0m \u001b[1m0s\u001b[0m 2ms/step - accuracy: 0.8643 - loss: 0.3306 - val_accuracy: 0.8587 - val_loss: 0.3469\n",
      "Epoch 29/100\n",
      "\u001b[1m200/200\u001b[0m \u001b[32m━━━━━━━━━━━━━━━━━━━━\u001b[0m\u001b[37m\u001b[0m \u001b[1m0s\u001b[0m 2ms/step - accuracy: 0.8602 - loss: 0.3299 - val_accuracy: 0.8575 - val_loss: 0.3437\n",
      "Epoch 30/100\n",
      "\u001b[1m200/200\u001b[0m \u001b[32m━━━━━━━━━━━━━━━━━━━━\u001b[0m\u001b[37m\u001b[0m \u001b[1m0s\u001b[0m 2ms/step - accuracy: 0.8619 - loss: 0.3347 - val_accuracy: 0.8569 - val_loss: 0.3445\n",
      "Epoch 31/100\n",
      "\u001b[1m200/200\u001b[0m \u001b[32m━━━━━━━━━━━━━━━━━━━━\u001b[0m\u001b[37m\u001b[0m \u001b[1m0s\u001b[0m 2ms/step - accuracy: 0.8604 - loss: 0.3307 - val_accuracy: 0.8569 - val_loss: 0.3448\n",
      "Epoch 32/100\n",
      "\u001b[1m200/200\u001b[0m \u001b[32m━━━━━━━━━━━━━━━━━━━━\u001b[0m\u001b[37m\u001b[0m \u001b[1m0s\u001b[0m 2ms/step - accuracy: 0.8587 - loss: 0.3377 - val_accuracy: 0.8556 - val_loss: 0.3458\n",
      "Epoch 33/100\n",
      "\u001b[1m200/200\u001b[0m \u001b[32m━━━━━━━━━━━━━━━━━━━━\u001b[0m\u001b[37m\u001b[0m \u001b[1m0s\u001b[0m 2ms/step - accuracy: 0.8625 - loss: 0.3247 - val_accuracy: 0.8587 - val_loss: 0.3436\n",
      "Epoch 34/100\n",
      "\u001b[1m200/200\u001b[0m \u001b[32m━━━━━━━━━━━━━━━━━━━━\u001b[0m\u001b[37m\u001b[0m \u001b[1m0s\u001b[0m 2ms/step - accuracy: 0.8687 - loss: 0.3243 - val_accuracy: 0.8569 - val_loss: 0.3441\n",
      "Epoch 35/100\n",
      "\u001b[1m200/200\u001b[0m \u001b[32m━━━━━━━━━━━━━━━━━━━━\u001b[0m\u001b[37m\u001b[0m \u001b[1m0s\u001b[0m 2ms/step - accuracy: 0.8657 - loss: 0.3261 - val_accuracy: 0.8562 - val_loss: 0.3419\n",
      "Epoch 36/100\n",
      "\u001b[1m200/200\u001b[0m \u001b[32m━━━━━━━━━━━━━━━━━━━━\u001b[0m\u001b[37m\u001b[0m \u001b[1m0s\u001b[0m 2ms/step - accuracy: 0.8640 - loss: 0.3373 - val_accuracy: 0.8600 - val_loss: 0.3422\n",
      "Epoch 37/100\n",
      "\u001b[1m200/200\u001b[0m \u001b[32m━━━━━━━━━━━━━━━━━━━━\u001b[0m\u001b[37m\u001b[0m \u001b[1m0s\u001b[0m 2ms/step - accuracy: 0.8661 - loss: 0.3269 - val_accuracy: 0.8587 - val_loss: 0.3422\n",
      "Epoch 38/100\n",
      "\u001b[1m200/200\u001b[0m \u001b[32m━━━━━━━━━━━━━━━━━━━━\u001b[0m\u001b[37m\u001b[0m \u001b[1m0s\u001b[0m 2ms/step - accuracy: 0.8623 - loss: 0.3344 - val_accuracy: 0.8606 - val_loss: 0.3418\n",
      "Epoch 39/100\n",
      "\u001b[1m200/200\u001b[0m \u001b[32m━━━━━━━━━━━━━━━━━━━━\u001b[0m\u001b[37m\u001b[0m \u001b[1m0s\u001b[0m 2ms/step - accuracy: 0.8655 - loss: 0.3217 - val_accuracy: 0.8625 - val_loss: 0.3430\n",
      "Epoch 40/100\n",
      "\u001b[1m200/200\u001b[0m \u001b[32m━━━━━━━━━━━━━━━━━━━━\u001b[0m\u001b[37m\u001b[0m \u001b[1m0s\u001b[0m 2ms/step - accuracy: 0.8752 - loss: 0.3154 - val_accuracy: 0.8575 - val_loss: 0.3417\n",
      "Epoch 41/100\n",
      "\u001b[1m200/200\u001b[0m \u001b[32m━━━━━━━━━━━━━━━━━━━━\u001b[0m\u001b[37m\u001b[0m \u001b[1m0s\u001b[0m 2ms/step - accuracy: 0.8642 - loss: 0.3245 - val_accuracy: 0.8587 - val_loss: 0.3412\n",
      "Epoch 42/100\n",
      "\u001b[1m200/200\u001b[0m \u001b[32m━━━━━━━━━━━━━━━━━━━━\u001b[0m\u001b[37m\u001b[0m \u001b[1m0s\u001b[0m 2ms/step - accuracy: 0.8611 - loss: 0.3295 - val_accuracy: 0.8575 - val_loss: 0.3414\n",
      "Epoch 43/100\n",
      "\u001b[1m200/200\u001b[0m \u001b[32m━━━━━━━━━━━━━━━━━━━━\u001b[0m\u001b[37m\u001b[0m \u001b[1m0s\u001b[0m 2ms/step - accuracy: 0.8609 - loss: 0.3360 - val_accuracy: 0.8587 - val_loss: 0.3402\n",
      "Epoch 44/100\n",
      "\u001b[1m200/200\u001b[0m \u001b[32m━━━━━━━━━━━━━━━━━━━━\u001b[0m\u001b[37m\u001b[0m \u001b[1m0s\u001b[0m 2ms/step - accuracy: 0.8687 - loss: 0.3191 - val_accuracy: 0.8612 - val_loss: 0.3416\n",
      "Epoch 45/100\n",
      "\u001b[1m200/200\u001b[0m \u001b[32m━━━━━━━━━━━━━━━━━━━━\u001b[0m\u001b[37m\u001b[0m \u001b[1m0s\u001b[0m 2ms/step - accuracy: 0.8595 - loss: 0.3295 - val_accuracy: 0.8650 - val_loss: 0.3394\n",
      "Epoch 46/100\n",
      "\u001b[1m200/200\u001b[0m \u001b[32m━━━━━━━━━━━━━━━━━━━━\u001b[0m\u001b[37m\u001b[0m \u001b[1m0s\u001b[0m 2ms/step - accuracy: 0.8635 - loss: 0.3240 - val_accuracy: 0.8587 - val_loss: 0.3404\n",
      "Epoch 47/100\n",
      "\u001b[1m200/200\u001b[0m \u001b[32m━━━━━━━━━━━━━━━━━━━━\u001b[0m\u001b[37m\u001b[0m \u001b[1m0s\u001b[0m 2ms/step - accuracy: 0.8597 - loss: 0.3383 - val_accuracy: 0.8656 - val_loss: 0.3400\n",
      "Epoch 48/100\n",
      "\u001b[1m200/200\u001b[0m \u001b[32m━━━━━━━━━━━━━━━━━━━━\u001b[0m\u001b[37m\u001b[0m \u001b[1m0s\u001b[0m 2ms/step - accuracy: 0.8655 - loss: 0.3264 - val_accuracy: 0.8631 - val_loss: 0.3389\n",
      "Epoch 49/100\n",
      "\u001b[1m200/200\u001b[0m \u001b[32m━━━━━━━━━━━━━━━━━━━━\u001b[0m\u001b[37m\u001b[0m \u001b[1m0s\u001b[0m 2ms/step - accuracy: 0.8701 - loss: 0.3145 - val_accuracy: 0.8606 - val_loss: 0.3390\n",
      "Epoch 50/100\n",
      "\u001b[1m200/200\u001b[0m \u001b[32m━━━━━━━━━━━━━━━━━━━━\u001b[0m\u001b[37m\u001b[0m \u001b[1m0s\u001b[0m 2ms/step - accuracy: 0.8594 - loss: 0.3362 - val_accuracy: 0.8619 - val_loss: 0.3402\n",
      "Epoch 51/100\n",
      "\u001b[1m200/200\u001b[0m \u001b[32m━━━━━━━━━━━━━━━━━━━━\u001b[0m\u001b[37m\u001b[0m \u001b[1m0s\u001b[0m 2ms/step - accuracy: 0.8722 - loss: 0.3138 - val_accuracy: 0.8587 - val_loss: 0.3403\n",
      "Epoch 52/100\n",
      "\u001b[1m200/200\u001b[0m \u001b[32m━━━━━━━━━━━━━━━━━━━━\u001b[0m\u001b[37m\u001b[0m \u001b[1m0s\u001b[0m 2ms/step - accuracy: 0.8732 - loss: 0.3136 - val_accuracy: 0.8644 - val_loss: 0.3368\n",
      "Epoch 53/100\n",
      "\u001b[1m200/200\u001b[0m \u001b[32m━━━━━━━━━━━━━━━━━━━━\u001b[0m\u001b[37m\u001b[0m \u001b[1m0s\u001b[0m 2ms/step - accuracy: 0.8611 - loss: 0.3375 - val_accuracy: 0.8650 - val_loss: 0.3377\n",
      "Epoch 54/100\n",
      "\u001b[1m200/200\u001b[0m \u001b[32m━━━━━━━━━━━━━━━━━━━━\u001b[0m\u001b[37m\u001b[0m \u001b[1m0s\u001b[0m 2ms/step - accuracy: 0.8705 - loss: 0.3241 - val_accuracy: 0.8644 - val_loss: 0.3371\n",
      "Epoch 55/100\n",
      "\u001b[1m200/200\u001b[0m \u001b[32m━━━━━━━━━━━━━━━━━━━━\u001b[0m\u001b[37m\u001b[0m \u001b[1m0s\u001b[0m 2ms/step - accuracy: 0.8628 - loss: 0.3263 - val_accuracy: 0.8644 - val_loss: 0.3374\n",
      "Epoch 56/100\n",
      "\u001b[1m200/200\u001b[0m \u001b[32m━━━━━━━━━━━━━━━━━━━━\u001b[0m\u001b[37m\u001b[0m \u001b[1m0s\u001b[0m 2ms/step - accuracy: 0.8582 - loss: 0.3365 - val_accuracy: 0.8619 - val_loss: 0.3381\n",
      "Epoch 57/100\n",
      "\u001b[1m200/200\u001b[0m \u001b[32m━━━━━━━━━━━━━━━━━━━━\u001b[0m\u001b[37m\u001b[0m \u001b[1m0s\u001b[0m 2ms/step - accuracy: 0.8706 - loss: 0.3249 - val_accuracy: 0.8612 - val_loss: 0.3398\n",
      "Epoch 58/100\n",
      "\u001b[1m200/200\u001b[0m \u001b[32m━━━━━━━━━━━━━━━━━━━━\u001b[0m\u001b[37m\u001b[0m \u001b[1m0s\u001b[0m 2ms/step - accuracy: 0.8744 - loss: 0.3089 - val_accuracy: 0.8625 - val_loss: 0.3383\n",
      "Epoch 59/100\n",
      "\u001b[1m200/200\u001b[0m \u001b[32m━━━━━━━━━━━━━━━━━━━━\u001b[0m\u001b[37m\u001b[0m \u001b[1m0s\u001b[0m 2ms/step - accuracy: 0.8618 - loss: 0.3294 - val_accuracy: 0.8656 - val_loss: 0.3376\n",
      "Epoch 60/100\n",
      "\u001b[1m200/200\u001b[0m \u001b[32m━━━━━━━━━━━━━━━━━━━━\u001b[0m\u001b[37m\u001b[0m \u001b[1m0s\u001b[0m 2ms/step - accuracy: 0.8636 - loss: 0.3230 - val_accuracy: 0.8644 - val_loss: 0.3375\n",
      "Epoch 61/100\n",
      "\u001b[1m200/200\u001b[0m \u001b[32m━━━━━━━━━━━━━━━━━━━━\u001b[0m\u001b[37m\u001b[0m \u001b[1m0s\u001b[0m 2ms/step - accuracy: 0.8739 - loss: 0.3095 - val_accuracy: 0.8631 - val_loss: 0.3368\n",
      "Epoch 62/100\n",
      "\u001b[1m200/200\u001b[0m \u001b[32m━━━━━━━━━━━━━━━━━━━━\u001b[0m\u001b[37m\u001b[0m \u001b[1m0s\u001b[0m 2ms/step - accuracy: 0.8683 - loss: 0.3093 - val_accuracy: 0.8637 - val_loss: 0.3373\n",
      "Epoch 63/100\n",
      "\u001b[1m200/200\u001b[0m \u001b[32m━━━━━━━━━━━━━━━━━━━━\u001b[0m\u001b[37m\u001b[0m \u001b[1m0s\u001b[0m 2ms/step - accuracy: 0.8651 - loss: 0.3219 - val_accuracy: 0.8612 - val_loss: 0.3376\n",
      "Epoch 64/100\n",
      "\u001b[1m200/200\u001b[0m \u001b[32m━━━━━━━━━━━━━━━━━━━━\u001b[0m\u001b[37m\u001b[0m \u001b[1m0s\u001b[0m 2ms/step - accuracy: 0.8657 - loss: 0.3188 - val_accuracy: 0.8606 - val_loss: 0.3391\n",
      "Epoch 65/100\n",
      "\u001b[1m200/200\u001b[0m \u001b[32m━━━━━━━━━━━━━━━━━━━━\u001b[0m\u001b[37m\u001b[0m \u001b[1m0s\u001b[0m 2ms/step - accuracy: 0.8545 - loss: 0.3348 - val_accuracy: 0.8637 - val_loss: 0.3377\n",
      "Epoch 66/100\n",
      "\u001b[1m200/200\u001b[0m \u001b[32m━━━━━━━━━━━━━━━━━━━━\u001b[0m\u001b[37m\u001b[0m \u001b[1m0s\u001b[0m 2ms/step - accuracy: 0.8682 - loss: 0.3199 - val_accuracy: 0.8587 - val_loss: 0.3401\n",
      "Epoch 67/100\n",
      "\u001b[1m200/200\u001b[0m \u001b[32m━━━━━━━━━━━━━━━━━━━━\u001b[0m\u001b[37m\u001b[0m \u001b[1m0s\u001b[0m 2ms/step - accuracy: 0.8690 - loss: 0.3187 - val_accuracy: 0.8631 - val_loss: 0.3381\n",
      "Epoch 68/100\n",
      "\u001b[1m200/200\u001b[0m \u001b[32m━━━━━━━━━━━━━━━━━━━━\u001b[0m\u001b[37m\u001b[0m \u001b[1m0s\u001b[0m 2ms/step - accuracy: 0.8650 - loss: 0.3195 - val_accuracy: 0.8625 - val_loss: 0.3378\n",
      "Epoch 69/100\n",
      "\u001b[1m200/200\u001b[0m \u001b[32m━━━━━━━━━━━━━━━━━━━━\u001b[0m\u001b[37m\u001b[0m \u001b[1m0s\u001b[0m 2ms/step - accuracy: 0.8686 - loss: 0.3261 - val_accuracy: 0.8631 - val_loss: 0.3375\n",
      "Epoch 70/100\n",
      "\u001b[1m200/200\u001b[0m \u001b[32m━━━━━━━━━━━━━━━━━━━━\u001b[0m\u001b[37m\u001b[0m \u001b[1m0s\u001b[0m 2ms/step - accuracy: 0.8662 - loss: 0.3212 - val_accuracy: 0.8637 - val_loss: 0.3380\n",
      "Epoch 71/100\n",
      "\u001b[1m200/200\u001b[0m \u001b[32m━━━━━━━━━━━━━━━━━━━━\u001b[0m\u001b[37m\u001b[0m \u001b[1m0s\u001b[0m 2ms/step - accuracy: 0.8650 - loss: 0.3280 - val_accuracy: 0.8631 - val_loss: 0.3392\n",
      "Epoch 72/100\n",
      "\u001b[1m200/200\u001b[0m \u001b[32m━━━━━━━━━━━━━━━━━━━━\u001b[0m\u001b[37m\u001b[0m \u001b[1m0s\u001b[0m 2ms/step - accuracy: 0.8630 - loss: 0.3227 - val_accuracy: 0.8644 - val_loss: 0.3373\n",
      "Epoch 73/100\n",
      "\u001b[1m200/200\u001b[0m \u001b[32m━━━━━━━━━━━━━━━━━━━━\u001b[0m\u001b[37m\u001b[0m \u001b[1m0s\u001b[0m 2ms/step - accuracy: 0.8679 - loss: 0.3205 - val_accuracy: 0.8644 - val_loss: 0.3384\n",
      "Epoch 74/100\n",
      "\u001b[1m200/200\u001b[0m \u001b[32m━━━━━━━━━━━━━━━━━━━━\u001b[0m\u001b[37m\u001b[0m \u001b[1m0s\u001b[0m 2ms/step - accuracy: 0.8674 - loss: 0.3160 - val_accuracy: 0.8631 - val_loss: 0.3388\n",
      "Epoch 75/100\n",
      "\u001b[1m200/200\u001b[0m \u001b[32m━━━━━━━━━━━━━━━━━━━━\u001b[0m\u001b[37m\u001b[0m \u001b[1m0s\u001b[0m 2ms/step - accuracy: 0.8743 - loss: 0.3072 - val_accuracy: 0.8662 - val_loss: 0.3365\n",
      "Epoch 76/100\n",
      "\u001b[1m200/200\u001b[0m \u001b[32m━━━━━━━━━━━━━━━━━━━━\u001b[0m\u001b[37m\u001b[0m \u001b[1m0s\u001b[0m 2ms/step - accuracy: 0.8621 - loss: 0.3218 - val_accuracy: 0.8637 - val_loss: 0.3376\n",
      "Epoch 77/100\n",
      "\u001b[1m200/200\u001b[0m \u001b[32m━━━━━━━━━━━━━━━━━━━━\u001b[0m\u001b[37m\u001b[0m \u001b[1m0s\u001b[0m 2ms/step - accuracy: 0.8696 - loss: 0.3202 - val_accuracy: 0.8644 - val_loss: 0.3382\n",
      "Epoch 78/100\n",
      "\u001b[1m200/200\u001b[0m \u001b[32m━━━━━━━━━━━━━━━━━━━━\u001b[0m\u001b[37m\u001b[0m \u001b[1m0s\u001b[0m 2ms/step - accuracy: 0.8675 - loss: 0.3180 - val_accuracy: 0.8644 - val_loss: 0.3385\n",
      "Epoch 79/100\n",
      "\u001b[1m200/200\u001b[0m \u001b[32m━━━━━━━━━━━━━━━━━━━━\u001b[0m\u001b[37m\u001b[0m \u001b[1m0s\u001b[0m 2ms/step - accuracy: 0.8678 - loss: 0.3201 - val_accuracy: 0.8644 - val_loss: 0.3413\n",
      "Epoch 80/100\n",
      "\u001b[1m200/200\u001b[0m \u001b[32m━━━━━━━━━━━━━━━━━━━━\u001b[0m\u001b[37m\u001b[0m \u001b[1m0s\u001b[0m 2ms/step - accuracy: 0.8651 - loss: 0.3321 - val_accuracy: 0.8650 - val_loss: 0.3396\n",
      "Epoch 81/100\n",
      "\u001b[1m200/200\u001b[0m \u001b[32m━━━━━━━━━━━━━━━━━━━━\u001b[0m\u001b[37m\u001b[0m \u001b[1m0s\u001b[0m 2ms/step - accuracy: 0.8721 - loss: 0.3177 - val_accuracy: 0.8675 - val_loss: 0.3368\n",
      "Epoch 82/100\n",
      "\u001b[1m200/200\u001b[0m \u001b[32m━━━━━━━━━━━━━━━━━━━━\u001b[0m\u001b[37m\u001b[0m \u001b[1m0s\u001b[0m 2ms/step - accuracy: 0.8735 - loss: 0.3109 - val_accuracy: 0.8575 - val_loss: 0.3455\n",
      "Epoch 83/100\n",
      "\u001b[1m200/200\u001b[0m \u001b[32m━━━━━━━━━━━━━━━━━━━━\u001b[0m\u001b[37m\u001b[0m \u001b[1m0s\u001b[0m 2ms/step - accuracy: 0.8692 - loss: 0.3151 - val_accuracy: 0.8644 - val_loss: 0.3390\n",
      "Epoch 84/100\n",
      "\u001b[1m200/200\u001b[0m \u001b[32m━━━━━━━━━━━━━━━━━━━━\u001b[0m\u001b[37m\u001b[0m \u001b[1m0s\u001b[0m 2ms/step - accuracy: 0.8628 - loss: 0.3216 - val_accuracy: 0.8656 - val_loss: 0.3390\n",
      "Epoch 85/100\n",
      "\u001b[1m200/200\u001b[0m \u001b[32m━━━━━━━━━━━━━━━━━━━━\u001b[0m\u001b[37m\u001b[0m \u001b[1m0s\u001b[0m 2ms/step - accuracy: 0.8690 - loss: 0.3216 - val_accuracy: 0.8650 - val_loss: 0.3376\n",
      "Epoch 86/100\n",
      "\u001b[1m200/200\u001b[0m \u001b[32m━━━━━━━━━━━━━━━━━━━━\u001b[0m\u001b[37m\u001b[0m \u001b[1m0s\u001b[0m 2ms/step - accuracy: 0.8620 - loss: 0.3305 - val_accuracy: 0.8650 - val_loss: 0.3375\n",
      "Epoch 87/100\n",
      "\u001b[1m200/200\u001b[0m \u001b[32m━━━━━━━━━━━━━━━━━━━━\u001b[0m\u001b[37m\u001b[0m \u001b[1m0s\u001b[0m 2ms/step - accuracy: 0.8657 - loss: 0.3239 - val_accuracy: 0.8675 - val_loss: 0.3395\n",
      "Epoch 88/100\n",
      "\u001b[1m200/200\u001b[0m \u001b[32m━━━━━━━━━━━━━━━━━━━━\u001b[0m\u001b[37m\u001b[0m \u001b[1m1s\u001b[0m 2ms/step - accuracy: 0.8640 - loss: 0.3187 - val_accuracy: 0.8662 - val_loss: 0.3399\n",
      "Epoch 89/100\n",
      "\u001b[1m200/200\u001b[0m \u001b[32m━━━━━━━━━━━━━━━━━━━━\u001b[0m\u001b[37m\u001b[0m \u001b[1m0s\u001b[0m 2ms/step - accuracy: 0.8651 - loss: 0.3172 - val_accuracy: 0.8662 - val_loss: 0.3382\n",
      "Epoch 90/100\n",
      "\u001b[1m200/200\u001b[0m \u001b[32m━━━━━━━━━━━━━━━━━━━━\u001b[0m\u001b[37m\u001b[0m \u001b[1m0s\u001b[0m 2ms/step - accuracy: 0.8688 - loss: 0.3170 - val_accuracy: 0.8669 - val_loss: 0.3382\n",
      "Epoch 91/100\n",
      "\u001b[1m200/200\u001b[0m \u001b[32m━━━━━━━━━━━━━━━━━━━━\u001b[0m\u001b[37m\u001b[0m \u001b[1m0s\u001b[0m 2ms/step - accuracy: 0.8704 - loss: 0.3124 - val_accuracy: 0.8662 - val_loss: 0.3385\n",
      "Epoch 92/100\n",
      "\u001b[1m200/200\u001b[0m \u001b[32m━━━━━━━━━━━━━━━━━━━━\u001b[0m\u001b[37m\u001b[0m \u001b[1m0s\u001b[0m 2ms/step - accuracy: 0.8689 - loss: 0.3172 - val_accuracy: 0.8650 - val_loss: 0.3394\n",
      "Epoch 93/100\n",
      "\u001b[1m200/200\u001b[0m \u001b[32m━━━━━━━━━━━━━━━━━━━━\u001b[0m\u001b[37m\u001b[0m \u001b[1m0s\u001b[0m 2ms/step - accuracy: 0.8651 - loss: 0.3225 - val_accuracy: 0.8675 - val_loss: 0.3382\n",
      "Epoch 94/100\n",
      "\u001b[1m200/200\u001b[0m \u001b[32m━━━━━━━━━━━━━━━━━━━━\u001b[0m\u001b[37m\u001b[0m \u001b[1m0s\u001b[0m 2ms/step - accuracy: 0.8690 - loss: 0.3272 - val_accuracy: 0.8656 - val_loss: 0.3393\n",
      "Epoch 95/100\n",
      "\u001b[1m200/200\u001b[0m \u001b[32m━━━━━━━━━━━━━━━━━━━━\u001b[0m\u001b[37m\u001b[0m \u001b[1m0s\u001b[0m 2ms/step - accuracy: 0.8681 - loss: 0.3221 - val_accuracy: 0.8662 - val_loss: 0.3383\n",
      "Epoch 96/100\n",
      "\u001b[1m200/200\u001b[0m \u001b[32m━━━━━━━━━━━━━━━━━━━━\u001b[0m\u001b[37m\u001b[0m \u001b[1m0s\u001b[0m 2ms/step - accuracy: 0.8673 - loss: 0.3255 - val_accuracy: 0.8656 - val_loss: 0.3389\n",
      "Epoch 97/100\n",
      "\u001b[1m200/200\u001b[0m \u001b[32m━━━━━━━━━━━━━━━━━━━━\u001b[0m\u001b[37m\u001b[0m \u001b[1m1s\u001b[0m 2ms/step - accuracy: 0.8705 - loss: 0.3082 - val_accuracy: 0.8637 - val_loss: 0.3390\n",
      "Epoch 98/100\n",
      "\u001b[1m200/200\u001b[0m \u001b[32m━━━━━━━━━━━━━━━━━━━━\u001b[0m\u001b[37m\u001b[0m \u001b[1m1s\u001b[0m 2ms/step - accuracy: 0.8649 - loss: 0.3160 - val_accuracy: 0.8669 - val_loss: 0.3388\n",
      "Epoch 99/100\n",
      "\u001b[1m200/200\u001b[0m \u001b[32m━━━━━━━━━━━━━━━━━━━━\u001b[0m\u001b[37m\u001b[0m \u001b[1m0s\u001b[0m 2ms/step - accuracy: 0.8678 - loss: 0.3186 - val_accuracy: 0.8675 - val_loss: 0.3371\n",
      "Epoch 100/100\n",
      "\u001b[1m200/200\u001b[0m \u001b[32m━━━━━━━━━━━━━━━━━━━━\u001b[0m\u001b[37m\u001b[0m \u001b[1m0s\u001b[0m 2ms/step - accuracy: 0.8749 - loss: 0.3088 - val_accuracy: 0.8669 - val_loss: 0.3379\n"
     ]
    }
   ],
   "source": [
    "history = model.fit(X_train_scaled,y_train,epochs=100,validation_split=0.2)\n",
    "#validation_split = it will run on 80% of the total trainable data and predict on rest 20% data"
   ]
  },
  {
   "cell_type": "code",
   "execution_count": 26,
   "id": "24c112f4",
   "metadata": {
    "execution": {
     "iopub.execute_input": "2024-07-02T09:30:05.105357Z",
     "iopub.status.busy": "2024-07-02T09:30:05.104797Z",
     "iopub.status.idle": "2024-07-02T09:30:05.120996Z",
     "shell.execute_reply": "2024-07-02T09:30:05.119694Z"
    },
    "papermill": {
     "duration": 0.136643,
     "end_time": "2024-07-02T09:30:05.124003",
     "exception": false,
     "start_time": "2024-07-02T09:30:04.987360",
     "status": "completed"
    },
    "tags": []
   },
   "outputs": [
    {
     "data": {
      "text/plain": [
       "[array([[ 0.30655265, -0.01160657, -0.14703764,  0.09886139, -0.41141555,\n",
       "         -0.10369901,  0.5742363 ,  0.03877444, -0.12623164,  0.15306553,\n",
       "         -0.15160564],\n",
       "        [-0.14734612, -0.9031647 , -0.55715495, -0.5624961 ,  0.2810823 ,\n",
       "         -0.15161149,  0.4500666 ,  0.01545691,  0.22732072,  0.02799721,\n",
       "          1.6229033 ],\n",
       "        [-0.43152004, -0.01811572, -0.19063464, -0.26533782,  0.11917306,\n",
       "          0.19114627,  0.36096373, -0.0032791 , -0.16121347,  0.02778921,\n",
       "         -0.14560515],\n",
       "        [-0.37781048, -0.13450338,  0.5638681 , -0.5464364 , -0.47182068,\n",
       "         -0.26880044, -0.04609482, -0.6868101 ,  0.11375487,  0.28054845,\n",
       "         -0.12912035],\n",
       "        [-0.15299867, -0.16843379, -0.40135744, -0.17918138,  0.23688063,\n",
       "          0.16241647,  0.31059757, -1.0357054 ,  1.3405533 , -0.3512946 ,\n",
       "         -0.25704685],\n",
       "        [-0.25998032, -0.13881046,  0.7232875 ,  0.36124846, -0.65867776,\n",
       "         -0.06180757,  0.17995645, -0.11487743, -0.08932676, -0.3459595 ,\n",
       "         -0.17583299],\n",
       "        [-0.04259568, -0.3739031 ,  0.3690102 , -0.03647615,  0.19724414,\n",
       "          0.33426613,  0.6715518 , -0.11025366, -0.2430092 , -0.8686258 ,\n",
       "          0.3668414 ],\n",
       "        [ 0.26055568, -0.05586501, -0.18925416, -0.03563001, -0.602084  ,\n",
       "         -0.00275936,  0.36922252,  0.06643998,  0.03847758, -0.04310133,\n",
       "         -0.08662196],\n",
       "        [ 0.42005366,  0.21792075,  0.36539507, -0.686088  , -0.5221042 ,\n",
       "         -0.201809  ,  0.17703827,  0.27944043, -0.07093605, -0.00587883,\n",
       "          0.37091452],\n",
       "        [-0.4760306 ,  0.05239867, -0.7080584 , -0.15847547, -0.5582108 ,\n",
       "          0.14785951,  0.71827984,  0.09318981, -0.0339293 , -0.27848226,\n",
       "         -0.06183356],\n",
       "        [ 0.27076867, -0.0103386 , -0.46905947,  0.07865925,  0.31824535,\n",
       "          0.42720675,  0.16812718,  0.14108539,  0.01227552,  0.00654044,\n",
       "          0.09059096]], dtype=float32),\n",
       " array([ 0.44805717,  1.008225  ,  0.2112814 ,  0.5148856 ,  0.08257128,\n",
       "         0.70453656,  0.21451867, -0.09553353, -0.19125809,  0.5426535 ,\n",
       "        -0.47415516], dtype=float32)]"
      ]
     },
     "execution_count": 26,
     "metadata": {},
     "output_type": "execute_result"
    }
   ],
   "source": [
    "model.layers[0].get_weights()"
   ]
  },
  {
   "cell_type": "code",
   "execution_count": 27,
   "id": "ee4dad4e",
   "metadata": {
    "execution": {
     "iopub.execute_input": "2024-07-02T09:30:05.392130Z",
     "iopub.status.busy": "2024-07-02T09:30:05.391613Z",
     "iopub.status.idle": "2024-07-02T09:30:05.404689Z",
     "shell.execute_reply": "2024-07-02T09:30:05.403092Z"
    },
    "papermill": {
     "duration": 0.119909,
     "end_time": "2024-07-02T09:30:05.407682",
     "exception": false,
     "start_time": "2024-07-02T09:30:05.287773",
     "status": "completed"
    },
    "tags": []
   },
   "outputs": [
    {
     "data": {
      "text/plain": [
       "[array([[ 0.66885805,  0.05833872,  0.24646099,  0.05022909,  0.17578554,\n",
       "          0.41823378,  0.157368  ,  0.29457495,  0.16290371,  0.00161009,\n",
       "          0.22530939],\n",
       "        [ 0.35191986,  0.324046  , -0.5934943 , -0.26070103, -0.01486859,\n",
       "         -0.01955998, -0.18014406, -0.05512084,  0.29515484,  0.28592965,\n",
       "         -0.6747539 ],\n",
       "        [ 0.42990905,  0.5216533 , -0.48571986, -0.41442448,  0.22770604,\n",
       "          0.345635  ,  0.68510103,  0.31499273,  0.10312481,  0.39710382,\n",
       "          0.4966148 ],\n",
       "        [ 0.09396718, -0.663043  , -0.76341707, -0.26397675,  0.09281659,\n",
       "          0.51961756, -0.3429759 ,  0.3992036 ,  0.41366884,  0.23700891,\n",
       "         -0.0917224 ],\n",
       "        [ 0.12064319, -0.7290698 , -0.30302623, -0.35763776,  0.07182974,\n",
       "          0.08417792,  0.10222178,  0.25208494,  0.31186402,  0.16267258,\n",
       "         -0.06117444],\n",
       "        [ 0.6645476 , -0.839347  , -0.30045214,  0.07961755, -0.03882166,\n",
       "         -0.2382523 ,  0.44679523, -0.08844123, -0.06177468,  0.07804225,\n",
       "          0.26538277],\n",
       "        [ 0.07042861,  0.61111385,  0.59485304, -0.0226304 ,  0.21174853,\n",
       "         -0.07516993, -0.02059543,  0.5628216 ,  0.04206671,  0.2901742 ,\n",
       "          0.04814836],\n",
       "        [-0.16881259, -0.7293295 ,  0.02760276, -0.4290498 , -0.06384096,\n",
       "          0.45901182, -0.3023065 , -0.7764953 ,  0.74912727, -0.43992925,\n",
       "          0.33108053],\n",
       "        [ 0.04091297, -0.91680044,  0.23465677,  1.1018524 , -0.07817768,\n",
       "         -0.8378927 ,  0.71152675, -0.1645084 , -1.244339  , -0.21054095,\n",
       "          0.8368293 ],\n",
       "        [ 0.6939911 ,  0.31126145,  0.32408124, -0.48220485, -0.04947979,\n",
       "         -0.0047581 ,  0.1057706 , -0.3501861 ,  0.5637414 , -0.15889637,\n",
       "          0.5209148 ],\n",
       "        [-1.1697705 ,  0.12081482, -0.3767684 , -0.19781345,  0.1771225 ,\n",
       "         -0.11389012,  0.02707563,  0.49238843, -0.15413067, -0.00828131,\n",
       "          0.10659464]], dtype=float32),\n",
       " array([ 0.6115744 , -0.06513065, -0.13452226, -0.2990971 ,  0.12179406,\n",
       "         0.09472987, -0.00364844, -0.03727118,  0.24718422,  0.3802643 ,\n",
       "        -0.09826011], dtype=float32)]"
      ]
     },
     "execution_count": 27,
     "metadata": {},
     "output_type": "execute_result"
    }
   ],
   "source": [
    "model.layers[1].get_weights()"
   ]
  },
  {
   "cell_type": "code",
   "execution_count": 28,
   "id": "cc73de4a",
   "metadata": {
    "execution": {
     "iopub.execute_input": "2024-07-02T09:30:05.609740Z",
     "iopub.status.busy": "2024-07-02T09:30:05.608575Z",
     "iopub.status.idle": "2024-07-02T09:30:05.901798Z",
     "shell.execute_reply": "2024-07-02T09:30:05.899982Z"
    },
    "papermill": {
     "duration": 0.397605,
     "end_time": "2024-07-02T09:30:05.905514",
     "exception": false,
     "start_time": "2024-07-02T09:30:05.507909",
     "status": "completed"
    },
    "tags": []
   },
   "outputs": [
    {
     "name": "stdout",
     "output_type": "stream",
     "text": [
      "\u001b[1m63/63\u001b[0m \u001b[32m━━━━━━━━━━━━━━━━━━━━\u001b[0m\u001b[37m\u001b[0m \u001b[1m0s\u001b[0m 2ms/step\n"
     ]
    }
   ],
   "source": [
    "#sigmoid function gives a probablity from 0-1 in output\n",
    "y_log = model.predict(X_test_scaled)"
   ]
  },
  {
   "cell_type": "code",
   "execution_count": 29,
   "id": "620b74ca",
   "metadata": {
    "execution": {
     "iopub.execute_input": "2024-07-02T09:30:06.112999Z",
     "iopub.status.busy": "2024-07-02T09:30:06.112567Z",
     "iopub.status.idle": "2024-07-02T09:30:06.118336Z",
     "shell.execute_reply": "2024-07-02T09:30:06.117093Z"
    },
    "papermill": {
     "duration": 0.109615,
     "end_time": "2024-07-02T09:30:06.120988",
     "exception": false,
     "start_time": "2024-07-02T09:30:06.011373",
     "status": "completed"
    },
    "tags": []
   },
   "outputs": [],
   "source": [
    "y_pred = np.where(y_log>0.5,1,0)"
   ]
  },
  {
   "cell_type": "code",
   "execution_count": 30,
   "id": "422759cf",
   "metadata": {
    "execution": {
     "iopub.execute_input": "2024-07-02T09:30:06.323751Z",
     "iopub.status.busy": "2024-07-02T09:30:06.323124Z",
     "iopub.status.idle": "2024-07-02T09:30:06.333991Z",
     "shell.execute_reply": "2024-07-02T09:30:06.332799Z"
    },
    "papermill": {
     "duration": 0.115984,
     "end_time": "2024-07-02T09:30:06.336585",
     "exception": false,
     "start_time": "2024-07-02T09:30:06.220601",
     "status": "completed"
    },
    "tags": []
   },
   "outputs": [
    {
     "data": {
      "text/plain": [
       "0.8595"
      ]
     },
     "execution_count": 30,
     "metadata": {},
     "output_type": "execute_result"
    }
   ],
   "source": [
    "from sklearn.metrics import accuracy_score\n",
    "accuracy_score(y_test,y_pred)"
   ]
  },
  {
   "cell_type": "code",
   "execution_count": 31,
   "id": "871517dc",
   "metadata": {
    "execution": {
     "iopub.execute_input": "2024-07-02T09:30:06.543409Z",
     "iopub.status.busy": "2024-07-02T09:30:06.542990Z",
     "iopub.status.idle": "2024-07-02T09:30:06.548763Z",
     "shell.execute_reply": "2024-07-02T09:30:06.547506Z"
    },
    "papermill": {
     "duration": 0.109745,
     "end_time": "2024-07-02T09:30:06.551206",
     "exception": false,
     "start_time": "2024-07-02T09:30:06.441461",
     "status": "completed"
    },
    "tags": []
   },
   "outputs": [],
   "source": [
    "import matplotlib.pyplot as plt\n"
   ]
  },
  {
   "cell_type": "code",
   "execution_count": 32,
   "id": "3bac405c",
   "metadata": {
    "execution": {
     "iopub.execute_input": "2024-07-02T09:30:06.758525Z",
     "iopub.status.busy": "2024-07-02T09:30:06.758111Z",
     "iopub.status.idle": "2024-07-02T09:30:06.771590Z",
     "shell.execute_reply": "2024-07-02T09:30:06.770461Z"
    },
    "papermill": {
     "duration": 0.119432,
     "end_time": "2024-07-02T09:30:06.774328",
     "exception": false,
     "start_time": "2024-07-02T09:30:06.654896",
     "status": "completed"
    },
    "tags": []
   },
   "outputs": [
    {
     "data": {
      "text/plain": [
       "{'accuracy': [0.7962499856948853,\n",
       "  0.7962499856948853,\n",
       "  0.8076562285423279,\n",
       "  0.8198437690734863,\n",
       "  0.8310937285423279,\n",
       "  0.8417187333106995,\n",
       "  0.8456249833106995,\n",
       "  0.8485937714576721,\n",
       "  0.8506249785423279,\n",
       "  0.8510937690734863,\n",
       "  0.8528125286102295,\n",
       "  0.8535937666893005,\n",
       "  0.8559374809265137,\n",
       "  0.8537499904632568,\n",
       "  0.8556249737739563,\n",
       "  0.8603125214576721,\n",
       "  0.859375,\n",
       "  0.8582812547683716,\n",
       "  0.860156238079071,\n",
       "  0.8598437309265137,\n",
       "  0.8582812547683716,\n",
       "  0.8604687452316284,\n",
       "  0.8596875071525574,\n",
       "  0.8603125214576721,\n",
       "  0.8600000143051147,\n",
       "  0.8631250262260437,\n",
       "  0.8604687452316284,\n",
       "  0.8618749976158142,\n",
       "  0.8609374761581421,\n",
       "  0.8620312213897705,\n",
       "  0.8620312213897705,\n",
       "  0.8629687428474426,\n",
       "  0.862500011920929,\n",
       "  0.8659374713897705,\n",
       "  0.862500011920929,\n",
       "  0.8626562356948853,\n",
       "  0.8654687404632568,\n",
       "  0.8648437261581421,\n",
       "  0.864062488079071,\n",
       "  0.8650000095367432,\n",
       "  0.8639062643051147,\n",
       "  0.8639062643051147,\n",
       "  0.8628125190734863,\n",
       "  0.866406261920929,\n",
       "  0.8642187714576721,\n",
       "  0.8654687404632568,\n",
       "  0.8654687404632568,\n",
       "  0.8646875023841858,\n",
       "  0.8656250238418579,\n",
       "  0.8639062643051147,\n",
       "  0.8653125166893005,\n",
       "  0.8651562333106995,\n",
       "  0.8660937547683716,\n",
       "  0.8653125166893005,\n",
       "  0.8659374713897705,\n",
       "  0.866406261920929,\n",
       "  0.866406261920929,\n",
       "  0.8650000095367432,\n",
       "  0.8643749952316284,\n",
       "  0.8660937547683716,\n",
       "  0.8667187690734863,\n",
       "  0.8654687404632568,\n",
       "  0.8665624856948853,\n",
       "  0.8656250238418579,\n",
       "  0.8671875,\n",
       "  0.8659374713897705,\n",
       "  0.866406261920929,\n",
       "  0.8678125143051147,\n",
       "  0.8681250214576721,\n",
       "  0.8668749928474426,\n",
       "  0.8671875,\n",
       "  0.8676562309265137,\n",
       "  0.8671875,\n",
       "  0.8668749928474426,\n",
       "  0.8675000071525574,\n",
       "  0.8662499785423279,\n",
       "  0.8675000071525574,\n",
       "  0.8659374713897705,\n",
       "  0.8684375286102295,\n",
       "  0.8667187690734863,\n",
       "  0.8684375286102295,\n",
       "  0.8692187666893005,\n",
       "  0.8667187690734863,\n",
       "  0.8659374713897705,\n",
       "  0.8681250214576721,\n",
       "  0.8673437237739563,\n",
       "  0.8693749904632568,\n",
       "  0.8671875,\n",
       "  0.8667187690734863,\n",
       "  0.8670312762260437,\n",
       "  0.8673437237739563,\n",
       "  0.867968738079071,\n",
       "  0.8667187690734863,\n",
       "  0.8687499761581421,\n",
       "  0.8675000071525574,\n",
       "  0.8673437237739563,\n",
       "  0.8665624856948853,\n",
       "  0.8665624856948853,\n",
       "  0.8678125143051147,\n",
       "  0.8690624833106995],\n",
       " 'loss': [0.5038659572601318,\n",
       "  0.4478093981742859,\n",
       "  0.4241442084312439,\n",
       "  0.4054696261882782,\n",
       "  0.38834434747695923,\n",
       "  0.3748328685760498,\n",
       "  0.3662126064300537,\n",
       "  0.3598467707633972,\n",
       "  0.35554245114326477,\n",
       "  0.35157281160354614,\n",
       "  0.34966009855270386,\n",
       "  0.3482937216758728,\n",
       "  0.34626856446266174,\n",
       "  0.3441036343574524,\n",
       "  0.34265315532684326,\n",
       "  0.34042513370513916,\n",
       "  0.33997300267219543,\n",
       "  0.3392973244190216,\n",
       "  0.3391006588935852,\n",
       "  0.3372102975845337,\n",
       "  0.3364308476448059,\n",
       "  0.3361354172229767,\n",
       "  0.3354324400424957,\n",
       "  0.33438602089881897,\n",
       "  0.3333834409713745,\n",
       "  0.33332937955856323,\n",
       "  0.3326185643672943,\n",
       "  0.33211246132850647,\n",
       "  0.3319645822048187,\n",
       "  0.331318736076355,\n",
       "  0.33015042543411255,\n",
       "  0.33010613918304443,\n",
       "  0.33009564876556396,\n",
       "  0.32904839515686035,\n",
       "  0.3289475739002228,\n",
       "  0.328441858291626,\n",
       "  0.3281296491622925,\n",
       "  0.32749462127685547,\n",
       "  0.3275930881500244,\n",
       "  0.3265456259250641,\n",
       "  0.32676708698272705,\n",
       "  0.32630595564842224,\n",
       "  0.32639819383621216,\n",
       "  0.3253968358039856,\n",
       "  0.32554391026496887,\n",
       "  0.32561004161834717,\n",
       "  0.32491475343704224,\n",
       "  0.32514357566833496,\n",
       "  0.32457417249679565,\n",
       "  0.32447558641433716,\n",
       "  0.3244090676307678,\n",
       "  0.3237117528915405,\n",
       "  0.3245142698287964,\n",
       "  0.3239426016807556,\n",
       "  0.3232659101486206,\n",
       "  0.32401517033576965,\n",
       "  0.3231600821018219,\n",
       "  0.3226882219314575,\n",
       "  0.3232502043247223,\n",
       "  0.32277020812034607,\n",
       "  0.3226797878742218,\n",
       "  0.32281211018562317,\n",
       "  0.32290884852409363,\n",
       "  0.32216209173202515,\n",
       "  0.3226544260978699,\n",
       "  0.3218059837818146,\n",
       "  0.32218459248542786,\n",
       "  0.321822851896286,\n",
       "  0.3219341039657593,\n",
       "  0.3220023810863495,\n",
       "  0.3218960464000702,\n",
       "  0.32118362188339233,\n",
       "  0.3215760886669159,\n",
       "  0.3213617205619812,\n",
       "  0.3209754228591919,\n",
       "  0.321839302778244,\n",
       "  0.3206562399864197,\n",
       "  0.32077160477638245,\n",
       "  0.3209783136844635,\n",
       "  0.32051095366477966,\n",
       "  0.32061344385147095,\n",
       "  0.32010284066200256,\n",
       "  0.3213888108730316,\n",
       "  0.3201224207878113,\n",
       "  0.32004615664482117,\n",
       "  0.3201560080051422,\n",
       "  0.31960707902908325,\n",
       "  0.3198959231376648,\n",
       "  0.3195101022720337,\n",
       "  0.31972870230674744,\n",
       "  0.31942713260650635,\n",
       "  0.31920674443244934,\n",
       "  0.31894418597221375,\n",
       "  0.3188970685005188,\n",
       "  0.3191717565059662,\n",
       "  0.3192550837993622,\n",
       "  0.3189614713191986,\n",
       "  0.31915172934532166,\n",
       "  0.31890755891799927,\n",
       "  0.3187922537326813],\n",
       " 'val_accuracy': [0.7993749976158142,\n",
       "  0.8025000095367432,\n",
       "  0.815625011920929,\n",
       "  0.8237500190734863,\n",
       "  0.8387500047683716,\n",
       "  0.8387500047683716,\n",
       "  0.8481249809265137,\n",
       "  0.8525000214576721,\n",
       "  0.8525000214576721,\n",
       "  0.8500000238418579,\n",
       "  0.8506249785423279,\n",
       "  0.8568750023841858,\n",
       "  0.8587499856948853,\n",
       "  0.8550000190734863,\n",
       "  0.8506249785423279,\n",
       "  0.8537499904632568,\n",
       "  0.8575000166893005,\n",
       "  0.8556249737739563,\n",
       "  0.8587499856948853,\n",
       "  0.8550000190734863,\n",
       "  0.8587499856948853,\n",
       "  0.8556249737739563,\n",
       "  0.8587499856948853,\n",
       "  0.8575000166893005,\n",
       "  0.859375,\n",
       "  0.8600000143051147,\n",
       "  0.8575000166893005,\n",
       "  0.8587499856948853,\n",
       "  0.8575000166893005,\n",
       "  0.8568750023841858,\n",
       "  0.8568750023841858,\n",
       "  0.8556249737739563,\n",
       "  0.8587499856948853,\n",
       "  0.8568750023841858,\n",
       "  0.856249988079071,\n",
       "  0.8600000143051147,\n",
       "  0.8587499856948853,\n",
       "  0.8606250286102295,\n",
       "  0.862500011920929,\n",
       "  0.8575000166893005,\n",
       "  0.8587499856948853,\n",
       "  0.8575000166893005,\n",
       "  0.8587499856948853,\n",
       "  0.8612499833106995,\n",
       "  0.8650000095367432,\n",
       "  0.8587499856948853,\n",
       "  0.8656250238418579,\n",
       "  0.8631250262260437,\n",
       "  0.8606250286102295,\n",
       "  0.8618749976158142,\n",
       "  0.8587499856948853,\n",
       "  0.8643749952316284,\n",
       "  0.8650000095367432,\n",
       "  0.8643749952316284,\n",
       "  0.8643749952316284,\n",
       "  0.8618749976158142,\n",
       "  0.8612499833106995,\n",
       "  0.862500011920929,\n",
       "  0.8656250238418579,\n",
       "  0.8643749952316284,\n",
       "  0.8631250262260437,\n",
       "  0.8637499809265137,\n",
       "  0.8612499833106995,\n",
       "  0.8606250286102295,\n",
       "  0.8637499809265137,\n",
       "  0.8587499856948853,\n",
       "  0.8631250262260437,\n",
       "  0.862500011920929,\n",
       "  0.8631250262260437,\n",
       "  0.8637499809265137,\n",
       "  0.8631250262260437,\n",
       "  0.8643749952316284,\n",
       "  0.8643749952316284,\n",
       "  0.8631250262260437,\n",
       "  0.8662499785423279,\n",
       "  0.8637499809265137,\n",
       "  0.8643749952316284,\n",
       "  0.8643749952316284,\n",
       "  0.8643749952316284,\n",
       "  0.8650000095367432,\n",
       "  0.8675000071525574,\n",
       "  0.8575000166893005,\n",
       "  0.8643749952316284,\n",
       "  0.8656250238418579,\n",
       "  0.8650000095367432,\n",
       "  0.8650000095367432,\n",
       "  0.8675000071525574,\n",
       "  0.8662499785423279,\n",
       "  0.8662499785423279,\n",
       "  0.8668749928474426,\n",
       "  0.8662499785423279,\n",
       "  0.8650000095367432,\n",
       "  0.8675000071525574,\n",
       "  0.8656250238418579,\n",
       "  0.8662499785423279,\n",
       "  0.8656250238418579,\n",
       "  0.8637499809265137,\n",
       "  0.8668749928474426,\n",
       "  0.8675000071525574,\n",
       "  0.8668749928474426],\n",
       " 'val_loss': [0.4689069390296936,\n",
       "  0.43890082836151123,\n",
       "  0.4214199483394623,\n",
       "  0.4049219489097595,\n",
       "  0.38954949378967285,\n",
       "  0.3791646957397461,\n",
       "  0.37299689650535583,\n",
       "  0.36811888217926025,\n",
       "  0.3643769919872284,\n",
       "  0.3630269765853882,\n",
       "  0.3613322377204895,\n",
       "  0.357835590839386,\n",
       "  0.3547067642211914,\n",
       "  0.3537784814834595,\n",
       "  0.35438254475593567,\n",
       "  0.35272684693336487,\n",
       "  0.3517271876335144,\n",
       "  0.35084980726242065,\n",
       "  0.34953412413597107,\n",
       "  0.3507031500339508,\n",
       "  0.34825122356414795,\n",
       "  0.34874722361564636,\n",
       "  0.34805038571357727,\n",
       "  0.3468397557735443,\n",
       "  0.3469427525997162,\n",
       "  0.34680071473121643,\n",
       "  0.34566497802734375,\n",
       "  0.3468753397464752,\n",
       "  0.3436640799045563,\n",
       "  0.3445237874984741,\n",
       "  0.3447953760623932,\n",
       "  0.3458211421966553,\n",
       "  0.3436008095741272,\n",
       "  0.34405049681663513,\n",
       "  0.3418945074081421,\n",
       "  0.34220167994499207,\n",
       "  0.3421857953071594,\n",
       "  0.3417694866657257,\n",
       "  0.34295228123664856,\n",
       "  0.34166285395622253,\n",
       "  0.341152548789978,\n",
       "  0.34141823649406433,\n",
       "  0.3402193784713745,\n",
       "  0.3415847718715668,\n",
       "  0.33941322565078735,\n",
       "  0.34038758277893066,\n",
       "  0.3399893641471863,\n",
       "  0.3388843536376953,\n",
       "  0.33900585770606995,\n",
       "  0.34023234248161316,\n",
       "  0.34034866094589233,\n",
       "  0.3367754817008972,\n",
       "  0.33772164583206177,\n",
       "  0.33710238337516785,\n",
       "  0.33737412095069885,\n",
       "  0.3380768597126007,\n",
       "  0.33982643485069275,\n",
       "  0.3383236825466156,\n",
       "  0.33763277530670166,\n",
       "  0.33747047185897827,\n",
       "  0.33679336309432983,\n",
       "  0.33734336495399475,\n",
       "  0.3376189172267914,\n",
       "  0.3390977084636688,\n",
       "  0.3376938998699188,\n",
       "  0.34009629487991333,\n",
       "  0.3380754590034485,\n",
       "  0.3378373086452484,\n",
       "  0.3374972939491272,\n",
       "  0.33797305822372437,\n",
       "  0.33915776014328003,\n",
       "  0.3373012840747833,\n",
       "  0.33835849165916443,\n",
       "  0.33878830075263977,\n",
       "  0.33653807640075684,\n",
       "  0.33763861656188965,\n",
       "  0.33818045258522034,\n",
       "  0.33848628401756287,\n",
       "  0.34129634499549866,\n",
       "  0.3396304249763489,\n",
       "  0.33676397800445557,\n",
       "  0.3455411195755005,\n",
       "  0.33901700377464294,\n",
       "  0.33895400166511536,\n",
       "  0.33758461475372314,\n",
       "  0.3374737799167633,\n",
       "  0.3395282030105591,\n",
       "  0.33994153141975403,\n",
       "  0.33818888664245605,\n",
       "  0.33818548917770386,\n",
       "  0.33849552273750305,\n",
       "  0.3393920063972473,\n",
       "  0.33816418051719666,\n",
       "  0.33928751945495605,\n",
       "  0.33833804726600647,\n",
       "  0.3388563394546509,\n",
       "  0.3390073776245117,\n",
       "  0.33876359462738037,\n",
       "  0.3371387720108032,\n",
       "  0.3378860354423523]}"
      ]
     },
     "execution_count": 32,
     "metadata": {},
     "output_type": "execute_result"
    }
   ],
   "source": [
    "history.history"
   ]
  },
  {
   "cell_type": "code",
   "execution_count": 33,
   "id": "b2ce64bd",
   "metadata": {
    "execution": {
     "iopub.execute_input": "2024-07-02T09:30:06.979378Z",
     "iopub.status.busy": "2024-07-02T09:30:06.978937Z",
     "iopub.status.idle": "2024-07-02T09:30:07.277195Z",
     "shell.execute_reply": "2024-07-02T09:30:07.275989Z"
    },
    "papermill": {
     "duration": 0.402821,
     "end_time": "2024-07-02T09:30:07.280039",
     "exception": false,
     "start_time": "2024-07-02T09:30:06.877218",
     "status": "completed"
    },
    "tags": []
   },
   "outputs": [
    {
     "data": {
      "text/plain": [
       "[<matplotlib.lines.Line2D at 0x7e5390771210>]"
      ]
     },
     "execution_count": 33,
     "metadata": {},
     "output_type": "execute_result"
    },
    {
     "data": {
      "image/png": "[encoded data removed]",
      "text/plain": [
       "<Figure size 640x480 with 1 Axes>"
      ]
     },
     "metadata": {},
     "output_type": "display_data"
    }
   ],
   "source": [
    "plt.plot(history.history['loss'])\n",
    "plt.plot(history.history['val_loss'])"
   ]
  },
  {
   "cell_type": "code",
   "execution_count": 34,
   "id": "d9449e25",
   "metadata": {
    "execution": {
     "iopub.execute_input": "2024-07-02T09:30:07.496788Z",
     "iopub.status.busy": "2024-07-02T09:30:07.496304Z",
     "iopub.status.idle": "2024-07-02T09:30:07.746921Z",
     "shell.execute_reply": "2024-07-02T09:30:07.745471Z"
    },
    "papermill": {
     "duration": 0.363918,
     "end_time": "2024-07-02T09:30:07.749882",
     "exception": false,
     "start_time": "2024-07-02T09:30:07.385964",
     "status": "completed"
    },
    "tags": []
   },
   "outputs": [
    {
     "data": {
      "text/plain": [
       "[<matplotlib.lines.Line2D at 0x7e5390f9cac0>]"
      ]
     },
     "execution_count": 34,
     "metadata": {},
     "output_type": "execute_result"
    },
    {
     "data": {
      "image/png": "[encoded data removed]",
      "text/plain": [
       "<Figure size 640x480 with 1 Axes>"
      ]
     },
     "metadata": {},
     "output_type": "display_data"
    }
   ],
   "source": [
    "plt.plot(history.history['accuracy'])\n",
    "plt.plot(history.history['val_accuracy'])"
   ]
  },
  {
   "cell_type": "code",
   "execution_count": null,
   "id": "766c0225",
   "metadata": {
    "papermill": {
     "duration": 0.107121,
     "end_time": "2024-07-02T09:30:07.962149",
     "exception": false,
     "start_time": "2024-07-02T09:30:07.855028",
     "status": "completed"
    },
    "tags": []
   },
   "outputs": [],
   "source": []
  }
 ],
 "metadata": {
  "kaggle": {
   "accelerator": "none",
   "dataSources": [
    {
     "datasetId": 869651,
     "sourceId": 1481789,
     "sourceType": "datasetVersion"
    }
   ],
   "dockerImageVersionId": 30732,
   "isGpuEnabled": false,
   "isInternetEnabled": true,
   "language": "python",
   "sourceType": "notebook"
  },
  "kernelspec": {
   "display_name": "Python 3",
   "language": "python",
   "name": "python3"
  },
  "language_info": {
   "codemirror_mode": {
    "name": "ipython",
    "version": 3
   },
   "file_extension": ".py",
   "mimetype": "text/x-python",
   "name": "python",
   "nbconvert_exporter": "python",
   "pygments_lexer": "ipython3",
   "version": "3.10.13"
  },
  "papermill": {
   "default_parameters": {},
   "duration": 74.302813,
   "end_time": "2024-07-02T09:30:10.374047",
   "environment_variables": {},
   "exception": null,
   "input_path": "__notebook__.ipynb",
   "output_path": "__notebook__.ipynb",
   "parameters": {},
   "start_time": "2024-07-02T09:28:56.071234",
   "version": "2.5.0"
  }
 },
 "nbformat": 4,
 "nbformat_minor": 5
}
