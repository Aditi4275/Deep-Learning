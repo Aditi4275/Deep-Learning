{
  "nbformat": 4,
  "nbformat_minor": 0,
  "metadata": {
    "colab": {
      "provenance": []
    },
    "kernelspec": {
      "name": "python3",
      "display_name": "Python 3"
    },
    "language_info": {
      "name": "python"
    }
  },
  "cells": [
    {
      "cell_type": "code",
      "execution_count": 1,
      "metadata": {
        "id": "y08nQDKE-0mO"
      },
      "outputs": [],
      "source": [
        "import numpy as np\n",
        "\n",
        "text = ['go india',\n",
        "        'lets rock',\n",
        "        'merry christmas buddy',\n",
        "        'summer season is going to come',\n",
        "        'my dog is so loyal',\n",
        "        'new day, new motivation',\n",
        "        'get set go',\n",
        "        'new beginning',\n",
        "        'sun rise from east']"
      ]
    },
    {
      "cell_type": "code",
      "source": [
        "from tensorflow.keras.preprocessing.text import Tokenizer\n",
        "tokenizer = Tokenizer(oov_token ='<nothing>')   #vectorize,lower,indexing"
      ],
      "metadata": {
        "id": "iNhcztUf_jek"
      },
      "execution_count": 5,
      "outputs": []
    },
    {
      "cell_type": "code",
      "source": [
        "tokenizer.fit_on_texts(text)"
      ],
      "metadata": {
        "id": "77rt6FZS_3DI"
      },
      "execution_count": 6,
      "outputs": []
    },
    {
      "cell_type": "code",
      "source": [
        "tokenizer.word_index   #unique words"
      ],
      "metadata": {
        "colab": {
          "base_uri": "https://localhost:8080/"
        },
        "id": "5FsBI5UyAHSy",
        "outputId": "de847c61-7ac4-489f-c735-1b06edb9d005"
      },
      "execution_count": 7,
      "outputs": [
        {
          "output_type": "execute_result",
          "data": {
            "text/plain": [
              "{'<nothing>': 1,\n",
              " 'new': 2,\n",
              " 'go': 3,\n",
              " 'is': 4,\n",
              " 'india': 5,\n",
              " 'lets': 6,\n",
              " 'rock': 7,\n",
              " 'merry': 8,\n",
              " 'christmas': 9,\n",
              " 'buddy': 10,\n",
              " 'summer': 11,\n",
              " 'season': 12,\n",
              " 'going': 13,\n",
              " 'to': 14,\n",
              " 'come': 15,\n",
              " 'my': 16,\n",
              " 'dog': 17,\n",
              " 'so': 18,\n",
              " 'loyal': 19,\n",
              " 'day': 20,\n",
              " 'motivation': 21,\n",
              " 'get': 22,\n",
              " 'set': 23,\n",
              " 'beginning': 24,\n",
              " 'sun': 25,\n",
              " 'rise': 26,\n",
              " 'from': 27,\n",
              " 'east': 28}"
            ]
          },
          "metadata": {},
          "execution_count": 7
        }
      ]
    },
    {
      "cell_type": "code",
      "source": [
        "tokenizer.word_counts"
      ],
      "metadata": {
        "colab": {
          "base_uri": "https://localhost:8080/"
        },
        "id": "GRr2m94CAQ8Q",
        "outputId": "7512bff9-a554-4cd4-bc0c-32cdc9838237"
      },
      "execution_count": 8,
      "outputs": [
        {
          "output_type": "execute_result",
          "data": {
            "text/plain": [
              "OrderedDict([('go', 2),\n",
              "             ('india', 1),\n",
              "             ('lets', 1),\n",
              "             ('rock', 1),\n",
              "             ('merry', 1),\n",
              "             ('christmas', 1),\n",
              "             ('buddy', 1),\n",
              "             ('summer', 1),\n",
              "             ('season', 1),\n",
              "             ('is', 2),\n",
              "             ('going', 1),\n",
              "             ('to', 1),\n",
              "             ('come', 1),\n",
              "             ('my', 1),\n",
              "             ('dog', 1),\n",
              "             ('so', 1),\n",
              "             ('loyal', 1),\n",
              "             ('new', 3),\n",
              "             ('day', 1),\n",
              "             ('motivation', 1),\n",
              "             ('get', 1),\n",
              "             ('set', 1),\n",
              "             ('beginning', 1),\n",
              "             ('sun', 1),\n",
              "             ('rise', 1),\n",
              "             ('from', 1),\n",
              "             ('east', 1)])"
            ]
          },
          "metadata": {},
          "execution_count": 8
        }
      ]
    },
    {
      "cell_type": "code",
      "source": [
        "tokenizer.document_count"
      ],
      "metadata": {
        "colab": {
          "base_uri": "https://localhost:8080/"
        },
        "id": "9AXH_7vwAkIg",
        "outputId": "13965da5-47d1-4bf9-df27-2e16424621d7"
      },
      "execution_count": 9,
      "outputs": [
        {
          "output_type": "execute_result",
          "data": {
            "text/plain": [
              "9"
            ]
          },
          "metadata": {},
          "execution_count": 9
        }
      ]
    },
    {
      "cell_type": "code",
      "source": [
        "sequence = tokenizer.texts_to_sequences(text)\n",
        "sequence"
      ],
      "metadata": {
        "colab": {
          "base_uri": "https://localhost:8080/"
        },
        "id": "r_GXRnhaAry5",
        "outputId": "afb11cc7-5601-4c32-bfa6-54341bcac7b7"
      },
      "execution_count": 10,
      "outputs": [
        {
          "output_type": "execute_result",
          "data": {
            "text/plain": [
              "[[3, 5],\n",
              " [6, 7],\n",
              " [8, 9, 10],\n",
              " [11, 12, 4, 13, 14, 15],\n",
              " [16, 17, 4, 18, 19],\n",
              " [2, 20, 2, 21],\n",
              " [22, 23, 3],\n",
              " [2, 24],\n",
              " [25, 26, 27, 28]]"
            ]
          },
          "metadata": {},
          "execution_count": 10
        }
      ]
    },
    {
      "cell_type": "code",
      "source": [
        "from keras.utils import pad_sequences"
      ],
      "metadata": {
        "id": "sp2GvSZZA87I"
      },
      "execution_count": 11,
      "outputs": []
    },
    {
      "cell_type": "code",
      "source": [
        "sequence = pad_sequences(sequence, padding='post')  #post - adding zeroes at end\n",
        "sequence"
      ],
      "metadata": {
        "colab": {
          "base_uri": "https://localhost:8080/"
        },
        "id": "-L8-pD2pBIrs",
        "outputId": "afa8a4bf-b1c8-4272-fd4c-609227be0e28"
      },
      "execution_count": 12,
      "outputs": [
        {
          "output_type": "execute_result",
          "data": {
            "text/plain": [
              "array([[ 3,  5,  0,  0,  0,  0],\n",
              "       [ 6,  7,  0,  0,  0,  0],\n",
              "       [ 8,  9, 10,  0,  0,  0],\n",
              "       [11, 12,  4, 13, 14, 15],\n",
              "       [16, 17,  4, 18, 19,  0],\n",
              "       [ 2, 20,  2, 21,  0,  0],\n",
              "       [22, 23,  3,  0,  0,  0],\n",
              "       [ 2, 24,  0,  0,  0,  0],\n",
              "       [25, 26, 27, 28,  0,  0]], dtype=int32)"
            ]
          },
          "metadata": {},
          "execution_count": 12
        }
      ]
    },
    {
      "cell_type": "code",
      "source": [],
      "metadata": {
        "id": "7jTmtuFmBTa2"
      },
      "execution_count": null,
      "outputs": []
    }
  ]
}