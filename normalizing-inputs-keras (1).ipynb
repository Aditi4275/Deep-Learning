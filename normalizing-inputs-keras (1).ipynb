{
 "cells": [
  {
   "cell_type": "code",
   "execution_count": 1,
   "id": "58d8f805",
   "metadata": {
    "_cell_guid": "b1076dfc-b9ad-4769-8c92-a6c4dae69d19",
    "_uuid": "8f2839f25d086af736a60e9eeb907d3b93b6e0e5",
    "execution": {
     "iopub.execute_input": "2024-07-08T09:24:50.532809Z",
     "iopub.status.busy": "2024-07-08T09:24:50.532356Z",
     "iopub.status.idle": "2024-07-08T09:24:51.524739Z",
     "shell.execute_reply": "2024-07-08T09:24:51.523244Z"
    },
    "papermill": {
     "duration": 1.004523,
     "end_time": "2024-07-08T09:24:51.527445",
     "exception": false,
     "start_time": "2024-07-08T09:24:50.522922",
     "status": "completed"
    },
    "tags": []
   },
   "outputs": [
    {
     "name": "stdout",
     "output_type": "stream",
     "text": [
      "/kaggle/input/social-network-ads/Social_Network_Ads.csv\n"
     ]
    }
   ],
   "source": [
    "# This Python 3 environment comes with many helpful analytics libraries installed\n",
    "# It is defined by the kaggle/python Docker image: https://github.com/kaggle/docker-python\n",
    "# For example, here's several helpful packages to load\n",
    "\n",
    "import numpy as np # linear algebra\n",
    "import pandas as pd # data processing, CSV file I/O (e.g. pd.read_csv)\n",
    "\n",
    "# Input data files are available in the read-only \"../input/\" directory\n",
    "# For example, running this (by clicking run or pressing Shift+Enter) will list all files under the input directory\n",
    "\n",
    "import os\n",
    "for dirname, _, filenames in os.walk('/kaggle/input'):\n",
    "    for filename in filenames:\n",
    "        print(os.path.join(dirname, filename))\n",
    "\n",
    "# You can write up to 20GB to the current directory (/kaggle/working/) that gets preserved as output when you create a version using \"Save & Run All\" \n",
    "# You can also write temporary files to /kaggle/temp/, but they won't be saved outside of the current session"
   ]
  },
  {
   "cell_type": "code",
   "execution_count": 2,
   "id": "fc26649b",
   "metadata": {
    "execution": {
     "iopub.execute_input": "2024-07-08T09:24:51.544708Z",
     "iopub.status.busy": "2024-07-08T09:24:51.544215Z",
     "iopub.status.idle": "2024-07-08T09:24:51.564262Z",
     "shell.execute_reply": "2024-07-08T09:24:51.563158Z"
    },
    "papermill": {
     "duration": 0.032107,
     "end_time": "2024-07-08T09:24:51.567156",
     "exception": false,
     "start_time": "2024-07-08T09:24:51.535049",
     "status": "completed"
    },
    "tags": []
   },
   "outputs": [],
   "source": [
    "df=pd.read_csv('/kaggle/input/social-network-ads/Social_Network_Ads.csv')"
   ]
  },
  {
   "cell_type": "code",
   "execution_count": 3,
   "id": "3a53e595",
   "metadata": {
    "execution": {
     "iopub.execute_input": "2024-07-08T09:24:51.583510Z",
     "iopub.status.busy": "2024-07-08T09:24:51.583094Z",
     "iopub.status.idle": "2024-07-08T09:24:51.605013Z",
     "shell.execute_reply": "2024-07-08T09:24:51.603866Z"
    },
    "papermill": {
     "duration": 0.033082,
     "end_time": "2024-07-08T09:24:51.607684",
     "exception": false,
     "start_time": "2024-07-08T09:24:51.574602",
     "status": "completed"
    },
    "tags": []
   },
   "outputs": [
    {
     "data": {
      "text/html": [
       "<div>\n",
       "<style scoped>\n",
       "    .dataframe tbody tr th:only-of-type {\n",
       "        vertical-align: middle;\n",
       "    }\n",
       "\n",
       "    .dataframe tbody tr th {\n",
       "        vertical-align: top;\n",
       "    }\n",
       "\n",
       "    .dataframe thead th {\n",
       "        text-align: right;\n",
       "    }\n",
       "</style>\n",
       "<table border=\"1\" class=\"dataframe\">\n",
       "  <thead>\n",
       "    <tr style=\"text-align: right;\">\n",
       "      <th></th>\n",
       "      <th>Age</th>\n",
       "      <th>EstimatedSalary</th>\n",
       "      <th>Purchased</th>\n",
       "    </tr>\n",
       "  </thead>\n",
       "  <tbody>\n",
       "    <tr>\n",
       "      <th>0</th>\n",
       "      <td>19</td>\n",
       "      <td>19000</td>\n",
       "      <td>0</td>\n",
       "    </tr>\n",
       "    <tr>\n",
       "      <th>1</th>\n",
       "      <td>35</td>\n",
       "      <td>20000</td>\n",
       "      <td>0</td>\n",
       "    </tr>\n",
       "    <tr>\n",
       "      <th>2</th>\n",
       "      <td>26</td>\n",
       "      <td>43000</td>\n",
       "      <td>0</td>\n",
       "    </tr>\n",
       "    <tr>\n",
       "      <th>3</th>\n",
       "      <td>27</td>\n",
       "      <td>57000</td>\n",
       "      <td>0</td>\n",
       "    </tr>\n",
       "    <tr>\n",
       "      <th>4</th>\n",
       "      <td>19</td>\n",
       "      <td>76000</td>\n",
       "      <td>0</td>\n",
       "    </tr>\n",
       "  </tbody>\n",
       "</table>\n",
       "</div>"
      ],
      "text/plain": [
       "   Age  EstimatedSalary  Purchased\n",
       "0   19            19000          0\n",
       "1   35            20000          0\n",
       "2   26            43000          0\n",
       "3   27            57000          0\n",
       "4   19            76000          0"
      ]
     },
     "execution_count": 3,
     "metadata": {},
     "output_type": "execute_result"
    }
   ],
   "source": [
    "df.head()"
   ]
  },
  {
   "cell_type": "code",
   "execution_count": 4,
   "id": "3f8d961c",
   "metadata": {
    "execution": {
     "iopub.execute_input": "2024-07-08T09:24:51.626287Z",
     "iopub.status.busy": "2024-07-08T09:24:51.625891Z",
     "iopub.status.idle": "2024-07-08T09:24:51.654045Z",
     "shell.execute_reply": "2024-07-08T09:24:51.652861Z"
    },
    "papermill": {
     "duration": 0.041381,
     "end_time": "2024-07-08T09:24:51.656892",
     "exception": false,
     "start_time": "2024-07-08T09:24:51.615511",
     "status": "completed"
    },
    "tags": []
   },
   "outputs": [
    {
     "data": {
      "text/html": [
       "<div>\n",
       "<style scoped>\n",
       "    .dataframe tbody tr th:only-of-type {\n",
       "        vertical-align: middle;\n",
       "    }\n",
       "\n",
       "    .dataframe tbody tr th {\n",
       "        vertical-align: top;\n",
       "    }\n",
       "\n",
       "    .dataframe thead th {\n",
       "        text-align: right;\n",
       "    }\n",
       "</style>\n",
       "<table border=\"1\" class=\"dataframe\">\n",
       "  <thead>\n",
       "    <tr style=\"text-align: right;\">\n",
       "      <th></th>\n",
       "      <th>Age</th>\n",
       "      <th>EstimatedSalary</th>\n",
       "      <th>Purchased</th>\n",
       "    </tr>\n",
       "  </thead>\n",
       "  <tbody>\n",
       "    <tr>\n",
       "      <th>count</th>\n",
       "      <td>400.000000</td>\n",
       "      <td>400.000000</td>\n",
       "      <td>400.000000</td>\n",
       "    </tr>\n",
       "    <tr>\n",
       "      <th>mean</th>\n",
       "      <td>37.655000</td>\n",
       "      <td>69742.500000</td>\n",
       "      <td>0.357500</td>\n",
       "    </tr>\n",
       "    <tr>\n",
       "      <th>std</th>\n",
       "      <td>10.482877</td>\n",
       "      <td>34096.960282</td>\n",
       "      <td>0.479864</td>\n",
       "    </tr>\n",
       "    <tr>\n",
       "      <th>min</th>\n",
       "      <td>18.000000</td>\n",
       "      <td>15000.000000</td>\n",
       "      <td>0.000000</td>\n",
       "    </tr>\n",
       "    <tr>\n",
       "      <th>25%</th>\n",
       "      <td>29.750000</td>\n",
       "      <td>43000.000000</td>\n",
       "      <td>0.000000</td>\n",
       "    </tr>\n",
       "    <tr>\n",
       "      <th>50%</th>\n",
       "      <td>37.000000</td>\n",
       "      <td>70000.000000</td>\n",
       "      <td>0.000000</td>\n",
       "    </tr>\n",
       "    <tr>\n",
       "      <th>75%</th>\n",
       "      <td>46.000000</td>\n",
       "      <td>88000.000000</td>\n",
       "      <td>1.000000</td>\n",
       "    </tr>\n",
       "    <tr>\n",
       "      <th>max</th>\n",
       "      <td>60.000000</td>\n",
       "      <td>150000.000000</td>\n",
       "      <td>1.000000</td>\n",
       "    </tr>\n",
       "  </tbody>\n",
       "</table>\n",
       "</div>"
      ],
      "text/plain": [
       "              Age  EstimatedSalary   Purchased\n",
       "count  400.000000       400.000000  400.000000\n",
       "mean    37.655000     69742.500000    0.357500\n",
       "std     10.482877     34096.960282    0.479864\n",
       "min     18.000000     15000.000000    0.000000\n",
       "25%     29.750000     43000.000000    0.000000\n",
       "50%     37.000000     70000.000000    0.000000\n",
       "75%     46.000000     88000.000000    1.000000\n",
       "max     60.000000    150000.000000    1.000000"
      ]
     },
     "execution_count": 4,
     "metadata": {},
     "output_type": "execute_result"
    }
   ],
   "source": [
    "df.describe()"
   ]
  },
  {
   "cell_type": "code",
   "execution_count": 5,
   "id": "9327cee5",
   "metadata": {
    "execution": {
     "iopub.execute_input": "2024-07-08T09:24:51.675023Z",
     "iopub.status.busy": "2024-07-08T09:24:51.674199Z",
     "iopub.status.idle": "2024-07-08T09:24:53.193497Z",
     "shell.execute_reply": "2024-07-08T09:24:53.191968Z"
    },
    "papermill": {
     "duration": 1.532018,
     "end_time": "2024-07-08T09:24:53.196907",
     "exception": false,
     "start_time": "2024-07-08T09:24:51.664889",
     "status": "completed"
    },
    "tags": []
   },
   "outputs": [],
   "source": [
    "import seaborn as sns\n"
   ]
  },
  {
   "cell_type": "code",
   "execution_count": 6,
   "id": "45c6872f",
   "metadata": {
    "execution": {
     "iopub.execute_input": "2024-07-08T09:24:53.219931Z",
     "iopub.status.busy": "2024-07-08T09:24:53.219373Z",
     "iopub.status.idle": "2024-07-08T09:24:53.576611Z",
     "shell.execute_reply": "2024-07-08T09:24:53.575535Z"
    },
    "papermill": {
     "duration": 0.371421,
     "end_time": "2024-07-08T09:24:53.579723",
     "exception": false,
     "start_time": "2024-07-08T09:24:53.208302",
     "status": "completed"
    },
    "tags": []
   },
   "outputs": [
    {
     "data": {
      "text/plain": [
       "<Axes: xlabel='Age', ylabel='EstimatedSalary'>"
      ]
     },
     "execution_count": 6,
     "metadata": {},
     "output_type": "execute_result"
    },
    {
     "data": {
      "image/png": "[encoded data removed]",
      "text/plain": [
       "<Figure size 640x480 with 1 Axes>"
      ]
     },
     "metadata": {},
     "output_type": "display_data"
    }
   ],
   "source": [
    "sns.scatterplot(x=df.iloc[:,0],y=df.iloc[:,1])"
   ]
  },
  {
   "cell_type": "code",
   "execution_count": 7,
   "id": "911b1f9e",
   "metadata": {
    "execution": {
     "iopub.execute_input": "2024-07-08T09:24:53.603170Z",
     "iopub.status.busy": "2024-07-08T09:24:53.602666Z",
     "iopub.status.idle": "2024-07-08T09:24:53.611070Z",
     "shell.execute_reply": "2024-07-08T09:24:53.609935Z"
    },
    "papermill": {
     "duration": 0.021861,
     "end_time": "2024-07-08T09:24:53.614055",
     "exception": false,
     "start_time": "2024-07-08T09:24:53.592194",
     "status": "completed"
    },
    "tags": []
   },
   "outputs": [],
   "source": [
    "x = df.iloc[:,0:2]\n",
    "y = df.iloc[:,-1]"
   ]
  },
  {
   "cell_type": "code",
   "execution_count": 8,
   "id": "ae206c9f",
   "metadata": {
    "execution": {
     "iopub.execute_input": "2024-07-08T09:24:53.638556Z",
     "iopub.status.busy": "2024-07-08T09:24:53.638057Z",
     "iopub.status.idle": "2024-07-08T09:24:54.010547Z",
     "shell.execute_reply": "2024-07-08T09:24:54.009185Z"
    },
    "papermill": {
     "duration": 0.387381,
     "end_time": "2024-07-08T09:24:54.013567",
     "exception": false,
     "start_time": "2024-07-08T09:24:53.626186",
     "status": "completed"
    },
    "tags": []
   },
   "outputs": [],
   "source": [
    "from sklearn.model_selection import train_test_split\n",
    "X_train,X_test,y_train,y_test = train_test_split(x,y,test_size=0.2,random_state=42)"
   ]
  },
  {
   "cell_type": "code",
   "execution_count": 9,
   "id": "c835e03e",
   "metadata": {
    "execution": {
     "iopub.execute_input": "2024-07-08T09:24:54.032772Z",
     "iopub.status.busy": "2024-07-08T09:24:54.032334Z",
     "iopub.status.idle": "2024-07-08T09:25:08.358613Z",
     "shell.execute_reply": "2024-07-08T09:25:08.357303Z"
    },
    "papermill": {
     "duration": 14.339312,
     "end_time": "2024-07-08T09:25:08.361600",
     "exception": false,
     "start_time": "2024-07-08T09:24:54.022288",
     "status": "completed"
    },
    "tags": []
   },
   "outputs": [
    {
     "name": "stderr",
     "output_type": "stream",
     "text": [
      "2024-07-08 09:24:56.365076: E external/local_xla/xla/stream_executor/cuda/cuda_dnn.cc:9261] Unable to register cuDNN factory: Attempting to register factory for plugin cuDNN when one has already been registered\n",
      "2024-07-08 09:24:56.365220: E external/local_xla/xla/stream_executor/cuda/cuda_fft.cc:607] Unable to register cuFFT factory: Attempting to register factory for plugin cuFFT when one has already been registered\n",
      "2024-07-08 09:24:56.538033: E external/local_xla/xla/stream_executor/cuda/cuda_blas.cc:1515] Unable to register cuBLAS factory: Attempting to register factory for plugin cuBLAS when one has already been registered\n"
     ]
    }
   ],
   "source": [
    "import tensorflow\n",
    "from tensorflow import keras\n",
    "from keras import Sequential\n",
    "from keras.layers import Dense"
   ]
  },
  {
   "cell_type": "code",
   "execution_count": 10,
   "id": "35f9359f",
   "metadata": {
    "execution": {
     "iopub.execute_input": "2024-07-08T09:25:08.381817Z",
     "iopub.status.busy": "2024-07-08T09:25:08.381065Z",
     "iopub.status.idle": "2024-07-08T09:25:08.463621Z",
     "shell.execute_reply": "2024-07-08T09:25:08.462472Z"
    },
    "papermill": {
     "duration": 0.095411,
     "end_time": "2024-07-08T09:25:08.466154",
     "exception": false,
     "start_time": "2024-07-08T09:25:08.370743",
     "status": "completed"
    },
    "tags": []
   },
   "outputs": [
    {
     "name": "stderr",
     "output_type": "stream",
     "text": [
      "/opt/conda/lib/python3.10/site-packages/keras/src/layers/core/dense.py:87: UserWarning: Do not pass an `input_shape`/`input_dim` argument to a layer. When using Sequential models, prefer using an `Input(shape)` object as the first layer in the model instead.\n",
      "  super().__init__(activity_regularizer=activity_regularizer, **kwargs)\n"
     ]
    }
   ],
   "source": [
    "model = Sequential()\n",
    "model.add(Dense(128,activation='relu',input_dim=2))\n",
    "model.add(Dense(1,activation='sigmoid'))"
   ]
  },
  {
   "cell_type": "code",
   "execution_count": 11,
   "id": "2f07794b",
   "metadata": {
    "execution": {
     "iopub.execute_input": "2024-07-08T09:25:08.486005Z",
     "iopub.status.busy": "2024-07-08T09:25:08.485554Z",
     "iopub.status.idle": "2024-07-08T09:25:08.506615Z",
     "shell.execute_reply": "2024-07-08T09:25:08.505310Z"
    },
    "papermill": {
     "duration": 0.034168,
     "end_time": "2024-07-08T09:25:08.509406",
     "exception": false,
     "start_time": "2024-07-08T09:25:08.475238",
     "status": "completed"
    },
    "tags": []
   },
   "outputs": [
    {
     "data": {
      "text/html": [
       "<pre style=\"white-space:pre;overflow-x:auto;line-height:normal;font-family:Menlo,'DejaVu Sans Mono',consolas,'Courier New',monospace\"><span style=\"font-weight: bold\">Model: \"sequential\"</span>\n",
       "</pre>\n"
      ],
      "text/plain": [
       "\u001b[1mModel: \"sequential\"\u001b[0m\n"
      ]
     },
     "metadata": {},
     "output_type": "display_data"
    },
    {
     "data": {
      "text/html": [
       "<pre style=\"white-space:pre;overflow-x:auto;line-height:normal;font-family:Menlo,'DejaVu Sans Mono',consolas,'Courier New',monospace\">┏━━━━━━━━━━━━━━━━━━━━━━━━━━━━━━━━━┳━━━━━━━━━━━━━━━━━━━━━━━━┳━━━━━━━━━━━━━━━┓\n",
       "┃<span style=\"font-weight: bold\"> Layer (type)                    </span>┃<span style=\"font-weight: bold\"> Output Shape           </span>┃<span style=\"font-weight: bold\">       Param # </span>┃\n",
       "┡━━━━━━━━━━━━━━━━━━━━━━━━━━━━━━━━━╇━━━━━━━━━━━━━━━━━━━━━━━━╇━━━━━━━━━━━━━━━┩\n",
       "│ dense (<span style=\"color: #0087ff; text-decoration-color: #0087ff\">Dense</span>)                   │ (<span style=\"color: #00d7ff; text-decoration-color: #00d7ff\">None</span>, <span style=\"color: #00af00; text-decoration-color: #00af00\">128</span>)            │           <span style=\"color: #00af00; text-decoration-color: #00af00\">384</span> │\n",
       "├─────────────────────────────────┼────────────────────────┼───────────────┤\n",
       "│ dense_1 (<span style=\"color: #0087ff; text-decoration-color: #0087ff\">Dense</span>)                 │ (<span style=\"color: #00d7ff; text-decoration-color: #00d7ff\">None</span>, <span style=\"color: #00af00; text-decoration-color: #00af00\">1</span>)              │           <span style=\"color: #00af00; text-decoration-color: #00af00\">129</span> │\n",
       "└─────────────────────────────────┴────────────────────────┴───────────────┘\n",
       "</pre>\n"
      ],
      "text/plain": [
       "┏━━━━━━━━━━━━━━━━━━━━━━━━━━━━━━━━━┳━━━━━━━━━━━━━━━━━━━━━━━━┳━━━━━━━━━━━━━━━┓\n",
       "┃\u001b[1m \u001b[0m\u001b[1mLayer (type)                   \u001b[0m\u001b[1m \u001b[0m┃\u001b[1m \u001b[0m\u001b[1mOutput Shape          \u001b[0m\u001b[1m \u001b[0m┃\u001b[1m \u001b[0m\u001b[1m      Param #\u001b[0m\u001b[1m \u001b[0m┃\n",
       "┡━━━━━━━━━━━━━━━━━━━━━━━━━━━━━━━━━╇━━━━━━━━━━━━━━━━━━━━━━━━╇━━━━━━━━━━━━━━━┩\n",
       "│ dense (\u001b[38;5;33mDense\u001b[0m)                   │ (\u001b[38;5;45mNone\u001b[0m, \u001b[38;5;34m128\u001b[0m)            │           \u001b[38;5;34m384\u001b[0m │\n",
       "├─────────────────────────────────┼────────────────────────┼───────────────┤\n",
       "│ dense_1 (\u001b[38;5;33mDense\u001b[0m)                 │ (\u001b[38;5;45mNone\u001b[0m, \u001b[38;5;34m1\u001b[0m)              │           \u001b[38;5;34m129\u001b[0m │\n",
       "└─────────────────────────────────┴────────────────────────┴───────────────┘\n"
      ]
     },
     "metadata": {},
     "output_type": "display_data"
    },
    {
     "data": {
      "text/html": [
       "<pre style=\"white-space:pre;overflow-x:auto;line-height:normal;font-family:Menlo,'DejaVu Sans Mono',consolas,'Courier New',monospace\"><span style=\"font-weight: bold\"> Total params: </span><span style=\"color: #00af00; text-decoration-color: #00af00\">513</span> (2.00 KB)\n",
       "</pre>\n"
      ],
      "text/plain": [
       "\u001b[1m Total params: \u001b[0m\u001b[38;5;34m513\u001b[0m (2.00 KB)\n"
      ]
     },
     "metadata": {},
     "output_type": "display_data"
    },
    {
     "data": {
      "text/html": [
       "<pre style=\"white-space:pre;overflow-x:auto;line-height:normal;font-family:Menlo,'DejaVu Sans Mono',consolas,'Courier New',monospace\"><span style=\"font-weight: bold\"> Trainable params: </span><span style=\"color: #00af00; text-decoration-color: #00af00\">513</span> (2.00 KB)\n",
       "</pre>\n"
      ],
      "text/plain": [
       "\u001b[1m Trainable params: \u001b[0m\u001b[38;5;34m513\u001b[0m (2.00 KB)\n"
      ]
     },
     "metadata": {},
     "output_type": "display_data"
    },
    {
     "data": {
      "text/html": [
       "<pre style=\"white-space:pre;overflow-x:auto;line-height:normal;font-family:Menlo,'DejaVu Sans Mono',consolas,'Courier New',monospace\"><span style=\"font-weight: bold\"> Non-trainable params: </span><span style=\"color: #00af00; text-decoration-color: #00af00\">0</span> (0.00 B)\n",
       "</pre>\n"
      ],
      "text/plain": [
       "\u001b[1m Non-trainable params: \u001b[0m\u001b[38;5;34m0\u001b[0m (0.00 B)\n"
      ]
     },
     "metadata": {},
     "output_type": "display_data"
    }
   ],
   "source": [
    "model.summary()"
   ]
  },
  {
   "cell_type": "code",
   "execution_count": 12,
   "id": "f08dd482",
   "metadata": {
    "execution": {
     "iopub.execute_input": "2024-07-08T09:25:08.531515Z",
     "iopub.status.busy": "2024-07-08T09:25:08.530677Z",
     "iopub.status.idle": "2024-07-08T09:25:08.546604Z",
     "shell.execute_reply": "2024-07-08T09:25:08.545387Z"
    },
    "papermill": {
     "duration": 0.029932,
     "end_time": "2024-07-08T09:25:08.549318",
     "exception": false,
     "start_time": "2024-07-08T09:25:08.519386",
     "status": "completed"
    },
    "tags": []
   },
   "outputs": [],
   "source": [
    "model.compile(loss='binary_crossentropy',optimizer='adam',metrics=['accuracy'])"
   ]
  },
  {
   "cell_type": "code",
   "execution_count": 13,
   "id": "1e668a74",
   "metadata": {
    "execution": {
     "iopub.execute_input": "2024-07-08T09:25:08.571746Z",
     "iopub.status.busy": "2024-07-08T09:25:08.570928Z",
     "iopub.status.idle": "2024-07-08T09:25:16.950976Z",
     "shell.execute_reply": "2024-07-08T09:25:16.949744Z"
    },
    "papermill": {
     "duration": 8.394457,
     "end_time": "2024-07-08T09:25:16.954091",
     "exception": false,
     "start_time": "2024-07-08T09:25:08.559634",
     "status": "completed"
    },
    "tags": []
   },
   "outputs": [
    {
     "name": "stdout",
     "output_type": "stream",
     "text": [
      "Epoch 1/100\n",
      "\u001b[1m10/10\u001b[0m \u001b[32m━━━━━━━━━━━━━━━━━━━━\u001b[0m\u001b[37m\u001b[0m \u001b[1m1s\u001b[0m 25ms/step - accuracy: 0.3537 - loss: 7450.0425 - val_accuracy: 0.3500 - val_loss: 2902.6211\n",
      "Epoch 2/100\n",
      "\u001b[1m10/10\u001b[0m \u001b[32m━━━━━━━━━━━━━━━━━━━━\u001b[0m\u001b[37m\u001b[0m \u001b[1m0s\u001b[0m 5ms/step - accuracy: 0.3908 - loss: 1774.0913 - val_accuracy: 0.6500 - val_loss: 1044.4017\n",
      "Epoch 3/100\n",
      "\u001b[1m10/10\u001b[0m \u001b[32m━━━━━━━━━━━━━━━━━━━━\u001b[0m\u001b[37m\u001b[0m \u001b[1m0s\u001b[0m 5ms/step - accuracy: 0.6656 - loss: 971.2185 - val_accuracy: 0.3500 - val_loss: 160.7911\n",
      "Epoch 4/100\n",
      "\u001b[1m10/10\u001b[0m \u001b[32m━━━━━━━━━━━━━━━━━━━━\u001b[0m\u001b[37m\u001b[0m \u001b[1m0s\u001b[0m 5ms/step - accuracy: 0.3479 - loss: 379.0238 - val_accuracy: 0.6500 - val_loss: 289.3762\n",
      "Epoch 5/100\n",
      "\u001b[1m10/10\u001b[0m \u001b[32m━━━━━━━━━━━━━━━━━━━━\u001b[0m\u001b[37m\u001b[0m \u001b[1m0s\u001b[0m 5ms/step - accuracy: 0.5993 - loss: 279.5721 - val_accuracy: 0.3500 - val_loss: 205.1706\n",
      "Epoch 6/100\n",
      "\u001b[1m10/10\u001b[0m \u001b[32m━━━━━━━━━━━━━━━━━━━━\u001b[0m\u001b[37m\u001b[0m \u001b[1m0s\u001b[0m 5ms/step - accuracy: 0.4940 - loss: 159.0336 - val_accuracy: 0.3500 - val_loss: 247.8364\n",
      "Epoch 7/100\n",
      "\u001b[1m10/10\u001b[0m \u001b[32m━━━━━━━━━━━━━━━━━━━━\u001b[0m\u001b[37m\u001b[0m \u001b[1m0s\u001b[0m 5ms/step - accuracy: 0.3822 - loss: 190.0985 - val_accuracy: 0.3500 - val_loss: 63.9556\n",
      "Epoch 8/100\n",
      "\u001b[1m10/10\u001b[0m \u001b[32m━━━━━━━━━━━━━━━━━━━━\u001b[0m\u001b[37m\u001b[0m \u001b[1m0s\u001b[0m 5ms/step - accuracy: 0.4693 - loss: 49.0046 - val_accuracy: 0.3500 - val_loss: 73.7940\n",
      "Epoch 9/100\n",
      "\u001b[1m10/10\u001b[0m \u001b[32m━━━━━━━━━━━━━━━━━━━━\u001b[0m\u001b[37m\u001b[0m \u001b[1m0s\u001b[0m 5ms/step - accuracy: 0.4737 - loss: 79.6429 - val_accuracy: 0.3500 - val_loss: 149.4636\n",
      "Epoch 10/100\n",
      "\u001b[1m10/10\u001b[0m \u001b[32m━━━━━━━━━━━━━━━━━━━━\u001b[0m\u001b[37m\u001b[0m \u001b[1m0s\u001b[0m 5ms/step - accuracy: 0.4611 - loss: 89.1221 - val_accuracy: 0.6500 - val_loss: 60.1653\n",
      "Epoch 11/100\n",
      "\u001b[1m10/10\u001b[0m \u001b[32m━━━━━━━━━━━━━━━━━━━━\u001b[0m\u001b[37m\u001b[0m \u001b[1m0s\u001b[0m 5ms/step - accuracy: 0.5532 - loss: 46.8483 - val_accuracy: 0.6500 - val_loss: 47.2774\n",
      "Epoch 12/100\n",
      "\u001b[1m10/10\u001b[0m \u001b[32m━━━━━━━━━━━━━━━━━━━━\u001b[0m\u001b[37m\u001b[0m \u001b[1m0s\u001b[0m 5ms/step - accuracy: 0.5720 - loss: 51.7897 - val_accuracy: 0.3500 - val_loss: 79.1613\n",
      "Epoch 13/100\n",
      "\u001b[1m10/10\u001b[0m \u001b[32m━━━━━━━━━━━━━━━━━━━━\u001b[0m\u001b[37m\u001b[0m \u001b[1m0s\u001b[0m 5ms/step - accuracy: 0.4572 - loss: 88.4006 - val_accuracy: 0.3500 - val_loss: 83.7233\n",
      "Epoch 14/100\n",
      "\u001b[1m10/10\u001b[0m \u001b[32m━━━━━━━━━━━━━━━━━━━━\u001b[0m\u001b[37m\u001b[0m \u001b[1m0s\u001b[0m 5ms/step - accuracy: 0.4047 - loss: 83.6521 - val_accuracy: 0.6500 - val_loss: 11.3059\n",
      "Epoch 15/100\n",
      "\u001b[1m10/10\u001b[0m \u001b[32m━━━━━━━━━━━━━━━━━━━━\u001b[0m\u001b[37m\u001b[0m \u001b[1m0s\u001b[0m 5ms/step - accuracy: 0.5832 - loss: 53.6287 - val_accuracy: 0.6500 - val_loss: 34.6098\n",
      "Epoch 16/100\n",
      "\u001b[1m10/10\u001b[0m \u001b[32m━━━━━━━━━━━━━━━━━━━━\u001b[0m\u001b[37m\u001b[0m \u001b[1m0s\u001b[0m 5ms/step - accuracy: 0.4188 - loss: 92.5542 - val_accuracy: 0.3500 - val_loss: 137.5020\n",
      "Epoch 17/100\n",
      "\u001b[1m10/10\u001b[0m \u001b[32m━━━━━━━━━━━━━━━━━━━━\u001b[0m\u001b[37m\u001b[0m \u001b[1m0s\u001b[0m 5ms/step - accuracy: 0.3969 - loss: 153.6904 - val_accuracy: 0.6500 - val_loss: 17.8118\n",
      "Epoch 18/100\n",
      "\u001b[1m10/10\u001b[0m \u001b[32m━━━━━━━━━━━━━━━━━━━━\u001b[0m\u001b[37m\u001b[0m \u001b[1m0s\u001b[0m 5ms/step - accuracy: 0.4488 - loss: 126.2028 - val_accuracy: 0.6500 - val_loss: 138.5570\n",
      "Epoch 19/100\n",
      "\u001b[1m10/10\u001b[0m \u001b[32m━━━━━━━━━━━━━━━━━━━━\u001b[0m\u001b[37m\u001b[0m \u001b[1m0s\u001b[0m 5ms/step - accuracy: 0.5016 - loss: 126.3293 - val_accuracy: 0.6500 - val_loss: 221.2591\n",
      "Epoch 20/100\n",
      "\u001b[1m10/10\u001b[0m \u001b[32m━━━━━━━━━━━━━━━━━━━━\u001b[0m\u001b[37m\u001b[0m \u001b[1m0s\u001b[0m 5ms/step - accuracy: 0.5521 - loss: 208.8503 - val_accuracy: 0.6500 - val_loss: 75.1791\n",
      "Epoch 21/100\n",
      "\u001b[1m10/10\u001b[0m \u001b[32m━━━━━━━━━━━━━━━━━━━━\u001b[0m\u001b[37m\u001b[0m \u001b[1m0s\u001b[0m 5ms/step - accuracy: 0.6340 - loss: 153.1046 - val_accuracy: 0.6500 - val_loss: 3.3269\n",
      "Epoch 22/100\n",
      "\u001b[1m10/10\u001b[0m \u001b[32m━━━━━━━━━━━━━━━━━━━━\u001b[0m\u001b[37m\u001b[0m \u001b[1m0s\u001b[0m 5ms/step - accuracy: 0.5490 - loss: 16.0927 - val_accuracy: 0.6500 - val_loss: 50.7324\n",
      "Epoch 23/100\n",
      "\u001b[1m10/10\u001b[0m \u001b[32m━━━━━━━━━━━━━━━━━━━━\u001b[0m\u001b[37m\u001b[0m \u001b[1m0s\u001b[0m 5ms/step - accuracy: 0.4982 - loss: 42.6702 - val_accuracy: 0.6500 - val_loss: 51.9589\n",
      "Epoch 24/100\n",
      "\u001b[1m10/10\u001b[0m \u001b[32m━━━━━━━━━━━━━━━━━━━━\u001b[0m\u001b[37m\u001b[0m \u001b[1m0s\u001b[0m 5ms/step - accuracy: 0.5656 - loss: 54.2239 - val_accuracy: 0.3500 - val_loss: 43.7650\n",
      "Epoch 25/100\n",
      "\u001b[1m10/10\u001b[0m \u001b[32m━━━━━━━━━━━━━━━━━━━━\u001b[0m\u001b[37m\u001b[0m \u001b[1m0s\u001b[0m 6ms/step - accuracy: 0.5046 - loss: 32.2910 - val_accuracy: 0.6500 - val_loss: 71.6961\n",
      "Epoch 26/100\n",
      "\u001b[1m10/10\u001b[0m \u001b[32m━━━━━━━━━━━━━━━━━━━━\u001b[0m\u001b[37m\u001b[0m \u001b[1m0s\u001b[0m 5ms/step - accuracy: 0.6097 - loss: 91.4094 - val_accuracy: 0.6500 - val_loss: 82.5743\n",
      "Epoch 27/100\n",
      "\u001b[1m10/10\u001b[0m \u001b[32m━━━━━━━━━━━━━━━━━━━━\u001b[0m\u001b[37m\u001b[0m \u001b[1m0s\u001b[0m 5ms/step - accuracy: 0.6050 - loss: 75.8730 - val_accuracy: 0.3500 - val_loss: 53.0065\n",
      "Epoch 28/100\n",
      "\u001b[1m10/10\u001b[0m \u001b[32m━━━━━━━━━━━━━━━━━━━━\u001b[0m\u001b[37m\u001b[0m \u001b[1m0s\u001b[0m 5ms/step - accuracy: 0.4046 - loss: 56.9800 - val_accuracy: 0.6500 - val_loss: 92.7779\n",
      "Epoch 29/100\n",
      "\u001b[1m10/10\u001b[0m \u001b[32m━━━━━━━━━━━━━━━━━━━━\u001b[0m\u001b[37m\u001b[0m \u001b[1m0s\u001b[0m 5ms/step - accuracy: 0.5492 - loss: 75.8671 - val_accuracy: 0.3500 - val_loss: 42.4623\n",
      "Epoch 30/100\n",
      "\u001b[1m10/10\u001b[0m \u001b[32m━━━━━━━━━━━━━━━━━━━━\u001b[0m\u001b[37m\u001b[0m \u001b[1m0s\u001b[0m 5ms/step - accuracy: 0.3972 - loss: 32.6594 - val_accuracy: 0.6625 - val_loss: 2.9341\n",
      "Epoch 31/100\n",
      "\u001b[1m10/10\u001b[0m \u001b[32m━━━━━━━━━━━━━━━━━━━━\u001b[0m\u001b[37m\u001b[0m \u001b[1m0s\u001b[0m 5ms/step - accuracy: 0.5759 - loss: 27.0737 - val_accuracy: 0.6500 - val_loss: 48.9940\n",
      "Epoch 32/100\n",
      "\u001b[1m10/10\u001b[0m \u001b[32m━━━━━━━━━━━━━━━━━━━━\u001b[0m\u001b[37m\u001b[0m \u001b[1m0s\u001b[0m 5ms/step - accuracy: 0.5946 - loss: 61.3868 - val_accuracy: 0.6500 - val_loss: 43.0179\n",
      "Epoch 33/100\n",
      "\u001b[1m10/10\u001b[0m \u001b[32m━━━━━━━━━━━━━━━━━━━━\u001b[0m\u001b[37m\u001b[0m \u001b[1m0s\u001b[0m 5ms/step - accuracy: 0.5141 - loss: 77.5528 - val_accuracy: 0.3500 - val_loss: 57.9747\n",
      "Epoch 34/100\n",
      "\u001b[1m10/10\u001b[0m \u001b[32m━━━━━━━━━━━━━━━━━━━━\u001b[0m\u001b[37m\u001b[0m \u001b[1m0s\u001b[0m 5ms/step - accuracy: 0.4382 - loss: 78.0001 - val_accuracy: 0.6500 - val_loss: 81.8415\n",
      "Epoch 35/100\n",
      "\u001b[1m10/10\u001b[0m \u001b[32m━━━━━━━━━━━━━━━━━━━━\u001b[0m\u001b[37m\u001b[0m \u001b[1m0s\u001b[0m 5ms/step - accuracy: 0.6306 - loss: 106.3130 - val_accuracy: 0.6500 - val_loss: 33.2081\n",
      "Epoch 36/100\n",
      "\u001b[1m10/10\u001b[0m \u001b[32m━━━━━━━━━━━━━━━━━━━━\u001b[0m\u001b[37m\u001b[0m \u001b[1m0s\u001b[0m 5ms/step - accuracy: 0.4984 - loss: 53.3955 - val_accuracy: 0.3500 - val_loss: 58.1685\n",
      "Epoch 37/100\n",
      "\u001b[1m10/10\u001b[0m \u001b[32m━━━━━━━━━━━━━━━━━━━━\u001b[0m\u001b[37m\u001b[0m \u001b[1m0s\u001b[0m 5ms/step - accuracy: 0.5572 - loss: 36.5283 - val_accuracy: 0.6500 - val_loss: 60.9204\n",
      "Epoch 38/100\n",
      "\u001b[1m10/10\u001b[0m \u001b[32m━━━━━━━━━━━━━━━━━━━━\u001b[0m\u001b[37m\u001b[0m \u001b[1m0s\u001b[0m 5ms/step - accuracy: 0.5881 - loss: 44.6694 - val_accuracy: 0.6500 - val_loss: 11.6093\n",
      "Epoch 39/100\n",
      "\u001b[1m10/10\u001b[0m \u001b[32m━━━━━━━━━━━━━━━━━━━━\u001b[0m\u001b[37m\u001b[0m \u001b[1m0s\u001b[0m 5ms/step - accuracy: 0.5523 - loss: 14.7332 - val_accuracy: 0.6500 - val_loss: 68.4505\n",
      "Epoch 40/100\n",
      "\u001b[1m10/10\u001b[0m \u001b[32m━━━━━━━━━━━━━━━━━━━━\u001b[0m\u001b[37m\u001b[0m \u001b[1m0s\u001b[0m 5ms/step - accuracy: 0.5066 - loss: 72.0390 - val_accuracy: 0.3500 - val_loss: 33.3957\n",
      "Epoch 41/100\n",
      "\u001b[1m10/10\u001b[0m \u001b[32m━━━━━━━━━━━━━━━━━━━━\u001b[0m\u001b[37m\u001b[0m \u001b[1m0s\u001b[0m 5ms/step - accuracy: 0.5286 - loss: 27.8498 - val_accuracy: 0.3500 - val_loss: 118.1865\n",
      "Epoch 42/100\n",
      "\u001b[1m10/10\u001b[0m \u001b[32m━━━━━━━━━━━━━━━━━━━━\u001b[0m\u001b[37m\u001b[0m \u001b[1m0s\u001b[0m 5ms/step - accuracy: 0.4983 - loss: 66.7824 - val_accuracy: 0.6500 - val_loss: 84.9212\n",
      "Epoch 43/100\n",
      "\u001b[1m10/10\u001b[0m \u001b[32m━━━━━━━━━━━━━━━━━━━━\u001b[0m\u001b[37m\u001b[0m \u001b[1m0s\u001b[0m 5ms/step - accuracy: 0.5605 - loss: 83.2672 - val_accuracy: 0.6500 - val_loss: 118.2388\n",
      "Epoch 44/100\n",
      "\u001b[1m10/10\u001b[0m \u001b[32m━━━━━━━━━━━━━━━━━━━━\u001b[0m\u001b[37m\u001b[0m \u001b[1m0s\u001b[0m 5ms/step - accuracy: 0.5257 - loss: 87.5474 - val_accuracy: 0.6500 - val_loss: 16.3080\n",
      "Epoch 45/100\n",
      "\u001b[1m10/10\u001b[0m \u001b[32m━━━━━━━━━━━━━━━━━━━━\u001b[0m\u001b[37m\u001b[0m \u001b[1m0s\u001b[0m 5ms/step - accuracy: 0.5884 - loss: 40.0366 - val_accuracy: 0.3125 - val_loss: 11.1970\n",
      "Epoch 46/100\n",
      "\u001b[1m10/10\u001b[0m \u001b[32m━━━━━━━━━━━━━━━━━━━━\u001b[0m\u001b[37m\u001b[0m \u001b[1m0s\u001b[0m 5ms/step - accuracy: 0.4829 - loss: 16.6459 - val_accuracy: 0.6500 - val_loss: 17.7787\n",
      "Epoch 47/100\n",
      "\u001b[1m10/10\u001b[0m \u001b[32m━━━━━━━━━━━━━━━━━━━━\u001b[0m\u001b[37m\u001b[0m \u001b[1m0s\u001b[0m 5ms/step - accuracy: 0.5547 - loss: 17.5158 - val_accuracy: 0.6500 - val_loss: 27.1187\n",
      "Epoch 48/100\n",
      "\u001b[1m10/10\u001b[0m \u001b[32m━━━━━━━━━━━━━━━━━━━━\u001b[0m\u001b[37m\u001b[0m \u001b[1m0s\u001b[0m 5ms/step - accuracy: 0.5483 - loss: 20.7934 - val_accuracy: 0.3500 - val_loss: 79.3693\n",
      "Epoch 49/100\n",
      "\u001b[1m10/10\u001b[0m \u001b[32m━━━━━━━━━━━━━━━━━━━━\u001b[0m\u001b[37m\u001b[0m \u001b[1m0s\u001b[0m 5ms/step - accuracy: 0.4822 - loss: 80.3077 - val_accuracy: 0.3500 - val_loss: 34.1340\n",
      "Epoch 50/100\n",
      "\u001b[1m10/10\u001b[0m \u001b[32m━━━━━━━━━━━━━━━━━━━━\u001b[0m\u001b[37m\u001b[0m \u001b[1m0s\u001b[0m 5ms/step - accuracy: 0.4883 - loss: 68.8914 - val_accuracy: 0.6500 - val_loss: 127.3781\n",
      "Epoch 51/100\n",
      "\u001b[1m10/10\u001b[0m \u001b[32m━━━━━━━━━━━━━━━━━━━━\u001b[0m\u001b[37m\u001b[0m \u001b[1m0s\u001b[0m 5ms/step - accuracy: 0.6169 - loss: 110.8708 - val_accuracy: 0.6500 - val_loss: 63.7594\n",
      "Epoch 52/100\n",
      "\u001b[1m10/10\u001b[0m \u001b[32m━━━━━━━━━━━━━━━━━━━━\u001b[0m\u001b[37m\u001b[0m \u001b[1m0s\u001b[0m 5ms/step - accuracy: 0.5335 - loss: 49.4524 - val_accuracy: 0.6500 - val_loss: 4.7183\n",
      "Epoch 53/100\n",
      "\u001b[1m10/10\u001b[0m \u001b[32m━━━━━━━━━━━━━━━━━━━━\u001b[0m\u001b[37m\u001b[0m \u001b[1m0s\u001b[0m 5ms/step - accuracy: 0.5369 - loss: 54.4051 - val_accuracy: 0.3250 - val_loss: 4.7495\n",
      "Epoch 54/100\n",
      "\u001b[1m10/10\u001b[0m \u001b[32m━━━━━━━━━━━━━━━━━━━━\u001b[0m\u001b[37m\u001b[0m \u001b[1m0s\u001b[0m 5ms/step - accuracy: 0.5573 - loss: 49.0411 - val_accuracy: 0.6500 - val_loss: 30.6502\n",
      "Epoch 55/100\n",
      "\u001b[1m10/10\u001b[0m \u001b[32m━━━━━━━━━━━━━━━━━━━━\u001b[0m\u001b[37m\u001b[0m \u001b[1m0s\u001b[0m 5ms/step - accuracy: 0.5229 - loss: 38.1158 - val_accuracy: 0.6500 - val_loss: 63.6989\n",
      "Epoch 56/100\n",
      "\u001b[1m10/10\u001b[0m \u001b[32m━━━━━━━━━━━━━━━━━━━━\u001b[0m\u001b[37m\u001b[0m \u001b[1m0s\u001b[0m 5ms/step - accuracy: 0.5323 - loss: 78.1671 - val_accuracy: 0.6500 - val_loss: 122.7282\n",
      "Epoch 57/100\n",
      "\u001b[1m10/10\u001b[0m \u001b[32m━━━━━━━━━━━━━━━━━━━━\u001b[0m\u001b[37m\u001b[0m \u001b[1m0s\u001b[0m 5ms/step - accuracy: 0.5640 - loss: 73.2422 - val_accuracy: 0.3500 - val_loss: 124.1584\n",
      "Epoch 58/100\n",
      "\u001b[1m10/10\u001b[0m \u001b[32m━━━━━━━━━━━━━━━━━━━━\u001b[0m\u001b[37m\u001b[0m \u001b[1m0s\u001b[0m 5ms/step - accuracy: 0.4376 - loss: 75.3743 - val_accuracy: 0.6500 - val_loss: 95.6824\n",
      "Epoch 59/100\n",
      "\u001b[1m10/10\u001b[0m \u001b[32m━━━━━━━━━━━━━━━━━━━━\u001b[0m\u001b[37m\u001b[0m \u001b[1m0s\u001b[0m 5ms/step - accuracy: 0.5433 - loss: 70.8873 - val_accuracy: 0.3500 - val_loss: 49.4701\n",
      "Epoch 60/100\n",
      "\u001b[1m10/10\u001b[0m \u001b[32m━━━━━━━━━━━━━━━━━━━━\u001b[0m\u001b[37m\u001b[0m \u001b[1m0s\u001b[0m 5ms/step - accuracy: 0.5124 - loss: 33.8983 - val_accuracy: 0.6500 - val_loss: 9.9217\n",
      "Epoch 61/100\n",
      "\u001b[1m10/10\u001b[0m \u001b[32m━━━━━━━━━━━━━━━━━━━━\u001b[0m\u001b[37m\u001b[0m \u001b[1m0s\u001b[0m 5ms/step - accuracy: 0.5416 - loss: 18.5233 - val_accuracy: 0.6500 - val_loss: 44.9462\n",
      "Epoch 62/100\n",
      "\u001b[1m10/10\u001b[0m \u001b[32m━━━━━━━━━━━━━━━━━━━━\u001b[0m\u001b[37m\u001b[0m \u001b[1m0s\u001b[0m 5ms/step - accuracy: 0.5987 - loss: 41.5115 - val_accuracy: 0.3500 - val_loss: 79.2602\n",
      "Epoch 63/100\n",
      "\u001b[1m10/10\u001b[0m \u001b[32m━━━━━━━━━━━━━━━━━━━━\u001b[0m\u001b[37m\u001b[0m \u001b[1m0s\u001b[0m 5ms/step - accuracy: 0.5051 - loss: 47.3807 - val_accuracy: 0.6500 - val_loss: 34.1680\n",
      "Epoch 64/100\n",
      "\u001b[1m10/10\u001b[0m \u001b[32m━━━━━━━━━━━━━━━━━━━━\u001b[0m\u001b[37m\u001b[0m \u001b[1m0s\u001b[0m 5ms/step - accuracy: 0.5425 - loss: 33.5878 - val_accuracy: 0.6500 - val_loss: 25.4394\n",
      "Epoch 65/100\n",
      "\u001b[1m10/10\u001b[0m \u001b[32m━━━━━━━━━━━━━━━━━━━━\u001b[0m\u001b[37m\u001b[0m \u001b[1m0s\u001b[0m 5ms/step - accuracy: 0.5590 - loss: 16.8736 - val_accuracy: 0.6500 - val_loss: 40.2590\n",
      "Epoch 66/100\n",
      "\u001b[1m10/10\u001b[0m \u001b[32m━━━━━━━━━━━━━━━━━━━━\u001b[0m\u001b[37m\u001b[0m \u001b[1m0s\u001b[0m 5ms/step - accuracy: 0.5268 - loss: 60.3960 - val_accuracy: 0.3500 - val_loss: 63.2872\n",
      "Epoch 67/100\n",
      "\u001b[1m10/10\u001b[0m \u001b[32m━━━━━━━━━━━━━━━━━━━━\u001b[0m\u001b[37m\u001b[0m \u001b[1m0s\u001b[0m 5ms/step - accuracy: 0.4607 - loss: 43.4312 - val_accuracy: 0.6500 - val_loss: 44.1858\n",
      "Epoch 68/100\n",
      "\u001b[1m10/10\u001b[0m \u001b[32m━━━━━━━━━━━━━━━━━━━━\u001b[0m\u001b[37m\u001b[0m \u001b[1m0s\u001b[0m 5ms/step - accuracy: 0.5154 - loss: 73.0110 - val_accuracy: 0.6500 - val_loss: 88.8764\n",
      "Epoch 69/100\n",
      "\u001b[1m10/10\u001b[0m \u001b[32m━━━━━━━━━━━━━━━━━━━━\u001b[0m\u001b[37m\u001b[0m \u001b[1m0s\u001b[0m 5ms/step - accuracy: 0.5155 - loss: 68.6459 - val_accuracy: 0.3500 - val_loss: 144.5705\n",
      "Epoch 70/100\n",
      "\u001b[1m10/10\u001b[0m \u001b[32m━━━━━━━━━━━━━━━━━━━━\u001b[0m\u001b[37m\u001b[0m \u001b[1m0s\u001b[0m 5ms/step - accuracy: 0.4481 - loss: 142.3692 - val_accuracy: 0.3500 - val_loss: 20.2166\n",
      "Epoch 71/100\n",
      "\u001b[1m10/10\u001b[0m \u001b[32m━━━━━━━━━━━━━━━━━━━━\u001b[0m\u001b[37m\u001b[0m \u001b[1m0s\u001b[0m 5ms/step - accuracy: 0.4269 - loss: 43.8269 - val_accuracy: 0.6500 - val_loss: 111.7722\n",
      "Epoch 72/100\n",
      "\u001b[1m10/10\u001b[0m \u001b[32m━━━━━━━━━━━━━━━━━━━━\u001b[0m\u001b[37m\u001b[0m \u001b[1m0s\u001b[0m 5ms/step - accuracy: 0.5421 - loss: 95.5869 - val_accuracy: 0.3500 - val_loss: 30.2172\n",
      "Epoch 73/100\n",
      "\u001b[1m10/10\u001b[0m \u001b[32m━━━━━━━━━━━━━━━━━━━━\u001b[0m\u001b[37m\u001b[0m \u001b[1m0s\u001b[0m 5ms/step - accuracy: 0.5580 - loss: 39.3247 - val_accuracy: 0.6500 - val_loss: 41.9680\n",
      "Epoch 74/100\n",
      "\u001b[1m10/10\u001b[0m \u001b[32m━━━━━━━━━━━━━━━━━━━━\u001b[0m\u001b[37m\u001b[0m \u001b[1m0s\u001b[0m 5ms/step - accuracy: 0.5139 - loss: 30.9418 - val_accuracy: 0.3500 - val_loss: 31.9026\n",
      "Epoch 75/100\n",
      "\u001b[1m10/10\u001b[0m \u001b[32m━━━━━━━━━━━━━━━━━━━━\u001b[0m\u001b[37m\u001b[0m \u001b[1m0s\u001b[0m 5ms/step - accuracy: 0.4712 - loss: 35.3959 - val_accuracy: 0.3500 - val_loss: 29.8247\n",
      "Epoch 76/100\n",
      "\u001b[1m10/10\u001b[0m \u001b[32m━━━━━━━━━━━━━━━━━━━━\u001b[0m\u001b[37m\u001b[0m \u001b[1m0s\u001b[0m 5ms/step - accuracy: 0.4780 - loss: 71.2836 - val_accuracy: 0.6500 - val_loss: 122.5966\n",
      "Epoch 77/100\n",
      "\u001b[1m10/10\u001b[0m \u001b[32m━━━━━━━━━━━━━━━━━━━━\u001b[0m\u001b[37m\u001b[0m \u001b[1m0s\u001b[0m 5ms/step - accuracy: 0.6209 - loss: 94.6082 - val_accuracy: 0.6500 - val_loss: 78.3796\n",
      "Epoch 78/100\n",
      "\u001b[1m10/10\u001b[0m \u001b[32m━━━━━━━━━━━━━━━━━━━━\u001b[0m\u001b[37m\u001b[0m \u001b[1m0s\u001b[0m 5ms/step - accuracy: 0.5585 - loss: 65.8025 - val_accuracy: 0.3500 - val_loss: 142.6819\n",
      "Epoch 79/100\n",
      "\u001b[1m10/10\u001b[0m \u001b[32m━━━━━━━━━━━━━━━━━━━━\u001b[0m\u001b[37m\u001b[0m \u001b[1m0s\u001b[0m 5ms/step - accuracy: 0.4855 - loss: 100.9835 - val_accuracy: 0.3500 - val_loss: 100.1472\n",
      "Epoch 80/100\n",
      "\u001b[1m10/10\u001b[0m \u001b[32m━━━━━━━━━━━━━━━━━━━━\u001b[0m\u001b[37m\u001b[0m \u001b[1m0s\u001b[0m 5ms/step - accuracy: 0.4944 - loss: 84.1586 - val_accuracy: 0.6500 - val_loss: 12.2532\n",
      "Epoch 81/100\n",
      "\u001b[1m10/10\u001b[0m \u001b[32m━━━━━━━━━━━━━━━━━━━━\u001b[0m\u001b[37m\u001b[0m \u001b[1m0s\u001b[0m 5ms/step - accuracy: 0.4832 - loss: 34.8549 - val_accuracy: 0.6500 - val_loss: 45.4507\n",
      "Epoch 82/100\n",
      "\u001b[1m10/10\u001b[0m \u001b[32m━━━━━━━━━━━━━━━━━━━━\u001b[0m\u001b[37m\u001b[0m \u001b[1m0s\u001b[0m 5ms/step - accuracy: 0.5513 - loss: 66.1410 - val_accuracy: 0.3500 - val_loss: 37.1346\n",
      "Epoch 83/100\n",
      "\u001b[1m10/10\u001b[0m \u001b[32m━━━━━━━━━━━━━━━━━━━━\u001b[0m\u001b[37m\u001b[0m \u001b[1m0s\u001b[0m 5ms/step - accuracy: 0.5014 - loss: 32.7006 - val_accuracy: 0.3500 - val_loss: 30.6873\n",
      "Epoch 84/100\n",
      "\u001b[1m10/10\u001b[0m \u001b[32m━━━━━━━━━━━━━━━━━━━━\u001b[0m\u001b[37m\u001b[0m \u001b[1m0s\u001b[0m 5ms/step - accuracy: 0.4722 - loss: 30.1808 - val_accuracy: 0.6500 - val_loss: 38.6164\n",
      "Epoch 85/100\n",
      "\u001b[1m10/10\u001b[0m \u001b[32m━━━━━━━━━━━━━━━━━━━━\u001b[0m\u001b[37m\u001b[0m \u001b[1m0s\u001b[0m 7ms/step - accuracy: 0.5846 - loss: 46.9850 - val_accuracy: 0.3500 - val_loss: 45.7290\n",
      "Epoch 86/100\n",
      "\u001b[1m10/10\u001b[0m \u001b[32m━━━━━━━━━━━━━━━━━━━━\u001b[0m\u001b[37m\u001b[0m \u001b[1m0s\u001b[0m 5ms/step - accuracy: 0.4631 - loss: 63.2785 - val_accuracy: 0.3500 - val_loss: 189.9988\n",
      "Epoch 87/100\n",
      "\u001b[1m10/10\u001b[0m \u001b[32m━━━━━━━━━━━━━━━━━━━━\u001b[0m\u001b[37m\u001b[0m \u001b[1m0s\u001b[0m 5ms/step - accuracy: 0.4177 - loss: 116.7110 - val_accuracy: 0.5375 - val_loss: 2.4149\n",
      "Epoch 88/100\n",
      "\u001b[1m10/10\u001b[0m \u001b[32m━━━━━━━━━━━━━━━━━━━━\u001b[0m\u001b[37m\u001b[0m \u001b[1m0s\u001b[0m 5ms/step - accuracy: 0.5218 - loss: 26.3868 - val_accuracy: 0.6500 - val_loss: 82.5395\n",
      "Epoch 89/100\n",
      "\u001b[1m10/10\u001b[0m \u001b[32m━━━━━━━━━━━━━━━━━━━━\u001b[0m\u001b[37m\u001b[0m \u001b[1m0s\u001b[0m 5ms/step - accuracy: 0.4953 - loss: 60.5503 - val_accuracy: 0.3500 - val_loss: 107.1110\n",
      "Epoch 90/100\n",
      "\u001b[1m10/10\u001b[0m \u001b[32m━━━━━━━━━━━━━━━━━━━━\u001b[0m\u001b[37m\u001b[0m \u001b[1m0s\u001b[0m 5ms/step - accuracy: 0.4489 - loss: 118.8331 - val_accuracy: 0.3500 - val_loss: 30.5919\n",
      "Epoch 91/100\n",
      "\u001b[1m10/10\u001b[0m \u001b[32m━━━━━━━━━━━━━━━━━━━━\u001b[0m\u001b[37m\u001b[0m \u001b[1m0s\u001b[0m 5ms/step - accuracy: 0.4739 - loss: 112.7515 - val_accuracy: 0.3500 - val_loss: 175.2915\n",
      "Epoch 92/100\n",
      "\u001b[1m10/10\u001b[0m \u001b[32m━━━━━━━━━━━━━━━━━━━━\u001b[0m\u001b[37m\u001b[0m \u001b[1m0s\u001b[0m 5ms/step - accuracy: 0.4309 - loss: 150.3308 - val_accuracy: 0.3500 - val_loss: 216.2672\n",
      "Epoch 93/100\n",
      "\u001b[1m10/10\u001b[0m \u001b[32m━━━━━━━━━━━━━━━━━━━━\u001b[0m\u001b[37m\u001b[0m \u001b[1m0s\u001b[0m 5ms/step - accuracy: 0.4241 - loss: 193.3205 - val_accuracy: 0.3500 - val_loss: 80.4205\n",
      "Epoch 94/100\n",
      "\u001b[1m10/10\u001b[0m \u001b[32m━━━━━━━━━━━━━━━━━━━━\u001b[0m\u001b[37m\u001b[0m \u001b[1m0s\u001b[0m 5ms/step - accuracy: 0.4144 - loss: 130.5802 - val_accuracy: 0.3500 - val_loss: 50.6627\n",
      "Epoch 95/100\n",
      "\u001b[1m10/10\u001b[0m \u001b[32m━━━━━━━━━━━━━━━━━━━━\u001b[0m\u001b[37m\u001b[0m \u001b[1m0s\u001b[0m 5ms/step - accuracy: 0.4427 - loss: 63.3634 - val_accuracy: 0.6500 - val_loss: 11.4672\n",
      "Epoch 96/100\n",
      "\u001b[1m10/10\u001b[0m \u001b[32m━━━━━━━━━━━━━━━━━━━━\u001b[0m\u001b[37m\u001b[0m \u001b[1m0s\u001b[0m 5ms/step - accuracy: 0.5172 - loss: 50.7065 - val_accuracy: 0.3500 - val_loss: 27.5979\n",
      "Epoch 97/100\n",
      "\u001b[1m10/10\u001b[0m \u001b[32m━━━━━━━━━━━━━━━━━━━━\u001b[0m\u001b[37m\u001b[0m \u001b[1m0s\u001b[0m 5ms/step - accuracy: 0.5778 - loss: 44.2816 - val_accuracy: 0.6500 - val_loss: 14.1529\n",
      "Epoch 98/100\n",
      "\u001b[1m10/10\u001b[0m \u001b[32m━━━━━━━━━━━━━━━━━━━━\u001b[0m\u001b[37m\u001b[0m \u001b[1m0s\u001b[0m 5ms/step - accuracy: 0.5438 - loss: 43.2585 - val_accuracy: 0.3500 - val_loss: 78.9676\n",
      "Epoch 99/100\n",
      "\u001b[1m10/10\u001b[0m \u001b[32m━━━━━━━━━━━━━━━━━━━━\u001b[0m\u001b[37m\u001b[0m \u001b[1m0s\u001b[0m 5ms/step - accuracy: 0.5065 - loss: 64.8053 - val_accuracy: 0.6500 - val_loss: 63.9765\n",
      "Epoch 100/100\n",
      "\u001b[1m10/10\u001b[0m \u001b[32m━━━━━━━━━━━━━━━━━━━━\u001b[0m\u001b[37m\u001b[0m \u001b[1m0s\u001b[0m 5ms/step - accuracy: 0.5499 - loss: 83.7270 - val_accuracy: 0.6500 - val_loss: 39.8508\n"
     ]
    }
   ],
   "source": [
    "history = model.fit(X_train,y_train,validation_data=(X_test,y_test),epochs=100)"
   ]
  },
  {
   "cell_type": "code",
   "execution_count": 14,
   "id": "5b58659f",
   "metadata": {
    "execution": {
     "iopub.execute_input": "2024-07-08T09:25:17.032190Z",
     "iopub.status.busy": "2024-07-08T09:25:17.031755Z",
     "iopub.status.idle": "2024-07-08T09:25:17.318207Z",
     "shell.execute_reply": "2024-07-08T09:25:17.316871Z"
    },
    "papermill": {
     "duration": 0.328791,
     "end_time": "2024-07-08T09:25:17.320926",
     "exception": false,
     "start_time": "2024-07-08T09:25:16.992135",
     "status": "completed"
    },
    "tags": []
   },
   "outputs": [
    {
     "data": {
      "text/plain": [
       "[<matplotlib.lines.Line2D at 0x7ca730500490>]"
      ]
     },
     "execution_count": 14,
     "metadata": {},
     "output_type": "execute_result"
    },
    {
     "data": {
      "image/png": "[encoded data removed]",
      "text/plain": [
       "<Figure size 640x480 with 1 Axes>"
      ]
     },
     "metadata": {},
     "output_type": "display_data"
    }
   ],
   "source": [
    "import matplotlib.pyplot as plt\n",
    "plt.plot(history.history['val_accuracy'])"
   ]
  },
  {
   "cell_type": "markdown",
   "id": "036648b8",
   "metadata": {
    "papermill": {
     "duration": 0.039087,
     "end_time": "2024-07-08T09:25:17.399183",
     "exception": false,
     "start_time": "2024-07-08T09:25:17.360096",
     "status": "completed"
    },
    "tags": []
   },
   "source": [
    "**After Scaling**"
   ]
  },
  {
   "cell_type": "code",
   "execution_count": 15,
   "id": "e3678d59",
   "metadata": {
    "execution": {
     "iopub.execute_input": "2024-07-08T09:25:17.478579Z",
     "iopub.status.busy": "2024-07-08T09:25:17.478168Z",
     "iopub.status.idle": "2024-07-08T09:25:17.490468Z",
     "shell.execute_reply": "2024-07-08T09:25:17.489269Z"
    },
    "papermill": {
     "duration": 0.055122,
     "end_time": "2024-07-08T09:25:17.493153",
     "exception": false,
     "start_time": "2024-07-08T09:25:17.438031",
     "status": "completed"
    },
    "tags": []
   },
   "outputs": [],
   "source": [
    "from sklearn.preprocessing import StandardScaler\n",
    "scaler = StandardScaler()\n",
    "X_train_scaled = scaler.fit_transform(X_train)\n",
    "X_test_scaled = scaler.transform(X_test)"
   ]
  },
  {
   "cell_type": "code",
   "execution_count": 16,
   "id": "8f8636ec",
   "metadata": {
    "execution": {
     "iopub.execute_input": "2024-07-08T09:25:17.573096Z",
     "iopub.status.busy": "2024-07-08T09:25:17.572668Z",
     "iopub.status.idle": "2024-07-08T09:25:17.591029Z",
     "shell.execute_reply": "2024-07-08T09:25:17.589697Z"
    },
    "papermill": {
     "duration": 0.061886,
     "end_time": "2024-07-08T09:25:17.593773",
     "exception": false,
     "start_time": "2024-07-08T09:25:17.531887",
     "status": "completed"
    },
    "tags": []
   },
   "outputs": [
    {
     "data": {
      "text/plain": [
       "array([[-1.06675246, -0.38634438],\n",
       "       [ 0.79753468, -1.22993871],\n",
       "       [ 0.11069205,  1.853544  ],\n",
       "       [ 0.60129393, -0.90995465],\n",
       "       [ 1.87685881, -1.28811763],\n",
       "       [-0.57615058,  1.44629156],\n",
       "       [ 0.3069328 , -0.53179168],\n",
       "       [ 0.99377543,  0.10817643],\n",
       "       [-1.16487283,  0.45724994],\n",
       "       [-1.55735433,  0.31180264],\n",
       "       [ 1.0918958 ,  0.45724994],\n",
       "       [-0.18366908, -0.47361276],\n",
       "       [ 0.20881242, -0.32816546],\n",
       "       [ 0.3069328 ,  0.28271318],\n",
       "       [-1.16487283, -1.57901222],\n",
       "       [ 0.11069205,  0.25362372],\n",
       "       [ 2.07309956,  1.73718616],\n",
       "       [ 0.40505317, -0.18271817],\n",
       "       [ 1.4843773 ,  2.11534913],\n",
       "       [-0.37990983,  1.21357589],\n",
       "       [ 1.87685881,  1.50447048],\n",
       "       [ 0.11069205,  0.02090805],\n",
       "       [ 0.89565505, -1.31720709],\n",
       "       [-1.36111358, -1.49174384],\n",
       "       [-0.18366908, -0.5899706 ],\n",
       "       [-0.57615058,  2.31897535],\n",
       "       [ 0.99377543, -1.20084925],\n",
       "       [-0.77239133,  1.06812859],\n",
       "       [ 2.17121993, -1.05540195],\n",
       "       [ 0.01257167, -0.26998655],\n",
       "       [-0.4780302 , -1.14267033],\n",
       "       [ 0.11069205,  0.02090805],\n",
       "       [ 1.68061805, -0.90995465],\n",
       "       [ 1.0918958 , -0.90995465],\n",
       "       [ 0.50317355,  1.21357589],\n",
       "       [-1.06675246, -1.46265438],\n",
       "       [-1.16487283, -1.54992276],\n",
       "       [-0.0855487 ,  0.66087616],\n",
       "       [ 0.40505317, -0.47361276],\n",
       "       [-0.28178945, -0.26998655],\n",
       "       [-0.87051171,  0.13726589],\n",
       "       [ 0.01257167,  0.28271318],\n",
       "       [ 0.6994143 , -1.28811763],\n",
       "       [ 1.58249768,  1.09721805],\n",
       "       [ 0.79753468, -1.37538601],\n",
       "       [-1.45923396, -1.22993871],\n",
       "       [-0.0855487 ,  0.13726589],\n",
       "       [ 0.40505317, -0.15362871],\n",
       "       [-0.28178945,  0.02090805],\n",
       "       [ 1.28813655,  2.20261751],\n",
       "       [ 0.11069205,  0.74814454],\n",
       "       [-1.36111358,  0.54451832],\n",
       "       [ 1.97497918,  0.71905508],\n",
       "       [-1.26299321, -1.40447546],\n",
       "       [ 0.3069328 , -0.32816546],\n",
       "       [-0.96863208,  0.54451832],\n",
       "       [ 0.40505317,  0.28271318],\n",
       "       [ 0.40505317,  1.09721805],\n",
       "       [ 0.79753468,  0.74814454],\n",
       "       [ 0.89565505,  1.24266535],\n",
       "       [-0.4780302 , -1.22993871],\n",
       "       [-1.85171546, -1.31720709],\n",
       "       [ 1.0918958 ,  0.54451832],\n",
       "       [-0.67427095, -1.60810168],\n",
       "       [-0.77239133,  0.25362372],\n",
       "       [ 0.99377543,  2.05717021],\n",
       "       [-0.57615058,  1.35902318],\n",
       "       [-0.0855487 ,  0.02090805],\n",
       "       [-1.94983583,  0.45724994],\n",
       "       [ 0.40505317,  0.25362372],\n",
       "       [-1.06675246,  0.39907102],\n",
       "       [ 0.20881242, -0.15362871],\n",
       "       [ 1.87685881,  0.10817643],\n",
       "       [-1.16487283, -1.60810168],\n",
       "       [-1.16487283,  0.28271318],\n",
       "       [-0.87051171, -0.79359682],\n",
       "       [-0.4780302 ,  2.28988589],\n",
       "       [ 0.11069205, -0.82268628],\n",
       "       [ 1.58249768,  0.98086021],\n",
       "       [-0.18366908, -1.08449141],\n",
       "       [ 0.79753468, -1.11358087],\n",
       "       [ 0.20881242,  2.08625967],\n",
       "       [-0.0855487 , -0.24089709],\n",
       "       [-0.87051171,  2.26079643],\n",
       "       [-0.0855487 , -0.38634438],\n",
       "       [-0.28178945, -0.5899706 ],\n",
       "       [ 0.40505317, -0.50270222],\n",
       "       [-0.28178945, -0.93904411],\n",
       "       [ 0.3069328 , -1.17175979],\n",
       "       [ 0.20881242,  0.04999751],\n",
       "       [-1.16487283, -1.60810168],\n",
       "       [-0.67427095, -0.06636033],\n",
       "       [-0.28178945, -0.50270222],\n",
       "       [-0.28178945, -1.31720709],\n",
       "       [-0.77239133,  0.54451832],\n",
       "       [ 0.3069328 ,  0.04999751],\n",
       "       [-0.96863208,  1.53355994],\n",
       "       [ 0.79753468,  0.3408921 ],\n",
       "       [-1.55735433, -0.21180763],\n",
       "       [ 0.6994143 , -1.40447546],\n",
       "       [-0.77239133, -0.61906006],\n",
       "       [-0.37990983, -1.31720709],\n",
       "       [ 0.20881242,  0.13726589],\n",
       "       [-0.57615058,  1.35902318],\n",
       "       [-1.45923396,  0.3408921 ],\n",
       "       [-1.16487283,  0.28271318],\n",
       "       [ 0.99377543,  1.76627562],\n",
       "       [ 2.07309956,  2.11534913],\n",
       "       [-0.28178945, -0.4445233 ],\n",
       "       [-0.37990983, -0.79359682],\n",
       "       [ 0.11069205, -0.26998655],\n",
       "       [-1.06675246,  0.74814454],\n",
       "       [ 2.17121993,  0.36998156],\n",
       "       [-1.36111358, -0.4445233 ],\n",
       "       [ 1.97497918,  2.14443859],\n",
       "       [ 1.4843773 ,  0.98086021],\n",
       "       [-0.28178945,  0.25362372],\n",
       "       [-0.18366908,  0.83541291],\n",
       "       [ 1.87685881, -0.29907601],\n",
       "       [-0.0855487 ,  1.94081237],\n",
       "       [-0.4780302 , -0.79359682],\n",
       "       [ 0.3069328 ,  0.02090805],\n",
       "       [ 1.38625693, -1.43356492],\n",
       "       [ 1.38625693,  2.31897535],\n",
       "       [-0.0855487 , -0.00818141],\n",
       "       [-1.16487283,  0.39907102],\n",
       "       [-1.16487283,  0.04999751],\n",
       "       [-1.16487283, -0.53179168],\n",
       "       [ 0.3069328 , -0.29907601],\n",
       "       [-0.67427095, -0.12453925],\n",
       "       [-0.0855487 ,  2.14443859],\n",
       "       [ 0.01257167, -0.26998655],\n",
       "       [-0.67427095, -1.05540195],\n",
       "       [ 0.40505317,  0.13726589],\n",
       "       [ 0.79753468,  1.35902318],\n",
       "       [-0.18366908, -0.53179168],\n",
       "       [ 0.01257167,  0.02090805],\n",
       "       [ 1.0918958 ,  0.51542886],\n",
       "       [ 1.87685881, -1.08449141],\n",
       "       [ 0.99377543,  1.96990183],\n",
       "       [ 0.89565505, -0.5899706 ],\n",
       "       [-0.4780302 , -0.03727087],\n",
       "       [-0.0855487 ,  2.20261751],\n",
       "       [-1.75359508,  0.3408921 ],\n",
       "       [ 0.20881242, -0.67723898],\n",
       "       [-0.28178945, -1.40447546],\n",
       "       [-1.75359508, -0.99722303],\n",
       "       [ 0.6994143 , -0.7354179 ],\n",
       "       [-1.16487283, -0.79359682],\n",
       "       [ 1.97497918,  0.89359183],\n",
       "       [ 0.20881242, -0.38634438],\n",
       "       [ 0.01257167,  1.21357589],\n",
       "       [-0.0855487 ,  0.28271318],\n",
       "       [ 1.0918958 , -1.22993871],\n",
       "       [-0.18366908,  0.13726589],\n",
       "       [ 0.3069328 ,  0.04999751],\n",
       "       [-0.28178945, -0.29907601],\n",
       "       [ 0.50317355,  1.7080967 ],\n",
       "       [ 0.3069328 ,  0.4863394 ],\n",
       "       [ 0.01257167,  1.24266535],\n",
       "       [ 1.97497918, -1.37538601],\n",
       "       [-1.16487283, -1.11358087],\n",
       "       [-0.57615058, -1.5208333 ],\n",
       "       [ 0.3069328 , -0.53179168],\n",
       "       [-0.67427095, -1.5208333 ],\n",
       "       [-0.28178945,  0.51542886],\n",
       "       [ 0.99377543, -1.02631249],\n",
       "       [-1.06675246,  0.54451832],\n",
       "       [-0.28178945,  0.777234  ],\n",
       "       [ 0.40505317,  0.07908697],\n",
       "       [-1.65547471, -0.06636033],\n",
       "       [ 0.3069328 ,  0.04999751],\n",
       "       [-0.4780302 , -0.29907601],\n",
       "       [ 0.11069205,  1.853544  ],\n",
       "       [-0.96863208,  0.39907102],\n",
       "       [ 0.79753468,  0.51542886],\n",
       "       [-1.36111358, -0.35725492],\n",
       "       [-0.67427095,  1.38811264],\n",
       "       [ 1.19001618,  0.51542886],\n",
       "       [-1.75359508,  0.3408921 ],\n",
       "       [-0.57615058,  1.88263345],\n",
       "       [-1.75359508,  0.45724994],\n",
       "       [-0.28178945, -1.25902817],\n",
       "       [-0.87051171, -0.79359682],\n",
       "       [-1.65547471,  0.51542886],\n",
       "       [-0.28178945, -0.32816546],\n",
       "       [ 0.6994143 , -1.11358087],\n",
       "       [ 2.17121993, -0.82268628],\n",
       "       [-0.28178945,  0.60269724],\n",
       "       [-0.28178945, -0.76450736],\n",
       "       [-1.94983583, -0.76450736],\n",
       "       [ 0.40505317,  2.28988589],\n",
       "       [ 0.6994143 ,  0.25362372],\n",
       "       [ 0.20881242, -0.29907601],\n",
       "       [-1.36111358, -1.37538601],\n",
       "       [-0.4780302 , -0.56088114],\n",
       "       [ 0.40505317, -0.00818141],\n",
       "       [ 1.68061805,  1.73718616],\n",
       "       [ 1.19001618, -0.76450736],\n",
       "       [ 0.99377543,  1.4172021 ],\n",
       "       [-1.85171546,  0.16635535],\n",
       "       [ 0.3069328 ,  0.04999751],\n",
       "       [ 0.20881242,  0.02090805],\n",
       "       [-1.06675246,  0.51542886],\n",
       "       [-0.18366908,  1.62082832],\n",
       "       [-0.28178945,  0.13726589],\n",
       "       [-0.28178945, -0.35725492],\n",
       "       [-0.37990983,  1.30084427],\n",
       "       [-0.28178945,  0.07908697],\n",
       "       [ 2.17121993,  1.09721805],\n",
       "       [-1.26299321,  0.4863394 ],\n",
       "       [-1.06675246, -0.47361276],\n",
       "       [-1.65547471, -1.57901222],\n",
       "       [-0.0855487 ,  0.10817643],\n",
       "       [-0.28178945, -0.90995465],\n",
       "       [ 1.58249768, -0.00818141],\n",
       "       [ 0.89565505, -1.17175979],\n",
       "       [ 0.01257167, -0.5899706 ],\n",
       "       [-0.28178945,  2.23170697],\n",
       "       [-0.28178945,  0.19544481],\n",
       "       [ 0.3069328 ,  0.25362372],\n",
       "       [-0.0855487 , -1.08449141],\n",
       "       [ 2.17121993, -0.70632844],\n",
       "       [-0.96863208, -0.32816546],\n",
       "       [-1.45923396, -0.12453925],\n",
       "       [-1.45923396, -0.21180763],\n",
       "       [-0.77239133, -1.54992276],\n",
       "       [-1.26299321, -1.08449141],\n",
       "       [ 2.07309956,  0.36998156],\n",
       "       [ 1.97497918, -0.93904411],\n",
       "       [-1.94983583,  0.3408921 ],\n",
       "       [ 0.79753468, -0.32816546],\n",
       "       [-1.06675246, -1.54992276],\n",
       "       [ 1.97497918, -0.67723898],\n",
       "       [ 0.99377543, -1.17175979],\n",
       "       [ 1.0918958 , -0.15362871],\n",
       "       [ 1.19001618, -0.99722303],\n",
       "       [ 1.4843773 ,  0.04999751],\n",
       "       [ 0.20881242, -0.38634438],\n",
       "       [ 1.38625693,  1.27175481],\n",
       "       [ 2.07309956, -0.82268628],\n",
       "       [-0.18366908, -0.21180763],\n",
       "       [ 0.40505317,  0.98086021],\n",
       "       [-0.0855487 , -0.53179168],\n",
       "       [ 0.99377543, -1.08449141],\n",
       "       [ 2.07309956, -1.20084925],\n",
       "       [-0.0855487 ,  0.25362372],\n",
       "       [ 0.20881242, -0.26998655],\n",
       "       [ 1.0918958 ,  0.10817643],\n",
       "       [-1.26299321,  0.57360778],\n",
       "       [-0.77239133, -1.60810168],\n",
       "       [ 0.20881242,  0.22453427],\n",
       "       [-1.36111358,  0.39907102],\n",
       "       [ 0.01257167, -0.5899706 ],\n",
       "       [ 0.6994143 ,  1.76627562],\n",
       "       [-1.65547471,  0.04999751],\n",
       "       [-0.28178945, -1.37538601],\n",
       "       [-0.28178945, -1.46265438],\n",
       "       [-0.67427095,  0.54451832],\n",
       "       [-0.77239133,  0.28271318],\n",
       "       [ 0.89565505, -0.67723898],\n",
       "       [-1.06675246,  0.57360778],\n",
       "       [-0.28178945,  0.04999751],\n",
       "       [-0.77239133,  1.32993372],\n",
       "       [ 0.11069205,  1.50447048],\n",
       "       [-0.87051171,  0.36998156],\n",
       "       [ 0.3069328 , -0.21180763],\n",
       "       [ 0.99377543,  0.57360778],\n",
       "       [ 0.01257167, -0.32816546],\n",
       "       [-0.57615058, -1.5208333 ],\n",
       "       [ 0.11069205,  0.13726589],\n",
       "       [-1.16487283,  0.31180264],\n",
       "       [ 0.11069205,  1.03903913],\n",
       "       [-1.55735433, -0.4445233 ],\n",
       "       [-0.18366908,  1.38811264],\n",
       "       [ 2.17121993, -0.82268628],\n",
       "       [-0.96863208, -0.4445233 ],\n",
       "       [ 1.28813655,  1.853544  ],\n",
       "       [ 1.0918958 , -1.22993871],\n",
       "       [-0.18366908, -0.29907601],\n",
       "       [ 1.77873843,  0.98086021],\n",
       "       [-1.06675246, -0.35725492],\n",
       "       [-1.36111358, -1.11358087],\n",
       "       [-0.37990983,  0.04999751],\n",
       "       [-0.96863208, -1.11358087],\n",
       "       [ 1.19001618, -1.46265438],\n",
       "       [-0.4780302 , -0.85177573],\n",
       "       [-0.87051171, -0.67723898],\n",
       "       [-1.55735433, -1.5208333 ],\n",
       "       [-0.77239133,  1.88263345],\n",
       "       [ 0.89565505,  1.00994967],\n",
       "       [ 0.79753468,  0.25362372],\n",
       "       [ 0.99377543,  1.853544  ],\n",
       "       [ 0.89565505, -0.61906006],\n",
       "       [ 1.0918958 ,  2.05717021],\n",
       "       [-0.57615058,  0.86450237],\n",
       "       [ 0.01257167,  0.02090805],\n",
       "       [-1.85171546, -1.28811763],\n",
       "       [-0.0855487 ,  0.19544481],\n",
       "       [ 0.89565505, -0.56088114],\n",
       "       [ 0.20881242, -0.38634438],\n",
       "       [-0.18366908,  1.59173886],\n",
       "       [-1.75359508,  0.10817643],\n",
       "       [-0.67427095, -0.35725492],\n",
       "       [ 0.3069328 , -0.7354179 ],\n",
       "       [ 0.40505317, -0.47361276],\n",
       "       [-0.96863208, -0.96813357],\n",
       "       [ 0.11069205,  0.07908697],\n",
       "       [-0.96863208,  0.42816048],\n",
       "       [ 0.01257167, -0.56088114],\n",
       "       [ 0.89565505, -0.79359682],\n",
       "       [-0.0855487 ,  0.04999751],\n",
       "       [ 1.0918958 , -0.99722303],\n",
       "       [ 0.6994143 , -1.40447546],\n",
       "       [-0.28178945,  0.04999751],\n",
       "       [-1.36111358, -1.25902817],\n",
       "       [-1.16487283, -1.02631249],\n",
       "       [ 0.50317355,  1.82445454],\n",
       "       [ 0.11069205,  0.19544481],\n",
       "       [-0.57615058,  0.45724994]])"
      ]
     },
     "execution_count": 16,
     "metadata": {},
     "output_type": "execute_result"
    }
   ],
   "source": [
    "X_train_scaled"
   ]
  },
  {
   "cell_type": "code",
   "execution_count": 17,
   "id": "d6123217",
   "metadata": {
    "execution": {
     "iopub.execute_input": "2024-07-08T09:25:17.675075Z",
     "iopub.status.busy": "2024-07-08T09:25:17.674616Z",
     "iopub.status.idle": "2024-07-08T09:25:17.994122Z",
     "shell.execute_reply": "2024-07-08T09:25:17.992851Z"
    },
    "papermill": {
     "duration": 0.363513,
     "end_time": "2024-07-08T09:25:17.996751",
     "exception": false,
     "start_time": "2024-07-08T09:25:17.633238",
     "status": "completed"
    },
    "tags": []
   },
   "outputs": [
    {
     "data": {
      "text/plain": [
       "<Axes: >"
      ]
     },
     "execution_count": 17,
     "metadata": {},
     "output_type": "execute_result"
    },
    {
     "data": {
      "image/png": "[encoded data removed]",
      "text/plain": [
       "<Figure size 640x480 with 1 Axes>"
      ]
     },
     "metadata": {},
     "output_type": "display_data"
    }
   ],
   "source": [
    "sns.scatterplot(x=X_train_scaled[:,0],y=X_train_scaled[:,-1])"
   ]
  },
  {
   "cell_type": "code",
   "execution_count": 18,
   "id": "edb8c8ac",
   "metadata": {
    "execution": {
     "iopub.execute_input": "2024-07-08T09:25:18.080303Z",
     "iopub.status.busy": "2024-07-08T09:25:18.079837Z",
     "iopub.status.idle": "2024-07-08T09:25:26.833510Z",
     "shell.execute_reply": "2024-07-08T09:25:26.832365Z"
    },
    "papermill": {
     "duration": 8.799036,
     "end_time": "2024-07-08T09:25:26.836312",
     "exception": false,
     "start_time": "2024-07-08T09:25:18.037276",
     "status": "completed"
    },
    "tags": []
   },
   "outputs": [
    {
     "name": "stdout",
     "output_type": "stream",
     "text": [
      "Epoch 1/100\n"
     ]
    },
    {
     "name": "stderr",
     "output_type": "stream",
     "text": [
      "/opt/conda/lib/python3.10/site-packages/keras/src/layers/core/dense.py:87: UserWarning: Do not pass an `input_shape`/`input_dim` argument to a layer. When using Sequential models, prefer using an `Input(shape)` object as the first layer in the model instead.\n",
      "  super().__init__(activity_regularizer=activity_regularizer, **kwargs)\n"
     ]
    },
    {
     "name": "stdout",
     "output_type": "stream",
     "text": [
      "\u001b[1m10/10\u001b[0m \u001b[32m━━━━━━━━━━━━━━━━━━━━\u001b[0m\u001b[37m\u001b[0m \u001b[1m1s\u001b[0m 23ms/step - accuracy: 0.6580 - loss: 0.6688 - val_accuracy: 0.8875 - val_loss: 0.5927\n",
      "Epoch 2/100\n",
      "\u001b[1m10/10\u001b[0m \u001b[32m━━━━━━━━━━━━━━━━━━━━\u001b[0m\u001b[37m\u001b[0m \u001b[1m0s\u001b[0m 5ms/step - accuracy: 0.8013 - loss: 0.6055 - val_accuracy: 0.9125 - val_loss: 0.5357\n",
      "Epoch 3/100\n",
      "\u001b[1m10/10\u001b[0m \u001b[32m━━━━━━━━━━━━━━━━━━━━\u001b[0m\u001b[37m\u001b[0m \u001b[1m0s\u001b[0m 5ms/step - accuracy: 0.8272 - loss: 0.5658 - val_accuracy: 0.9125 - val_loss: 0.4890\n",
      "Epoch 4/100\n",
      "\u001b[1m10/10\u001b[0m \u001b[32m━━━━━━━━━━━━━━━━━━━━\u001b[0m\u001b[37m\u001b[0m \u001b[1m0s\u001b[0m 5ms/step - accuracy: 0.8153 - loss: 0.5296 - val_accuracy: 0.8875 - val_loss: 0.4494\n",
      "Epoch 5/100\n",
      "\u001b[1m10/10\u001b[0m \u001b[32m━━━━━━━━━━━━━━━━━━━━\u001b[0m\u001b[37m\u001b[0m \u001b[1m0s\u001b[0m 5ms/step - accuracy: 0.8124 - loss: 0.4973 - val_accuracy: 0.8750 - val_loss: 0.4144\n",
      "Epoch 6/100\n",
      "\u001b[1m10/10\u001b[0m \u001b[32m━━━━━━━━━━━━━━━━━━━━\u001b[0m\u001b[37m\u001b[0m \u001b[1m0s\u001b[0m 5ms/step - accuracy: 0.8155 - loss: 0.5022 - val_accuracy: 0.8750 - val_loss: 0.3855\n",
      "Epoch 7/100\n",
      "\u001b[1m10/10\u001b[0m \u001b[32m━━━━━━━━━━━━━━━━━━━━\u001b[0m\u001b[37m\u001b[0m \u001b[1m0s\u001b[0m 5ms/step - accuracy: 0.8418 - loss: 0.4487 - val_accuracy: 0.8750 - val_loss: 0.3592\n",
      "Epoch 8/100\n",
      "\u001b[1m10/10\u001b[0m \u001b[32m━━━━━━━━━━━━━━━━━━━━\u001b[0m\u001b[37m\u001b[0m \u001b[1m0s\u001b[0m 5ms/step - accuracy: 0.8810 - loss: 0.3992 - val_accuracy: 0.8875 - val_loss: 0.3364\n",
      "Epoch 9/100\n",
      "\u001b[1m10/10\u001b[0m \u001b[32m━━━━━━━━━━━━━━━━━━━━\u001b[0m\u001b[37m\u001b[0m \u001b[1m0s\u001b[0m 5ms/step - accuracy: 0.8473 - loss: 0.4117 - val_accuracy: 0.9125 - val_loss: 0.3182\n",
      "Epoch 10/100\n",
      "\u001b[1m10/10\u001b[0m \u001b[32m━━━━━━━━━━━━━━━━━━━━\u001b[0m\u001b[37m\u001b[0m \u001b[1m0s\u001b[0m 5ms/step - accuracy: 0.8512 - loss: 0.3989 - val_accuracy: 0.9125 - val_loss: 0.3016\n",
      "Epoch 11/100\n",
      "\u001b[1m10/10\u001b[0m \u001b[32m━━━━━━━━━━━━━━━━━━━━\u001b[0m\u001b[37m\u001b[0m \u001b[1m0s\u001b[0m 5ms/step - accuracy: 0.8765 - loss: 0.3700 - val_accuracy: 0.9125 - val_loss: 0.2858\n",
      "Epoch 12/100\n",
      "\u001b[1m10/10\u001b[0m \u001b[32m━━━━━━━━━━━━━━━━━━━━\u001b[0m\u001b[37m\u001b[0m \u001b[1m0s\u001b[0m 5ms/step - accuracy: 0.8798 - loss: 0.3627 - val_accuracy: 0.9125 - val_loss: 0.2714\n",
      "Epoch 13/100\n",
      "\u001b[1m10/10\u001b[0m \u001b[32m━━━━━━━━━━━━━━━━━━━━\u001b[0m\u001b[37m\u001b[0m \u001b[1m0s\u001b[0m 5ms/step - accuracy: 0.9094 - loss: 0.3285 - val_accuracy: 0.9125 - val_loss: 0.2600\n",
      "Epoch 14/100\n",
      "\u001b[1m10/10\u001b[0m \u001b[32m━━━━━━━━━━━━━━━━━━━━\u001b[0m\u001b[37m\u001b[0m \u001b[1m0s\u001b[0m 5ms/step - accuracy: 0.8809 - loss: 0.3361 - val_accuracy: 0.9125 - val_loss: 0.2499\n",
      "Epoch 15/100\n",
      "\u001b[1m10/10\u001b[0m \u001b[32m━━━━━━━━━━━━━━━━━━━━\u001b[0m\u001b[37m\u001b[0m \u001b[1m0s\u001b[0m 5ms/step - accuracy: 0.8612 - loss: 0.3470 - val_accuracy: 0.9125 - val_loss: 0.2420\n",
      "Epoch 16/100\n",
      "\u001b[1m10/10\u001b[0m \u001b[32m━━━━━━━━━━━━━━━━━━━━\u001b[0m\u001b[37m\u001b[0m \u001b[1m0s\u001b[0m 5ms/step - accuracy: 0.9014 - loss: 0.2995 - val_accuracy: 0.9250 - val_loss: 0.2335\n",
      "Epoch 17/100\n",
      "\u001b[1m10/10\u001b[0m \u001b[32m━━━━━━━━━━━━━━━━━━━━\u001b[0m\u001b[37m\u001b[0m \u001b[1m0s\u001b[0m 5ms/step - accuracy: 0.8825 - loss: 0.3170 - val_accuracy: 0.9375 - val_loss: 0.2272\n",
      "Epoch 18/100\n",
      "\u001b[1m10/10\u001b[0m \u001b[32m━━━━━━━━━━━━━━━━━━━━\u001b[0m\u001b[37m\u001b[0m \u001b[1m0s\u001b[0m 7ms/step - accuracy: 0.8875 - loss: 0.3246 - val_accuracy: 0.9375 - val_loss: 0.2200\n",
      "Epoch 19/100\n",
      "\u001b[1m10/10\u001b[0m \u001b[32m━━━━━━━━━━━━━━━━━━━━\u001b[0m\u001b[37m\u001b[0m \u001b[1m0s\u001b[0m 5ms/step - accuracy: 0.8649 - loss: 0.3202 - val_accuracy: 0.9375 - val_loss: 0.2145\n",
      "Epoch 20/100\n",
      "\u001b[1m10/10\u001b[0m \u001b[32m━━━━━━━━━━━━━━━━━━━━\u001b[0m\u001b[37m\u001b[0m \u001b[1m0s\u001b[0m 5ms/step - accuracy: 0.8862 - loss: 0.3102 - val_accuracy: 0.9375 - val_loss: 0.2091\n",
      "Epoch 21/100\n",
      "\u001b[1m10/10\u001b[0m \u001b[32m━━━━━━━━━━━━━━━━━━━━\u001b[0m\u001b[37m\u001b[0m \u001b[1m0s\u001b[0m 5ms/step - accuracy: 0.8677 - loss: 0.3094 - val_accuracy: 0.9500 - val_loss: 0.2057\n",
      "Epoch 22/100\n",
      "\u001b[1m10/10\u001b[0m \u001b[32m━━━━━━━━━━━━━━━━━━━━\u001b[0m\u001b[37m\u001b[0m \u001b[1m0s\u001b[0m 5ms/step - accuracy: 0.8977 - loss: 0.2751 - val_accuracy: 0.9375 - val_loss: 0.2020\n",
      "Epoch 23/100\n",
      "\u001b[1m10/10\u001b[0m \u001b[32m━━━━━━━━━━━━━━━━━━━━\u001b[0m\u001b[37m\u001b[0m \u001b[1m0s\u001b[0m 5ms/step - accuracy: 0.8726 - loss: 0.3158 - val_accuracy: 0.9375 - val_loss: 0.1985\n",
      "Epoch 24/100\n",
      "\u001b[1m10/10\u001b[0m \u001b[32m━━━━━━━━━━━━━━━━━━━━\u001b[0m\u001b[37m\u001b[0m \u001b[1m0s\u001b[0m 5ms/step - accuracy: 0.8943 - loss: 0.2890 - val_accuracy: 0.9375 - val_loss: 0.1955\n",
      "Epoch 25/100\n",
      "\u001b[1m10/10\u001b[0m \u001b[32m━━━━━━━━━━━━━━━━━━━━\u001b[0m\u001b[37m\u001b[0m \u001b[1m0s\u001b[0m 5ms/step - accuracy: 0.8784 - loss: 0.3147 - val_accuracy: 0.9375 - val_loss: 0.1940\n",
      "Epoch 26/100\n",
      "\u001b[1m10/10\u001b[0m \u001b[32m━━━━━━━━━━━━━━━━━━━━\u001b[0m\u001b[37m\u001b[0m \u001b[1m0s\u001b[0m 5ms/step - accuracy: 0.8953 - loss: 0.2732 - val_accuracy: 0.9375 - val_loss: 0.1911\n",
      "Epoch 27/100\n",
      "\u001b[1m10/10\u001b[0m \u001b[32m━━━━━━━━━━━━━━━━━━━━\u001b[0m\u001b[37m\u001b[0m \u001b[1m0s\u001b[0m 5ms/step - accuracy: 0.8833 - loss: 0.2901 - val_accuracy: 0.9375 - val_loss: 0.1894\n",
      "Epoch 28/100\n",
      "\u001b[1m10/10\u001b[0m \u001b[32m━━━━━━━━━━━━━━━━━━━━\u001b[0m\u001b[37m\u001b[0m \u001b[1m0s\u001b[0m 5ms/step - accuracy: 0.8935 - loss: 0.2761 - val_accuracy: 0.9375 - val_loss: 0.1865\n",
      "Epoch 29/100\n",
      "\u001b[1m10/10\u001b[0m \u001b[32m━━━━━━━━━━━━━━━━━━━━\u001b[0m\u001b[37m\u001b[0m \u001b[1m0s\u001b[0m 5ms/step - accuracy: 0.8864 - loss: 0.2880 - val_accuracy: 0.9375 - val_loss: 0.1850\n",
      "Epoch 30/100\n",
      "\u001b[1m10/10\u001b[0m \u001b[32m━━━━━━━━━━━━━━━━━━━━\u001b[0m\u001b[37m\u001b[0m \u001b[1m0s\u001b[0m 5ms/step - accuracy: 0.8996 - loss: 0.2884 - val_accuracy: 0.9375 - val_loss: 0.1845\n",
      "Epoch 31/100\n",
      "\u001b[1m10/10\u001b[0m \u001b[32m━━━━━━━━━━━━━━━━━━━━\u001b[0m\u001b[37m\u001b[0m \u001b[1m0s\u001b[0m 5ms/step - accuracy: 0.9037 - loss: 0.2476 - val_accuracy: 0.9375 - val_loss: 0.1823\n",
      "Epoch 32/100\n",
      "\u001b[1m10/10\u001b[0m \u001b[32m━━━━━━━━━━━━━━━━━━━━\u001b[0m\u001b[37m\u001b[0m \u001b[1m0s\u001b[0m 5ms/step - accuracy: 0.9015 - loss: 0.2607 - val_accuracy: 0.9375 - val_loss: 0.1810\n",
      "Epoch 33/100\n",
      "\u001b[1m10/10\u001b[0m \u001b[32m━━━━━━━━━━━━━━━━━━━━\u001b[0m\u001b[37m\u001b[0m \u001b[1m0s\u001b[0m 5ms/step - accuracy: 0.9236 - loss: 0.2477 - val_accuracy: 0.9375 - val_loss: 0.1802\n",
      "Epoch 34/100\n",
      "\u001b[1m10/10\u001b[0m \u001b[32m━━━━━━━━━━━━━━━━━━━━\u001b[0m\u001b[37m\u001b[0m \u001b[1m0s\u001b[0m 5ms/step - accuracy: 0.9133 - loss: 0.2522 - val_accuracy: 0.9375 - val_loss: 0.1797\n",
      "Epoch 35/100\n",
      "\u001b[1m10/10\u001b[0m \u001b[32m━━━━━━━━━━━━━━━━━━━━\u001b[0m\u001b[37m\u001b[0m \u001b[1m0s\u001b[0m 7ms/step - accuracy: 0.9122 - loss: 0.2532 - val_accuracy: 0.9375 - val_loss: 0.1800\n",
      "Epoch 36/100\n",
      "\u001b[1m10/10\u001b[0m \u001b[32m━━━━━━━━━━━━━━━━━━━━\u001b[0m\u001b[37m\u001b[0m \u001b[1m0s\u001b[0m 5ms/step - accuracy: 0.9085 - loss: 0.2552 - val_accuracy: 0.9375 - val_loss: 0.1792\n",
      "Epoch 37/100\n",
      "\u001b[1m10/10\u001b[0m \u001b[32m━━━━━━━━━━━━━━━━━━━━\u001b[0m\u001b[37m\u001b[0m \u001b[1m0s\u001b[0m 5ms/step - accuracy: 0.8716 - loss: 0.3061 - val_accuracy: 0.9375 - val_loss: 0.1792\n",
      "Epoch 38/100\n",
      "\u001b[1m10/10\u001b[0m \u001b[32m━━━━━━━━━━━━━━━━━━━━\u001b[0m\u001b[37m\u001b[0m \u001b[1m0s\u001b[0m 5ms/step - accuracy: 0.8993 - loss: 0.2973 - val_accuracy: 0.9375 - val_loss: 0.1787\n",
      "Epoch 39/100\n",
      "\u001b[1m10/10\u001b[0m \u001b[32m━━━━━━━━━━━━━━━━━━━━\u001b[0m\u001b[37m\u001b[0m \u001b[1m0s\u001b[0m 5ms/step - accuracy: 0.8858 - loss: 0.2884 - val_accuracy: 0.9375 - val_loss: 0.1792\n",
      "Epoch 40/100\n",
      "\u001b[1m10/10\u001b[0m \u001b[32m━━━━━━━━━━━━━━━━━━━━\u001b[0m\u001b[37m\u001b[0m \u001b[1m0s\u001b[0m 5ms/step - accuracy: 0.8855 - loss: 0.2837 - val_accuracy: 0.9375 - val_loss: 0.1774\n",
      "Epoch 41/100\n",
      "\u001b[1m10/10\u001b[0m \u001b[32m━━━━━━━━━━━━━━━━━━━━\u001b[0m\u001b[37m\u001b[0m \u001b[1m0s\u001b[0m 5ms/step - accuracy: 0.9166 - loss: 0.2456 - val_accuracy: 0.9375 - val_loss: 0.1754\n",
      "Epoch 42/100\n",
      "\u001b[1m10/10\u001b[0m \u001b[32m━━━━━━━━━━━━━━━━━━━━\u001b[0m\u001b[37m\u001b[0m \u001b[1m0s\u001b[0m 5ms/step - accuracy: 0.9004 - loss: 0.2500 - val_accuracy: 0.9375 - val_loss: 0.1764\n",
      "Epoch 43/100\n",
      "\u001b[1m10/10\u001b[0m \u001b[32m━━━━━━━━━━━━━━━━━━━━\u001b[0m\u001b[37m\u001b[0m \u001b[1m0s\u001b[0m 5ms/step - accuracy: 0.9174 - loss: 0.2502 - val_accuracy: 0.9375 - val_loss: 0.1762\n",
      "Epoch 44/100\n",
      "\u001b[1m10/10\u001b[0m \u001b[32m━━━━━━━━━━━━━━━━━━━━\u001b[0m\u001b[37m\u001b[0m \u001b[1m0s\u001b[0m 5ms/step - accuracy: 0.9005 - loss: 0.2453 - val_accuracy: 0.9375 - val_loss: 0.1761\n",
      "Epoch 45/100\n",
      "\u001b[1m10/10\u001b[0m \u001b[32m━━━━━━━━━━━━━━━━━━━━\u001b[0m\u001b[37m\u001b[0m \u001b[1m0s\u001b[0m 5ms/step - accuracy: 0.8962 - loss: 0.2853 - val_accuracy: 0.9375 - val_loss: 0.1758\n",
      "Epoch 46/100\n",
      "\u001b[1m10/10\u001b[0m \u001b[32m━━━━━━━━━━━━━━━━━━━━\u001b[0m\u001b[37m\u001b[0m \u001b[1m0s\u001b[0m 5ms/step - accuracy: 0.8827 - loss: 0.3078 - val_accuracy: 0.9375 - val_loss: 0.1760\n",
      "Epoch 47/100\n",
      "\u001b[1m10/10\u001b[0m \u001b[32m━━━━━━━━━━━━━━━━━━━━\u001b[0m\u001b[37m\u001b[0m \u001b[1m0s\u001b[0m 6ms/step - accuracy: 0.8923 - loss: 0.2727 - val_accuracy: 0.9375 - val_loss: 0.1757\n",
      "Epoch 48/100\n",
      "\u001b[1m10/10\u001b[0m \u001b[32m━━━━━━━━━━━━━━━━━━━━\u001b[0m\u001b[37m\u001b[0m \u001b[1m0s\u001b[0m 5ms/step - accuracy: 0.8961 - loss: 0.2429 - val_accuracy: 0.9375 - val_loss: 0.1765\n",
      "Epoch 49/100\n",
      "\u001b[1m10/10\u001b[0m \u001b[32m━━━━━━━━━━━━━━━━━━━━\u001b[0m\u001b[37m\u001b[0m \u001b[1m0s\u001b[0m 5ms/step - accuracy: 0.9148 - loss: 0.2351 - val_accuracy: 0.9375 - val_loss: 0.1751\n",
      "Epoch 50/100\n",
      "\u001b[1m10/10\u001b[0m \u001b[32m━━━━━━━━━━━━━━━━━━━━\u001b[0m\u001b[37m\u001b[0m \u001b[1m0s\u001b[0m 5ms/step - accuracy: 0.8732 - loss: 0.3106 - val_accuracy: 0.9375 - val_loss: 0.1757\n",
      "Epoch 51/100\n",
      "\u001b[1m10/10\u001b[0m \u001b[32m━━━━━━━━━━━━━━━━━━━━\u001b[0m\u001b[37m\u001b[0m \u001b[1m0s\u001b[0m 5ms/step - accuracy: 0.9330 - loss: 0.2095 - val_accuracy: 0.9375 - val_loss: 0.1736\n",
      "Epoch 52/100\n",
      "\u001b[1m10/10\u001b[0m \u001b[32m━━━━━━━━━━━━━━━━━━━━\u001b[0m\u001b[37m\u001b[0m \u001b[1m0s\u001b[0m 5ms/step - accuracy: 0.9140 - loss: 0.2444 - val_accuracy: 0.9375 - val_loss: 0.1746\n",
      "Epoch 53/100\n",
      "\u001b[1m10/10\u001b[0m \u001b[32m━━━━━━━━━━━━━━━━━━━━\u001b[0m\u001b[37m\u001b[0m \u001b[1m0s\u001b[0m 5ms/step - accuracy: 0.9145 - loss: 0.2382 - val_accuracy: 0.9375 - val_loss: 0.1741\n",
      "Epoch 54/100\n",
      "\u001b[1m10/10\u001b[0m \u001b[32m━━━━━━━━━━━━━━━━━━━━\u001b[0m\u001b[37m\u001b[0m \u001b[1m0s\u001b[0m 5ms/step - accuracy: 0.9072 - loss: 0.2417 - val_accuracy: 0.9375 - val_loss: 0.1742\n",
      "Epoch 55/100\n",
      "\u001b[1m10/10\u001b[0m \u001b[32m━━━━━━━━━━━━━━━━━━━━\u001b[0m\u001b[37m\u001b[0m \u001b[1m0s\u001b[0m 5ms/step - accuracy: 0.8974 - loss: 0.2663 - val_accuracy: 0.9375 - val_loss: 0.1753\n",
      "Epoch 56/100\n",
      "\u001b[1m10/10\u001b[0m \u001b[32m━━━━━━━━━━━━━━━━━━━━\u001b[0m\u001b[37m\u001b[0m \u001b[1m0s\u001b[0m 5ms/step - accuracy: 0.9017 - loss: 0.2643 - val_accuracy: 0.9375 - val_loss: 0.1754\n",
      "Epoch 57/100\n",
      "\u001b[1m10/10\u001b[0m \u001b[32m━━━━━━━━━━━━━━━━━━━━\u001b[0m\u001b[37m\u001b[0m \u001b[1m0s\u001b[0m 5ms/step - accuracy: 0.8981 - loss: 0.2553 - val_accuracy: 0.9500 - val_loss: 0.1766\n",
      "Epoch 58/100\n",
      "\u001b[1m10/10\u001b[0m \u001b[32m━━━━━━━━━━━━━━━━━━━━\u001b[0m\u001b[37m\u001b[0m \u001b[1m0s\u001b[0m 5ms/step - accuracy: 0.9006 - loss: 0.2596 - val_accuracy: 0.9500 - val_loss: 0.1754\n",
      "Epoch 59/100\n",
      "\u001b[1m10/10\u001b[0m \u001b[32m━━━━━━━━━━━━━━━━━━━━\u001b[0m\u001b[37m\u001b[0m \u001b[1m0s\u001b[0m 5ms/step - accuracy: 0.9168 - loss: 0.2455 - val_accuracy: 0.9375 - val_loss: 0.1733\n",
      "Epoch 60/100\n",
      "\u001b[1m10/10\u001b[0m \u001b[32m━━━━━━━━━━━━━━━━━━━━\u001b[0m\u001b[37m\u001b[0m \u001b[1m0s\u001b[0m 5ms/step - accuracy: 0.9195 - loss: 0.2704 - val_accuracy: 0.9500 - val_loss: 0.1746\n",
      "Epoch 61/100\n",
      "\u001b[1m10/10\u001b[0m \u001b[32m━━━━━━━━━━━━━━━━━━━━\u001b[0m\u001b[37m\u001b[0m \u001b[1m0s\u001b[0m 5ms/step - accuracy: 0.9150 - loss: 0.2505 - val_accuracy: 0.9500 - val_loss: 0.1752\n",
      "Epoch 62/100\n",
      "\u001b[1m10/10\u001b[0m \u001b[32m━━━━━━━━━━━━━━━━━━━━\u001b[0m\u001b[37m\u001b[0m \u001b[1m0s\u001b[0m 5ms/step - accuracy: 0.8875 - loss: 0.2842 - val_accuracy: 0.9500 - val_loss: 0.1753\n",
      "Epoch 63/100\n",
      "\u001b[1m10/10\u001b[0m \u001b[32m━━━━━━━━━━━━━━━━━━━━\u001b[0m\u001b[37m\u001b[0m \u001b[1m0s\u001b[0m 5ms/step - accuracy: 0.8777 - loss: 0.2849 - val_accuracy: 0.9375 - val_loss: 0.1761\n",
      "Epoch 64/100\n",
      "\u001b[1m10/10\u001b[0m \u001b[32m━━━━━━━━━━━━━━━━━━━━\u001b[0m\u001b[37m\u001b[0m \u001b[1m0s\u001b[0m 5ms/step - accuracy: 0.8823 - loss: 0.3138 - val_accuracy: 0.9500 - val_loss: 0.1758\n",
      "Epoch 65/100\n",
      "\u001b[1m10/10\u001b[0m \u001b[32m━━━━━━━━━━━━━━━━━━━━\u001b[0m\u001b[37m\u001b[0m \u001b[1m0s\u001b[0m 5ms/step - accuracy: 0.9089 - loss: 0.2477 - val_accuracy: 0.9500 - val_loss: 0.1745\n",
      "Epoch 66/100\n",
      "\u001b[1m10/10\u001b[0m \u001b[32m━━━━━━━━━━━━━━━━━━━━\u001b[0m\u001b[37m\u001b[0m \u001b[1m0s\u001b[0m 5ms/step - accuracy: 0.9421 - loss: 0.1898 - val_accuracy: 0.9375 - val_loss: 0.1742\n",
      "Epoch 67/100\n",
      "\u001b[1m10/10\u001b[0m \u001b[32m━━━━━━━━━━━━━━━━━━━━\u001b[0m\u001b[37m\u001b[0m \u001b[1m0s\u001b[0m 7ms/step - accuracy: 0.9299 - loss: 0.2190 - val_accuracy: 0.9500 - val_loss: 0.1741\n",
      "Epoch 68/100\n",
      "\u001b[1m10/10\u001b[0m \u001b[32m━━━━━━━━━━━━━━━━━━━━\u001b[0m\u001b[37m\u001b[0m \u001b[1m0s\u001b[0m 6ms/step - accuracy: 0.9048 - loss: 0.2556 - val_accuracy: 0.9375 - val_loss: 0.1763\n",
      "Epoch 69/100\n",
      "\u001b[1m10/10\u001b[0m \u001b[32m━━━━━━━━━━━━━━━━━━━━\u001b[0m\u001b[37m\u001b[0m \u001b[1m0s\u001b[0m 6ms/step - accuracy: 0.8923 - loss: 0.2645 - val_accuracy: 0.9375 - val_loss: 0.1763\n",
      "Epoch 70/100\n",
      "\u001b[1m10/10\u001b[0m \u001b[32m━━━━━━━━━━━━━━━━━━━━\u001b[0m\u001b[37m\u001b[0m \u001b[1m0s\u001b[0m 5ms/step - accuracy: 0.9116 - loss: 0.2552 - val_accuracy: 0.9375 - val_loss: 0.1762\n",
      "Epoch 71/100\n",
      "\u001b[1m10/10\u001b[0m \u001b[32m━━━━━━━━━━━━━━━━━━━━\u001b[0m\u001b[37m\u001b[0m \u001b[1m0s\u001b[0m 5ms/step - accuracy: 0.9053 - loss: 0.2442 - val_accuracy: 0.9500 - val_loss: 0.1750\n",
      "Epoch 72/100\n",
      "\u001b[1m10/10\u001b[0m \u001b[32m━━━━━━━━━━━━━━━━━━━━\u001b[0m\u001b[37m\u001b[0m \u001b[1m0s\u001b[0m 5ms/step - accuracy: 0.9024 - loss: 0.2484 - val_accuracy: 0.9375 - val_loss: 0.1756\n",
      "Epoch 73/100\n",
      "\u001b[1m10/10\u001b[0m \u001b[32m━━━━━━━━━━━━━━━━━━━━\u001b[0m\u001b[37m\u001b[0m \u001b[1m0s\u001b[0m 5ms/step - accuracy: 0.8941 - loss: 0.2625 - val_accuracy: 0.9375 - val_loss: 0.1752\n",
      "Epoch 74/100\n",
      "\u001b[1m10/10\u001b[0m \u001b[32m━━━━━━━━━━━━━━━━━━━━\u001b[0m\u001b[37m\u001b[0m \u001b[1m0s\u001b[0m 5ms/step - accuracy: 0.8841 - loss: 0.2713 - val_accuracy: 0.9375 - val_loss: 0.1743\n",
      "Epoch 75/100\n",
      "\u001b[1m10/10\u001b[0m \u001b[32m━━━━━━━━━━━━━━━━━━━━\u001b[0m\u001b[37m\u001b[0m \u001b[1m0s\u001b[0m 6ms/step - accuracy: 0.8993 - loss: 0.2623 - val_accuracy: 0.9375 - val_loss: 0.1766\n",
      "Epoch 76/100\n",
      "\u001b[1m10/10\u001b[0m \u001b[32m━━━━━━━━━━━━━━━━━━━━\u001b[0m\u001b[37m\u001b[0m \u001b[1m0s\u001b[0m 6ms/step - accuracy: 0.9101 - loss: 0.2524 - val_accuracy: 0.9375 - val_loss: 0.1765\n",
      "Epoch 77/100\n",
      "\u001b[1m10/10\u001b[0m \u001b[32m━━━━━━━━━━━━━━━━━━━━\u001b[0m\u001b[37m\u001b[0m \u001b[1m0s\u001b[0m 5ms/step - accuracy: 0.8916 - loss: 0.2704 - val_accuracy: 0.9375 - val_loss: 0.1766\n",
      "Epoch 78/100\n",
      "\u001b[1m10/10\u001b[0m \u001b[32m━━━━━━━━━━━━━━━━━━━━\u001b[0m\u001b[37m\u001b[0m \u001b[1m0s\u001b[0m 5ms/step - accuracy: 0.8969 - loss: 0.2677 - val_accuracy: 0.9375 - val_loss: 0.1773\n",
      "Epoch 79/100\n",
      "\u001b[1m10/10\u001b[0m \u001b[32m━━━━━━━━━━━━━━━━━━━━\u001b[0m\u001b[37m\u001b[0m \u001b[1m0s\u001b[0m 5ms/step - accuracy: 0.9025 - loss: 0.2572 - val_accuracy: 0.9500 - val_loss: 0.1747\n",
      "Epoch 80/100\n",
      "\u001b[1m10/10\u001b[0m \u001b[32m━━━━━━━━━━━━━━━━━━━━\u001b[0m\u001b[37m\u001b[0m \u001b[1m0s\u001b[0m 5ms/step - accuracy: 0.9172 - loss: 0.2179 - val_accuracy: 0.9375 - val_loss: 0.1761\n",
      "Epoch 81/100\n",
      "\u001b[1m10/10\u001b[0m \u001b[32m━━━━━━━━━━━━━━━━━━━━\u001b[0m\u001b[37m\u001b[0m \u001b[1m0s\u001b[0m 5ms/step - accuracy: 0.9235 - loss: 0.2179 - val_accuracy: 0.9375 - val_loss: 0.1751\n",
      "Epoch 82/100\n",
      "\u001b[1m10/10\u001b[0m \u001b[32m━━━━━━━━━━━━━━━━━━━━\u001b[0m\u001b[37m\u001b[0m \u001b[1m0s\u001b[0m 5ms/step - accuracy: 0.9091 - loss: 0.2463 - val_accuracy: 0.9375 - val_loss: 0.1755\n",
      "Epoch 83/100\n",
      "\u001b[1m10/10\u001b[0m \u001b[32m━━━━━━━━━━━━━━━━━━━━\u001b[0m\u001b[37m\u001b[0m \u001b[1m0s\u001b[0m 5ms/step - accuracy: 0.9064 - loss: 0.2486 - val_accuracy: 0.9375 - val_loss: 0.1762\n",
      "Epoch 84/100\n",
      "\u001b[1m10/10\u001b[0m \u001b[32m━━━━━━━━━━━━━━━━━━━━\u001b[0m\u001b[37m\u001b[0m \u001b[1m0s\u001b[0m 5ms/step - accuracy: 0.8990 - loss: 0.2424 - val_accuracy: 0.9375 - val_loss: 0.1765\n",
      "Epoch 85/100\n",
      "\u001b[1m10/10\u001b[0m \u001b[32m━━━━━━━━━━━━━━━━━━━━\u001b[0m\u001b[37m\u001b[0m \u001b[1m0s\u001b[0m 5ms/step - accuracy: 0.9055 - loss: 0.2531 - val_accuracy: 0.9375 - val_loss: 0.1762\n",
      "Epoch 86/100\n",
      "\u001b[1m10/10\u001b[0m \u001b[32m━━━━━━━━━━━━━━━━━━━━\u001b[0m\u001b[37m\u001b[0m \u001b[1m0s\u001b[0m 6ms/step - accuracy: 0.9080 - loss: 0.2574 - val_accuracy: 0.9375 - val_loss: 0.1766\n",
      "Epoch 87/100\n",
      "\u001b[1m10/10\u001b[0m \u001b[32m━━━━━━━━━━━━━━━━━━━━\u001b[0m\u001b[37m\u001b[0m \u001b[1m0s\u001b[0m 5ms/step - accuracy: 0.8975 - loss: 0.2622 - val_accuracy: 0.9375 - val_loss: 0.1755\n",
      "Epoch 88/100\n",
      "\u001b[1m10/10\u001b[0m \u001b[32m━━━━━━━━━━━━━━━━━━━━\u001b[0m\u001b[37m\u001b[0m \u001b[1m0s\u001b[0m 5ms/step - accuracy: 0.9105 - loss: 0.2547 - val_accuracy: 0.9375 - val_loss: 0.1770\n",
      "Epoch 89/100\n",
      "\u001b[1m10/10\u001b[0m \u001b[32m━━━━━━━━━━━━━━━━━━━━\u001b[0m\u001b[37m\u001b[0m \u001b[1m0s\u001b[0m 5ms/step - accuracy: 0.8952 - loss: 0.2830 - val_accuracy: 0.9375 - val_loss: 0.1766\n",
      "Epoch 90/100\n",
      "\u001b[1m10/10\u001b[0m \u001b[32m━━━━━━━━━━━━━━━━━━━━\u001b[0m\u001b[37m\u001b[0m \u001b[1m0s\u001b[0m 5ms/step - accuracy: 0.8914 - loss: 0.2855 - val_accuracy: 0.9375 - val_loss: 0.1782\n",
      "Epoch 91/100\n",
      "\u001b[1m10/10\u001b[0m \u001b[32m━━━━━━━━━━━━━━━━━━━━\u001b[0m\u001b[37m\u001b[0m \u001b[1m0s\u001b[0m 5ms/step - accuracy: 0.9140 - loss: 0.2436 - val_accuracy: 0.9375 - val_loss: 0.1757\n",
      "Epoch 92/100\n",
      "\u001b[1m10/10\u001b[0m \u001b[32m━━━━━━━━━━━━━━━━━━━━\u001b[0m\u001b[37m\u001b[0m \u001b[1m0s\u001b[0m 5ms/step - accuracy: 0.9399 - loss: 0.1849 - val_accuracy: 0.9375 - val_loss: 0.1748\n",
      "Epoch 93/100\n",
      "\u001b[1m10/10\u001b[0m \u001b[32m━━━━━━━━━━━━━━━━━━━━\u001b[0m\u001b[37m\u001b[0m \u001b[1m0s\u001b[0m 7ms/step - accuracy: 0.9163 - loss: 0.2320 - val_accuracy: 0.9375 - val_loss: 0.1762\n",
      "Epoch 94/100\n",
      "\u001b[1m10/10\u001b[0m \u001b[32m━━━━━━━━━━━━━━━━━━━━\u001b[0m\u001b[37m\u001b[0m \u001b[1m0s\u001b[0m 5ms/step - accuracy: 0.9001 - loss: 0.2473 - val_accuracy: 0.9375 - val_loss: 0.1756\n",
      "Epoch 95/100\n",
      "\u001b[1m10/10\u001b[0m \u001b[32m━━━━━━━━━━━━━━━━━━━━\u001b[0m\u001b[37m\u001b[0m \u001b[1m0s\u001b[0m 5ms/step - accuracy: 0.9020 - loss: 0.2666 - val_accuracy: 0.9375 - val_loss: 0.1768\n",
      "Epoch 96/100\n",
      "\u001b[1m10/10\u001b[0m \u001b[32m━━━━━━━━━━━━━━━━━━━━\u001b[0m\u001b[37m\u001b[0m \u001b[1m0s\u001b[0m 5ms/step - accuracy: 0.9163 - loss: 0.2396 - val_accuracy: 0.9375 - val_loss: 0.1756\n",
      "Epoch 97/100\n",
      "\u001b[1m10/10\u001b[0m \u001b[32m━━━━━━━━━━━━━━━━━━━━\u001b[0m\u001b[37m\u001b[0m \u001b[1m0s\u001b[0m 5ms/step - accuracy: 0.9061 - loss: 0.2560 - val_accuracy: 0.9375 - val_loss: 0.1780\n",
      "Epoch 98/100\n",
      "\u001b[1m10/10\u001b[0m \u001b[32m━━━━━━━━━━━━━━━━━━━━\u001b[0m\u001b[37m\u001b[0m \u001b[1m0s\u001b[0m 5ms/step - accuracy: 0.8748 - loss: 0.3169 - val_accuracy: 0.9375 - val_loss: 0.1773\n",
      "Epoch 99/100\n",
      "\u001b[1m10/10\u001b[0m \u001b[32m━━━━━━━━━━━━━━━━━━━━\u001b[0m\u001b[37m\u001b[0m \u001b[1m0s\u001b[0m 5ms/step - accuracy: 0.9179 - loss: 0.2276 - val_accuracy: 0.9375 - val_loss: 0.1757\n",
      "Epoch 100/100\n",
      "\u001b[1m10/10\u001b[0m \u001b[32m━━━━━━━━━━━━━━━━━━━━\u001b[0m\u001b[37m\u001b[0m \u001b[1m0s\u001b[0m 5ms/step - accuracy: 0.8850 - loss: 0.3000 - val_accuracy: 0.9375 - val_loss: 0.1756\n"
     ]
    }
   ],
   "source": [
    "model = Sequential()\n",
    "model.add(Dense(128,activation='relu',input_dim=2))\n",
    "model.add(Dense(1,activation='sigmoid'))\n",
    "model.compile(loss='binary_crossentropy',optimizer='adam',metrics=['accuracy'])\n",
    "history = model.fit(X_train_scaled,y_train,validation_data=(X_test_scaled,y_test),epochs=100)"
   ]
  },
  {
   "cell_type": "code",
   "execution_count": 19,
   "id": "957177ec",
   "metadata": {
    "execution": {
     "iopub.execute_input": "2024-07-08T09:25:26.979402Z",
     "iopub.status.busy": "2024-07-08T09:25:26.978955Z",
     "iopub.status.idle": "2024-07-08T09:25:27.273536Z",
     "shell.execute_reply": "2024-07-08T09:25:27.272356Z"
    },
    "papermill": {
     "duration": 0.368702,
     "end_time": "2024-07-08T09:25:27.276452",
     "exception": false,
     "start_time": "2024-07-08T09:25:26.907750",
     "status": "completed"
    },
    "tags": []
   },
   "outputs": [
    {
     "data": {
      "text/plain": [
       "[<matplotlib.lines.Line2D at 0x7ca730d32590>]"
      ]
     },
     "execution_count": 19,
     "metadata": {},
     "output_type": "execute_result"
    },
    {
     "data": {
      "image/png": "[encoded data removed]",
      "text/plain": [
       "<Figure size 640x480 with 1 Axes>"
      ]
     },
     "metadata": {},
     "output_type": "display_data"
    }
   ],
   "source": [
    "plt.plot(history.history['val_accuracy'])"
   ]
  },
  {
   "cell_type": "code",
   "execution_count": null,
   "id": "cd67edec",
   "metadata": {
    "papermill": {
     "duration": 0.068404,
     "end_time": "2024-07-08T09:25:27.414330",
     "exception": false,
     "start_time": "2024-07-08T09:25:27.345926",
     "status": "completed"
    },
    "tags": []
   },
   "outputs": [],
   "source": []
  }
 ],
 "metadata": {
  "kaggle": {
   "accelerator": "none",
   "dataSources": [
    {
     "datasetId": 1394586,
     "sourceId": 2311467,
     "sourceType": "datasetVersion"
    }
   ],
   "dockerImageVersionId": 30732,
   "isGpuEnabled": false,
   "isInternetEnabled": true,
   "language": "python",
   "sourceType": "notebook"
  },
  "kernelspec": {
   "display_name": "Python 3",
   "language": "python",
   "name": "python3"
  },
  "language_info": {
   "codemirror_mode": {
    "name": "ipython",
    "version": 3
   },
   "file_extension": ".py",
   "mimetype": "text/x-python",
   "name": "python",
   "nbconvert_exporter": "python",
   "pygments_lexer": "ipython3",
   "version": "3.10.13"
  },
  "papermill": {
   "default_parameters": {},
   "duration": 41.833862,
   "end_time": "2024-07-08T09:25:29.209543",
   "environment_variables": {},
   "exception": null,
   "input_path": "__notebook__.ipynb",
   "output_path": "__notebook__.ipynb",
   "parameters": {},
   "start_time": "2024-07-08T09:24:47.375681",
   "version": "2.5.0"
  }
 },
 "nbformat": 4,
 "nbformat_minor": 5
}
